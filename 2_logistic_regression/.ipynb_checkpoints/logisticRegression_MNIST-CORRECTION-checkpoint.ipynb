{
 "cells": [
  {
   "cell_type": "code",
   "execution_count": 1,
   "metadata": {
    "collapsed": false
   },
   "outputs": [
    {
     "name": "stderr",
     "output_type": "stream",
     "text": [
      "Using gpu device 0: GeForce GTX 670MX (CNMeM is enabled with initial size: 10.0% of memory, cuDNN 5105)\n"
     ]
    },
    {
     "name": "stdout",
     "output_type": "stream",
     "text": [
      "Populating the interactive namespace from numpy and matplotlib\n"
     ]
    }
   ],
   "source": [
    "import numpy as np\n",
    "import theano \n",
    "import theano.tensor as T\n",
    "\n",
    "\n",
    "import IPython\n",
    "import matplotlib.pyplot as plt\n",
    "import timeit\n",
    "\n",
    "%pylab inline\n",
    "pylab.rcParams['figure.figsize'] = (6, 4)\n",
    "\n",
    "%matplotlib inline\n",
    "plt.rcParams['figure.figsize'] = (5.0, 4.0) # set default size of plots\n",
    "plt.rcParams['image.interpolation'] = 'nearest'\n",
    "plt.rcParams['image.cmap'] = 'gray'"
   ]
  },
  {
   "cell_type": "markdown",
   "metadata": {
    "collapsed": true
   },
   "source": [
    "# Régression Logistique \n",
    "\n",
    "* Classifieur linéaire \n",
    "* $ x^{i} = (x_{1}, x{_2}, ..., x_{m}) $ le vecteur (ligne) d'entrée (nos données), une image par exemple\n",
    "* Paramètres : une matrice $ W $ et un vecteur ligne $ b $  (ici $\\theta = ( \\ W \\ , \\ b \\ )$)\n",
    "* $ y^{i} \\in \\{1 , 2, ..., K\\}$ , $K$ classes possibles ! \n",
    "\n",
    "$$ \\begin{align} \n",
    "P(Y=i|x, W,b) &= softmax_i(x W + b) \\\\\n",
    "& = \\frac{e^{ x W_i + b_i}}{\\sum_j e^{x W_j + b_j}}\n",
    "\\end{align}$$\n",
    "\n",
    "\n",
    "![Softmax function](../resources/softmax.png )\n",
    "\n",
    "\n",
    "On pour un vecteur d'entrée $x$, connaissant les poids $W$ et $b$ : \n",
    "$$y_{pred} = argmax_i P(Y=i|x,W,b)$$\n",
    "\n",
    "\n",
    "\n",
    "Pour plusieurs images, on définit la fonction de coût comme : \n",
    "$$ E(X,Y,\\theta) = - \\sum_{i=1}^N log( P(Y=y^{(i)}|x^{(i)}, \\theta) ) $$"
   ]
  },
  {
   "cell_type": "markdown",
   "metadata": {},
   "source": [
    "# Mini-batches Stochastic Gradient Descent \n",
    "\n",
    "On ne vas pas calculer l'erreur sur tout le dataset, mais seulement sur un mini-batch de données, c'est à dire quelques exemples (~ 100). \n",
    "\n",
    "On va donc avoir un entrainement de la forme : "
   ]
  },
  {
   "cell_type": "code",
   "execution_count": 2,
   "metadata": {
    "collapsed": false
   },
   "outputs": [
    {
     "ename": "SyntaxError",
     "evalue": "invalid syntax (<ipython-input-2-bf4dac6d4fc7>, line 2)",
     "output_type": "error",
     "traceback": [
      "\u001b[0;36m  File \u001b[0;32m\"<ipython-input-2-bf4dac6d4fc7>\"\u001b[0;36m, line \u001b[0;32m2\u001b[0m\n\u001b[0;31m    X = ....\u001b[0m\n\u001b[0m        ^\u001b[0m\n\u001b[0;31mSyntaxError\u001b[0m\u001b[0;31m:\u001b[0m invalid syntax\n"
     ]
    }
   ],
   "source": [
    "#nos données \n",
    "X = ....\n",
    "Y = ....\n",
    "batch_size = ...\n",
    "\n",
    "n_train_batches = X.shape[0] // batch_size\n",
    "\n",
    "for epoch in range(n_epochs):\n",
    "    \n",
    "    for index in range(n_train_batches):\n",
    "        \n",
    "        X_batch = X[index*batch_size : (index+1)*batch_size]\n",
    "        Y_batch = Y[index*batch_size : (index+1)*batch_size]\n",
    "        loss = f(params, X_batch, Y_batch)\n",
    "        grad_loss_wrt_params = T.grad(.....)\n",
    "        \n",
    "        params = params - learning_rate * d_loss_wrt_params\n",
    "            "
   ]
  },
  {
   "cell_type": "markdown",
   "metadata": {},
   "source": [
    "**Intérêts de la descente du gradient par mini-batch :**\n",
    "* \n",
    "* \n",
    "* \n"
   ]
  },
  {
   "cell_type": "markdown",
   "metadata": {},
   "source": [
    "# Digit Recognizer : classification de carractères manuscrits "
   ]
  },
  {
   "cell_type": "code",
   "execution_count": 2,
   "metadata": {
    "collapsed": false
   },
   "outputs": [
    {
     "name": "stdout",
     "output_type": "stream",
     "text": [
      "((37000, 784), (5000, 784), (28000, 784))\n",
      "((37000,), (5000,))\n"
     ]
    }
   ],
   "source": [
    "## Données d'entrainement, de validation et de test (labels inconnus)\n",
    "X_train = np.load('../data/digit-recognizer/X_train.npy')\n",
    "X_valid = np.load('../data/digit-recognizer/X_valid.npy')\n",
    "X_test = np.load('../data/digit-recognizer/X_test.npy')\n",
    "\n",
    "## Les labels \n",
    "Y_train = np.load('../data/digit-recognizer/y_train.npy')\n",
    "Y_valid = np.load('../data/digit-recognizer/y_valid.npy')\n",
    "\n",
    "print(X_train.shape, X_valid.shape, X_test.shape)\n",
    "print(Y_train.shape, Y_valid.shape)"
   ]
  },
  {
   "cell_type": "markdown",
   "metadata": {
    "collapsed": false
   },
   "source": [
    "---------------------------------------\n",
    "Les images sont déjà sous forme de vecteur 28*28 = 784. \n",
    "\n",
    "37,000 données d'entrainement\n",
    "\n",
    "5,000 données de validation, pour mesurer les performances du classifieur \n",
    "\n",
    "28,000 données à labeliser ! \n",
    "\n",
    "images 28 x 28\n",
    "\n",
    "----------------------------------------"
   ]
  },
  {
   "cell_type": "code",
   "execution_count": 3,
   "metadata": {
    "collapsed": false
   },
   "outputs": [
    {
     "data": {
      "image/png": "[encoded data removed]",
      "text/plain": [
       "<matplotlib.figure.Figure at 0x7f648937eb10>"
      ]
     },
     "metadata": {},
     "output_type": "display_data"
    }
   ],
   "source": [
    "classes = [\"0\", \"1\", \"2\", \"3\", \"4\", \"5\", \"6\", \"7\", \"8\", \"9\"]\n",
    "num_classes = len(classes)\n",
    "samples = 8\n",
    "\n",
    "for y, cls in enumerate(classes):\n",
    "    idxs = np.nonzero([i == y for i in Y_train])\n",
    "    idxs = np.random.choice(idxs[0], samples, replace=False)\n",
    "    for i , idx in enumerate(idxs):\n",
    "        plt_idx = i * num_classes + y + 1\n",
    "        plt.subplot(samples, num_classes, plt_idx)\n",
    "        plt.imshow(X_train[idx].reshape((28, 28)))\n",
    "        plt.axis(\"off\")\n",
    "        if i == 0:\n",
    "            plt.title(cls)\n",
    "        \n",
    "\n",
    "plt.show()"
   ]
  },
  {
   "cell_type": "markdown",
   "metadata": {},
   "source": [
    "# Régression Logistique avec Theano\n",
    "\n",
    "### Créer des variables paratgées (shared variables) pour les données \n",
    "\n",
    "Accélère l'entrainement par mini-batch ! "
   ]
  },
  {
   "cell_type": "code",
   "execution_count": 4,
   "metadata": {
    "collapsed": false
   },
   "outputs": [],
   "source": [
    "X_train_shared =  T.cast(theano.shared(X_train, borrow=True),'float32')\n",
    "Y_train_shared = T.cast(theano.shared(Y_train, borrow=True),'int32')"
   ]
  },
  {
   "cell_type": "markdown",
   "metadata": {},
   "source": [
    "### Paramètres de l'apprentissage"
   ]
  },
  {
   "cell_type": "code",
   "execution_count": 24,
   "metadata": {
    "collapsed": false
   },
   "outputs": [],
   "source": [
    "learning_rate=0.05\n",
    "n_epochs=1000\n",
    "batch_size=256\n",
    "\n",
    "n_train_batches = X_train.shape[0] // batch_size\n",
    "\n",
    "# nb de pixels\n",
    "n_in = 28*28\n",
    "\n",
    "#nb de classes\n",
    "n_out = 10"
   ]
  },
  {
   "cell_type": "markdown",
   "metadata": {},
   "source": [
    "### Construction du modèle \n",
    "\n",
    "Besoin de 3 variables symboliques : \n",
    "* index, qui représente le numéro du batch en cours pendant l'entrainemen\n",
    "* X, qui représente nos données, sous forme d'une matrice -> **une ligne = une image**\n",
    "* Y, qui repésente nos labels, sous forme d'un vecteur d'entiers \n",
    "\n",
    "\n",
    "Astuces : \n",
    "Il existe de nombreux types de variables symboliques !\n",
    "\n",
    "`T.scalar(), T.matrix(), T.vector()`\n",
    "\n",
    "et les variantes avec i et l, pour `int` et `long`\n",
    "\n",
    "`T.iscalar(), T.lscalar(), ..`\n"
   ]
  },
  {
   "cell_type": "code",
   "execution_count": 25,
   "metadata": {
    "collapsed": false
   },
   "outputs": [],
   "source": [
    "index = T.lscalar('index')\n",
    "X = T.matrix('X')\n",
    "Y = T.ivector('Y')\n"
   ]
  },
  {
   "cell_type": "markdown",
   "metadata": {},
   "source": [
    "Paramètres entrainables : W et b\n",
    "Qui sont des variables partagées !\n",
    "\n",
    "Astuce pour créer une variable partagée : \n",
    "\n",
    "``` var = theano.shared( value = var_init, name='var', borrow=True)```\n",
    "\n",
    "Où `var_init` est un tableau `numpy.ndarray` avec `dtype = ... `"
   ]
  },
  {
   "cell_type": "code",
   "execution_count": 26,
   "metadata": {
    "collapsed": false
   },
   "outputs": [],
   "source": [
    "W_init = np.zeros( (n_in, n_out), dtype=theano.config.floatX )\n",
    "W = theano.shared( value = W_init)\n"
   ]
  },
  {
   "cell_type": "code",
   "execution_count": 27,
   "metadata": {
    "collapsed": true
   },
   "outputs": [],
   "source": [
    "b_init = np.zeros( (n_out), dtype=theano.config.floatX )\n",
    "b = theano.shared(value = b_init) "
   ]
  },
  {
   "cell_type": "markdown",
   "metadata": {},
   "source": [
    "On peut maintenant définir $P(Y=i|x, W,b)$ et $y_{pred}$\n",
    "\n",
    "Rappels : \n",
    "`theano.tensor` contient certainement toutes les fonctions nécessaires ! \n",
    "Certaines, qui sont spécifiques aux réseaux de neuronnes se trouvent dans `theano.tensor.nnet`\n",
    "\n",
    "Attention : `*` ne correspond pas au produit matriciel ! \n",
    "\n",
    "\n",
    "Caisse à outils : \n",
    "```\n",
    "T.dot(A,B)\n",
    "T.argmin(A,axis=...) , T.argmax(A,axis=...)\n",
    "T.nnet.softmax(A)\n",
    "T.mean(A) -> Si A est un vecteur, T.mean retourne une variable symbolique scalaire \n",
    "T.neq(r,t)\n",
    "T.log()\n",
    "T.arange()\n",
    "```\n"
   ]
  },
  {
   "cell_type": "code",
   "execution_count": 28,
   "metadata": {
    "collapsed": false
   },
   "outputs": [],
   "source": [
    "# une matrice, où le i-eme vecteur ligne est de taille K et correspond aux probabilités que l'image de la ligne i\n",
    "# de la matrice X appartiennent aux K classes !\n",
    "p_y_given_x = T.nnet.softmax(T.dot(X, W) + b)\n",
    "\n",
    "# un vecteur colonne, où l'élément i correspond à la classe prédite pour l'image de la ligne i de la matrice X ! \n",
    "y_pred = T.argmax(p_y_given_x, axis=1)"
   ]
  },
  {
   "cell_type": "code",
   "execution_count": 29,
   "metadata": {
    "collapsed": true
   },
   "outputs": [],
   "source": [
    "# variable symbolique scalaire, comprise entre 0 et 1, correspondant au taux d'erreur de prédiction\n",
    "# pour les images de la matrice X\n",
    "errors = T.mean(T.neq(y_pred, Y))"
   ]
  },
  {
   "cell_type": "code",
   "execution_count": 30,
   "metadata": {
    "collapsed": false
   },
   "outputs": [],
   "source": [
    "# Variable symbolique scalaire\n",
    "# - log-vraisemblance \n",
    "# première étape : matrice log-probabilité \n",
    "\n",
    "LP = T.log(p_y_given_x)\n",
    "\n",
    "# ne garder que les log-probabilités voulues : \n",
    "\n",
    "cost = cost = -T.mean(LP[T.arange(Y.shape[0]), Y])"
   ]
  },
  {
   "cell_type": "markdown",
   "metadata": {},
   "source": [
    "Pour rappel : \n",
    "$$ E(X,Y,\\theta) = - \\sum_{i=1}^N log( P(Y=y^{(i)}|x^{(i)}, \\theta) ) $$"
   ]
  },
  {
   "cell_type": "code",
   "execution_count": 31,
   "metadata": {
    "collapsed": true
   },
   "outputs": [],
   "source": [
    "# Petit rappel Numpy : "
   ]
  },
  {
   "cell_type": "markdown",
   "metadata": {},
   "source": [
    "#### On peut passer à la compilation de différentes fonctions \n",
    "\n",
    "- Une fonction pour évaluer le modèle, `validation_model`, qui devra calculer le taux d'erreur sur les données de validation \n",
    "\n",
    "- Une fonction pour appliquer le modèle, `test_model`, qui va prédire les classes pour chaque image sur les données de test"
   ]
  },
  {
   "cell_type": "code",
   "execution_count": 32,
   "metadata": {
    "collapsed": false
   },
   "outputs": [],
   "source": [
    "validation_model = theano.function(\n",
    "        inputs=[X,Y],\n",
    "        outputs= errors\n",
    "    )\n",
    "\n",
    "\n",
    "\n",
    "test_model = theano.function(\n",
    "        inputs=[X],\n",
    "        outputs= y_pred\n",
    "    )\n",
    "\n"
   ]
  },
  {
   "cell_type": "markdown",
   "metadata": {},
   "source": [
    "On calcule les gradients selon les paramètres du système :"
   ]
  },
  {
   "cell_type": "code",
   "execution_count": 33,
   "metadata": {
    "collapsed": true
   },
   "outputs": [],
   "source": [
    "g_W = T.grad(cost, W)\n",
    "g_b = T.grad(cost, b)\n",
    "  \n",
    "updates = [(W, W - learning_rate * g_W),\n",
    "               (b, b - learning_rate * g_b)]"
   ]
  },
  {
   "cell_type": "markdown",
   "metadata": {},
   "source": [
    "La fonction `train_model`, calcul le coût (- log-vraisemblance) du mini-batch d'indice `index`, et met à jour à les paramètres $W$ et $b$ : "
   ]
  },
  {
   "cell_type": "code",
   "execution_count": 34,
   "metadata": {
    "collapsed": false
   },
   "outputs": [],
   "source": [
    "train_model = theano.function(\n",
    "        inputs=[index],\n",
    "        outputs=cost,\n",
    "        updates=updates,\n",
    "        givens={\n",
    "            X: X_train_shared[index * batch_size: (index + 1) * batch_size],\n",
    "            Y: Y_train_shared[index * batch_size: (index + 1) * batch_size]\n",
    "        }\n",
    "    )"
   ]
  },
  {
   "cell_type": "code",
   "execution_count": 43,
   "metadata": {
    "collapsed": false
   },
   "outputs": [
    {
     "data": {
      "image/png": "[encoded data removed]",
      "text/plain": [
       "<matplotlib.figure.Figure at 0x7f646cd90ed0>"
      ]
     },
     "metadata": {},
     "output_type": "display_data"
    },
    {
     "name": "stdout",
     "output_type": "stream",
     "text": [
      "Entrainement fini : 7.360000 %\n",
      "en 11 secondes, avec 8.422194 epochs/sec\n"
     ]
    },
    {
     "data": {
      "image/png": "[encoded data removed]",
      "text/plain": [
       "<matplotlib.figure.Figure at 0x7f646cd90ed0>"
      ]
     },
     "metadata": {},
     "output_type": "display_data"
    }
   ],
   "source": [
    "best_validation_loss = np.inf\n",
    "validation_frequency = 2000\n",
    "\n",
    "start_time = timeit.default_timer()\n",
    "for epoch in range(n_epochs):\n",
    "    for minibatch_index in range(n_train_batches):\n",
    "        \n",
    "        minibatch_avg_cost = train_model(minibatch_index)\n",
    "            \n",
    "        # iteration number\n",
    "        iter = (epoch) * n_train_batches + minibatch_index\n",
    "\n",
    "        if (iter + 1) % validation_frequency == 0:\n",
    "            this_validation_loss = validation_model(X_valid,Y_valid.astype('int32'))\n",
    "\n",
    "            pylab.plot([iter], [this_validation_loss], 'bo', label='validation_loss')\n",
    "            IPython.display.clear_output(wait=True)\n",
    "            IPython.display.display(pylab.gcf())\n",
    "        \n",
    "            \n",
    "            if this_validation_loss < best_validation_loss:\n",
    "                best_validation_loss = this_validation_loss\n",
    "\n",
    "end_time = timeit.default_timer()\n",
    "\n",
    "print(( 'Entrainement fini : %f %%') % (best_validation_loss * 100.))\n",
    "    \n",
    "print('en %d secondes, avec %f epochs/sec' % ((end_time - start_time), 1. * epoch / (end_time - start_time)))"
   ]
  },
  {
   "cell_type": "markdown",
   "metadata": {
    "collapsed": true
   },
   "source": [
    "On peut maintenant passer à la prédiction : "
   ]
  },
  {
   "cell_type": "code",
   "execution_count": 36,
   "metadata": {
    "collapsed": false
   },
   "outputs": [
    {
     "data": {
      "text/plain": [
       "<matplotlib.image.AxesImage at 0x7f646aa725d0>"
      ]
     },
     "execution_count": 36,
     "metadata": {},
     "output_type": "execute_result"
    },
    {
     "data": {
      "image/png": "[encoded data removed]",
      "text/plain": [
       "<matplotlib.figure.Figure at 0x7f646cf1ae50>"
      ]
     },
     "metadata": {},
     "output_type": "display_data"
    }
   ],
   "source": [
    "plt.imshow(X_test[5].reshape(28,28))"
   ]
  },
  {
   "cell_type": "code",
   "execution_count": 39,
   "metadata": {
    "collapsed": false
   },
   "outputs": [
    {
     "data": {
      "text/plain": [
       "array([7])"
      ]
     },
     "execution_count": 39,
     "metadata": {},
     "output_type": "execute_result"
    }
   ],
   "source": [
    "test_model(X_test[5].reshape(1,784))"
   ]
  },
  {
   "cell_type": "code",
   "execution_count": 40,
   "metadata": {
    "collapsed": false
   },
   "outputs": [
    {
     "data": {
      "text/plain": [
       "array([2, 0, 9, ..., 3, 9, 2])"
      ]
     },
     "execution_count": 40,
     "metadata": {},
     "output_type": "execute_result"
    }
   ],
   "source": [
    "predictions = test_model(X_test)\n",
    "predictions"
   ]
  },
  {
   "cell_type": "code",
   "execution_count": 41,
   "metadata": {
    "collapsed": false
   },
   "outputs": [],
   "source": [
    "# Pour écrire le fichier .csv pour soumettre ses résultats sur Kaggle ! \n",
    "\n",
    "out_file = open(\"predictions_DIGIT-RECOGNIZER.csv\", \"w\")\n",
    "out_file.write(\"ImageId,Label\\n\")\n",
    "for i in range(len(predictions)):\n",
    "    out_file.write(str(i+1) + \",\" + str(int(predictions[i])) + \"\\n\")\n",
    "out_file.close()\n",
    "    "
   ]
  },
  {
   "cell_type": "code",
   "execution_count": null,
   "metadata": {
    "collapsed": true
   },
   "outputs": [],
   "source": []
  }
 ],
 "metadata": {
  "kernelspec": {
   "display_name": "Python 2",
   "language": "python",
   "name": "python2"
  },
  "language_info": {
   "codemirror_mode": {
    "name": "ipython",
    "version": 2
   },
   "file_extension": ".py",
   "mimetype": "text/x-python",
   "name": "python",
   "nbconvert_exporter": "python",
   "pygments_lexer": "ipython2",
   "version": "2.7.6"
  }
 },
 "nbformat": 4,
 "nbformat_minor": 1
}
