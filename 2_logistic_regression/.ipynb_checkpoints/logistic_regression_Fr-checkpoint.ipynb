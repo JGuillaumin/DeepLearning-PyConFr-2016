{
 "cells": [
  {
   "cell_type": "code",
   "execution_count": null,
   "metadata": {
    "collapsed": false
   },
   "outputs": [],
   "source": [
    "import theano\n",
    "import theano.tensor as T\n",
    "\n",
    "import numpy as np\n",
    "\n",
    "import tqdm\n",
    "from tqdm import tnrange, tqdm_notebook, tqdm\n",
    "\n",
    "import timeit"
   ]
  },
  {
   "cell_type": "code",
   "execution_count": null,
   "metadata": {
    "collapsed": false
   },
   "outputs": [],
   "source": [
    "train = np.load('train.npy').reshape(25000,28*28)\n",
    "test = np.load('test.npy').reshape(12500,28*28)\n",
    "label = np.load('label.npy')\n",
    "print(train.shape)\n",
    "print(test.shape)\n",
    "print(label.shape)\n"
   ]
  },
  {
   "cell_type": "code",
   "execution_count": null,
   "metadata": {
    "collapsed": true
   },
   "outputs": [],
   "source": [
    "learning_rate=0.1\n",
    "n_epochs=1500\n",
    "batch_size=300"
   ]
  },
  {
   "cell_type": "code",
   "execution_count": null,
   "metadata": {
    "collapsed": false
   },
   "outputs": [],
   "source": [
    "valid_set_x =  theano.shared(np.asarray(train[:2000],dtype=theano.config.floatX), borrow=True)\n",
    "valid_set_y = T.cast(theano.shared(np.asarray(label[:2000],dtype=theano.config.floatX), borrow=True),'int32')\n",
    "\n",
    "train_set_x = theano.shared(np.asarray(train[2000:],dtype=theano.config.floatX), borrow=True)\n",
    "train_set_y = T.cast(theano.shared(np.asarray(label[2000:],dtype=theano.config.floatX), borrow=True),'int32')\n",
    "\n",
    "test_set_x = theano.shared(np.asarray(test,dtype=theano.config.floatX), borrow=True)"
   ]
  },
  {
   "cell_type": "code",
   "execution_count": null,
   "metadata": {
    "collapsed": true
   },
   "outputs": [],
   "source": []
  },
  {
   "cell_type": "code",
   "execution_count": null,
   "metadata": {
    "collapsed": true
   },
   "outputs": [],
   "source": []
  },
  {
   "cell_type": "code",
   "execution_count": null,
   "metadata": {
    "collapsed": false
   },
   "outputs": [],
   "source": [
    "n_train_batches = train_set_x.get_value().shape[0] // batch_size\n",
    "n_valid_batches = valid_set_x.get_value().shape[0] // batch_size"
   ]
  },
  {
   "cell_type": "code",
   "execution_count": null,
   "metadata": {
    "collapsed": true
   },
   "outputs": [],
   "source": [
    "######################\n",
    "# BUILD ACTUAL MODEL #\n",
    "######################"
   ]
  },
  {
   "cell_type": "code",
   "execution_count": null,
   "metadata": {
    "collapsed": true
   },
   "outputs": [],
   "source": [
    "# allocate symbolic variables for the data\n",
    "index = T.lscalar()  # index to a [mini]batch\n",
    "\n",
    "# generate symbolic variables for input (x and y represent a\n",
    "# minibatch)\n",
    "x = T.matrix('x')  # data, presented as rasterized images\n",
    "y = T.ivector('y')  # labels, presented as 1D vector of [int] labels\n",
    "\n",
    "n_in = 28*28\n",
    "n_out = 2"
   ]
  },
  {
   "cell_type": "code",
   "execution_count": null,
   "metadata": {
    "collapsed": false
   },
   "outputs": [],
   "source": [
    "W = theano.shared(\n",
    "            value=np.zeros(\n",
    "                (n_in, n_out),\n",
    "                dtype=theano.config.floatX\n",
    "            ),\n",
    "            name='W',\n",
    "            borrow=True\n",
    "        )"
   ]
  },
  {
   "cell_type": "code",
   "execution_count": null,
   "metadata": {
    "collapsed": true
   },
   "outputs": [],
   "source": [
    "b = theano.shared(\n",
    "            value=np.zeros(\n",
    "                (n_out,),\n",
    "                dtype=theano.config.floatX\n",
    "            ),\n",
    "            name='b',\n",
    "            borrow=True\n",
    "        )"
   ]
  },
  {
   "cell_type": "code",
   "execution_count": null,
   "metadata": {
    "collapsed": false
   },
   "outputs": [],
   "source": [
    "p_y_given_x = T.nnet.softmax(T.dot(x, W) + b)\n",
    "\n",
    "\n",
    "cost = -T.mean(T.log(p_y_given_x)[T.arange(y.shape[0]), y])\n",
    "\n",
    "y_pred = T.argmax(p_y_given_x, axis=1)\n",
    "\n",
    "errors = T.mean(T.neq(y_pred, y))"
   ]
  },
  {
   "cell_type": "code",
   "execution_count": null,
   "metadata": {
    "collapsed": false
   },
   "outputs": [],
   "source": [
    "validate_model = theano.function(\n",
    "        inputs=[index],\n",
    "        outputs=errors,\n",
    "        givens={\n",
    "            x: valid_set_x[index * batch_size: (index + 1) * batch_size],\n",
    "            y: valid_set_y[index * batch_size: (index + 1) * batch_size]\n",
    "        }\n",
    "    )"
   ]
  },
  {
   "cell_type": "code",
   "execution_count": null,
   "metadata": {
    "collapsed": false
   },
   "outputs": [],
   "source": [
    " # compute the gradient of cost with respect to theta = (W,b)\n",
    "g_W = T.grad(cost, W)\n",
    "g_b = T.grad(cost, b)\n",
    "\n",
    "  \n",
    "updates = [(W, W - learning_rate * g_W),\n",
    "               (b, b - learning_rate * g_b)]"
   ]
  },
  {
   "cell_type": "code",
   "execution_count": null,
   "metadata": {
    "collapsed": false
   },
   "outputs": [],
   "source": [
    "train_model = theano.function(\n",
    "        inputs=[index],\n",
    "        outputs=cost,\n",
    "        updates=updates,\n",
    "        givens={\n",
    "            x: train_set_x[index * batch_size: (index + 1) * batch_size],\n",
    "            y: train_set_y[index * batch_size: (index + 1) * batch_size]\n",
    "        }\n",
    "    )"
   ]
  },
  {
   "cell_type": "code",
   "execution_count": null,
   "metadata": {
    "collapsed": false
   },
   "outputs": [],
   "source": [
    "patience = 500 # look as this many examples regardless\n",
    "validation_frequency = min(n_train_batches, patience)\n",
    "                                  # go through this many\n",
    "                                  # minibatche before checking the network\n",
    "                                  # on the validation set; in this case we\n",
    "                                  # check every epoch\n",
    "\n",
    "best_validation_loss = np.inf\n",
    "test_score = 0.\n",
    "\n",
    "epoch = 0"
   ]
  },
  {
   "cell_type": "code",
   "execution_count": null,
   "metadata": {
    "collapsed": false
   },
   "outputs": [],
   "source": [
    "start_time = timeit.default_timer()\n",
    "for epoch in tnrange(n_epochs, desc='epochs'):\n",
    "    for minibatch_index in range(n_train_batches):\n",
    "        minibatch_avg_cost = train_model(minibatch_index)\n",
    "            \n",
    "            # iteration number\n",
    "        iter = (epoch) * n_train_batches + minibatch_index\n",
    "\n",
    "        if (iter + 1) % validation_frequency == 0:\n",
    "                # compute zero-one loss on validation set\n",
    "            validation_losses = [validate_model(i)\n",
    "                                     for i in range(n_valid_batches)]\n",
    "            this_validation_loss = np.mean(validation_losses)\n",
    "\n",
    "            print('epoch %i, minibatch %i/%i, validation error %f %%' %(epoch, minibatch_index + 1, n_train_batches,\n",
    "                        this_validation_loss * 100.))\n",
    "\n",
    "            # if we got the best validation score until now\n",
    "            if this_validation_loss < best_validation_loss:\n",
    "\n",
    "                best_validation_loss = this_validation_loss\n",
    "                    # test it on \n",
    "end_time = timeit.default_timer()\n",
    "print(( 'Optimization complete with best validation score of %f %%')\n",
    "        % (best_validation_loss * 100.))\n",
    "    \n",
    "print('The code run for %d epochs, with %f epochs/sec' % (epoch, 1. * epoch / (end_time - start_time)))"
   ]
  },
  {
   "cell_type": "code",
   "execution_count": null,
   "metadata": {
    "collapsed": true
   },
   "outputs": [],
   "source": []
  }
 ],
 "metadata": {
  "kernelspec": {
   "display_name": "Python 3",
   "language": "python",
   "name": "python3"
  },
  "language_info": {
   "codemirror_mode": {
    "name": "ipython",
    "version": 3
   },
   "file_extension": ".py",
   "mimetype": "text/x-python",
   "name": "python",
   "nbconvert_exporter": "python",
   "pygments_lexer": "ipython3",
   "version": "3.4.3"
  },
  "widgets": {
   "state": {
    "0068c194f42143278e330245d9f8d9ed": {
     "views": [
      {
       "cell_index": 16
      }
     ]
    },
    "016f313b43e84b5ca563f9f3f4ec4336": {
     "views": [
      {
       "cell_index": 16
      }
     ]
    },
    "02c65792147e4fc3afa08a983850a854": {
     "views": [
      {
       "cell_index": 16
      }
     ]
    },
    "0485a6269aeb42e4b76cb6aad54c4c1b": {
     "views": [
      {
       "cell_index": 16
      }
     ]
    },
    "05f8ea1018b14e63b841549eed33e452": {
     "views": [
      {
       "cell_index": 16
      }
     ]
    },
    "0619ba8412a5480dbc0cd58f04d9565e": {
     "views": [
      {
       "cell_index": 16
      }
     ]
    },
    "075a1613eabb4a88a48ff46a257e6615": {
     "views": [
      {
       "cell_index": 16
      }
     ]
    },
    "08f4a301dd2c4ccba86f53972c4baa67": {
     "views": [
      {
       "cell_index": 16
      }
     ]
    },
    "0b64061aebd54a588f2798e93051f8a3": {
     "views": [
      {
       "cell_index": 16
      }
     ]
    },
    "0c002a63e75d4f77b3f8eb25bb6f21e2": {
     "views": [
      {
       "cell_index": 16
      }
     ]
    },
    "0e1029a374d74bf5832cf95193f11ce6": {
     "views": [
      {
       "cell_index": 16
      }
     ]
    },
    "0e246e9b0c694f4aaeb5ef42f82e48ca": {
     "views": [
      {
       "cell_index": 16
      }
     ]
    },
    "1305d4b3f6034fcab4aed9250c728c56": {
     "views": [
      {
       "cell_index": 16
      }
     ]
    },
    "14ef4a195b9f4579a977ed576fd86855": {
     "views": [
      {
       "cell_index": 16
      }
     ]
    },
    "1a40ad0948674a66a351611bde7cd63b": {
     "views": [
      {
       "cell_index": 16
      }
     ]
    },
    "1a95fe87ed1340a8a5c0b06f044ddbb1": {
     "views": [
      {
       "cell_index": 16
      }
     ]
    },
    "1adef411a9db4b00af8b721cc181d910": {
     "views": [
      {
       "cell_index": 16
      }
     ]
    },
    "1c76293c2ae140238ec730297af61a28": {
     "views": [
      {
       "cell_index": 16
      }
     ]
    },
    "1ce14c0293fe4722897b5313a97ebdf3": {
     "views": [
      {
       "cell_index": 16
      }
     ]
    },
    "1e83df816353480b82a9fafc017d8f76": {
     "views": [
      {
       "cell_index": 16
      }
     ]
    },
    "1f11836130f14963a9e4ee616fa77076": {
     "views": [
      {
       "cell_index": 16
      }
     ]
    },
    "2088e788624e43a5b8a38d9c50852f51": {
     "views": [
      {
       "cell_index": 16
      }
     ]
    },
    "212d7944931d4864af789407a52e1bf5": {
     "views": [
      {
       "cell_index": 16
      }
     ]
    },
    "22e769b7809642a19da895311505b296": {
     "views": [
      {
       "cell_index": 16
      }
     ]
    },
    "23c4177a922a42ab844ae0f86212d629": {
     "views": [
      {
       "cell_index": 16
      }
     ]
    },
    "24896c3dceb2478f84136d4f243b521b": {
     "views": [
      {
       "cell_index": 16
      }
     ]
    },
    "28b4a70eda91419f868e1be0f7330efd": {
     "views": [
      {
       "cell_index": 16
      }
     ]
    },
    "28cae2a437b14476800ac1de34d9f111": {
     "views": [
      {
       "cell_index": 16
      }
     ]
    },
    "299237b6e7254a648e872145c996d713": {
     "views": [
      {
       "cell_index": 16
      }
     ]
    },
    "2ba3cbd506364a65bab677b1137c99d6": {
     "views": [
      {
       "cell_index": 16
      }
     ]
    },
    "2d988e89503244e6a3bff0f065168f65": {
     "views": [
      {
       "cell_index": 16
      }
     ]
    },
    "2dc49de7669648adaf6b5ddf4f5a4999": {
     "views": [
      {
       "cell_index": 16
      }
     ]
    },
    "3079fc3eddbb478f97a5a36136470a93": {
     "views": [
      {
       "cell_index": 16
      }
     ]
    },
    "3095356b5dda4104ba8d4feee9a84082": {
     "views": [
      {
       "cell_index": 16
      }
     ]
    },
    "316da70249ba4f68a8a5000d2702aff1": {
     "views": [
      {
       "cell_index": 16
      }
     ]
    },
    "31e9c6ae67c74c55af05b9de9aa041e8": {
     "views": [
      {
       "cell_index": 16
      }
     ]
    },
    "3238820b1b8c484ab1a45b513f683555": {
     "views": [
      {
       "cell_index": 16
      }
     ]
    },
    "357c1e250cb2402491f6a7a5ff9c0cca": {
     "views": [
      {
       "cell_index": 16
      }
     ]
    },
    "386113ca896447a1af7fe174fadd8505": {
     "views": [
      {
       "cell_index": 16
      }
     ]
    },
    "3ea480087dd94efb954736fa043c2b81": {
     "views": [
      {
       "cell_index": 16
      }
     ]
    },
    "3eaea039565e45d49cb19345ff6d5d97": {
     "views": [
      {
       "cell_index": 16
      }
     ]
    },
    "47d88b320d0c4419a1be4b11d2262f16": {
     "views": [
      {
       "cell_index": 16
      }
     ]
    },
    "49f842b1945e475d896f4772355368eb": {
     "views": [
      {
       "cell_index": 16
      }
     ]
    },
    "4bbda247126641349a3bdb7d74c2c9cb": {
     "views": [
      {
       "cell_index": 16
      }
     ]
    },
    "4cf9196d6bde44f49d30b2bf01f8d09a": {
     "views": [
      {
       "cell_index": 16
      }
     ]
    },
    "4e4452c53f4c4834bd8407e08fa9aa06": {
     "views": [
      {
       "cell_index": 16
      }
     ]
    },
    "4fe5ec30543d4d0eb2a64cb39f45697c": {
     "views": [
      {
       "cell_index": 16
      }
     ]
    },
    "503ff84be32d4775a7b264568d85647b": {
     "views": [
      {
       "cell_index": 16
      }
     ]
    },
    "51960b66bd3c49f8a65b8a66d0c57dde": {
     "views": [
      {
       "cell_index": 16
      }
     ]
    },
    "532aa792f17643469c9370ecb419fbde": {
     "views": [
      {
       "cell_index": 16
      }
     ]
    },
    "53a62ada0d664c1284a3374d80de89c0": {
     "views": [
      {
       "cell_index": 16
      }
     ]
    },
    "5631a31b8f2b4e3ea57c4c499ce204b1": {
     "views": [
      {
       "cell_index": 16
      }
     ]
    },
    "58e9bac0adcc4b51b3faca00fbc8fa29": {
     "views": [
      {
       "cell_index": 16
      }
     ]
    },
    "59bf2dc55b5046379a9b2d1008b6f02d": {
     "views": [
      {
       "cell_index": 16
      }
     ]
    },
    "59dc8e238b3c4c1686c9863c4ecb3ac7": {
     "views": [
      {
       "cell_index": 16
      }
     ]
    },
    "5a3366f516484d58ab3d41b0d2feefa5": {
     "views": [
      {
       "cell_index": 16
      }
     ]
    },
    "5c523ef088ca47b9bd21b3d9991b007a": {
     "views": [
      {
       "cell_index": 16
      }
     ]
    },
    "5cca7c877c1141eab1c7b83bf1a2d0ae": {
     "views": [
      {
       "cell_index": 16
      }
     ]
    },
    "5eb353307c80438fb4c88e11cd91ad0f": {
     "views": [
      {
       "cell_index": 16
      }
     ]
    },
    "5eb4c913a5f14ed6b3845683040a28f1": {
     "views": [
      {
       "cell_index": 16
      }
     ]
    },
    "5f02ae70d5c241a1b862918355845d37": {
     "views": [
      {
       "cell_index": 16
      }
     ]
    },
    "60cece3bd153496ba596103f12724506": {
     "views": [
      {
       "cell_index": 16
      }
     ]
    },
    "6336ba5847774c21b9d4f15409b1bdc0": {
     "views": [
      {
       "cell_index": 16
      }
     ]
    },
    "685a438998ad48e29d2ae93eaf490929": {
     "views": [
      {
       "cell_index": 16
      }
     ]
    },
    "68754092c3044f43ac21039dbc9bf946": {
     "views": [
      {
       "cell_index": 16
      }
     ]
    },
    "687e1f67f7f149cdb55d0fb292f4681c": {
     "views": [
      {
       "cell_index": 16
      }
     ]
    },
    "6962a8d4cfd247d38ceedae45d93fc03": {
     "views": [
      {
       "cell_index": 16
      }
     ]
    },
    "72c04402ed674b2990cef0e11dedfc80": {
     "views": [
      {
       "cell_index": 16
      }
     ]
    },
    "742c576a3a2d4c5da06b8f3fec7c1a56": {
     "views": [
      {
       "cell_index": 16
      }
     ]
    },
    "745f63312db24c88b0a794c5de18fa67": {
     "views": [
      {
       "cell_index": 16
      }
     ]
    },
    "74c409dc78ec4615814b7854b090dc05": {
     "views": [
      {
       "cell_index": 16
      }
     ]
    },
    "78ae67e09abc41438e80818ed62d38f4": {
     "views": [
      {
       "cell_index": 16
      }
     ]
    },
    "7abe5e9ef43b43a2a336fdbba634b500": {
     "views": [
      {
       "cell_index": 16
      }
     ]
    },
    "7b6c9a6d06fe457bac2bf7eafbd495e3": {
     "views": [
      {
       "cell_index": 16
      }
     ]
    },
    "7ce3ae0527974ac09df4dac6b664eceb": {
     "views": [
      {
       "cell_index": 16
      }
     ]
    },
    "7d0c001ffb1c4717912b71bb80088f4f": {
     "views": [
      {
       "cell_index": 16
      }
     ]
    },
    "7d60e73b1c884734ac789119d0ba6a2b": {
     "views": [
      {
       "cell_index": 16
      }
     ]
    },
    "7d6980fa2ca44138b6e9383a018b4d19": {
     "views": [
      {
       "cell_index": 16
      }
     ]
    },
    "83a1f31fd0774149be206d0e9b269296": {
     "views": [
      {
       "cell_index": 16
      }
     ]
    },
    "888e2ec72561490181c43352e92015c6": {
     "views": [
      {
       "cell_index": 16
      }
     ]
    },
    "8cf9e873bdf648f5b16c66e606776a6d": {
     "views": [
      {
       "cell_index": 16
      }
     ]
    },
    "8e6808997d334d4e8f5dd5c1d594aabb": {
     "views": [
      {
       "cell_index": 16
      }
     ]
    },
    "8fbc9eb179344121a57489095c871530": {
     "views": [
      {
       "cell_index": 16
      }
     ]
    },
    "929b1083a1bf428e9150daf639fe5d54": {
     "views": [
      {
       "cell_index": 16
      }
     ]
    },
    "96732070dad14a7ba044854c489f453c": {
     "views": [
      {
       "cell_index": 16
      }
     ]
    },
    "9701e2e8c90d435caa2860669c33b978": {
     "views": [
      {
       "cell_index": 16
      }
     ]
    },
    "971a14d65044416ea0d236e95f6738b0": {
     "views": [
      {
       "cell_index": 16
      }
     ]
    },
    "9e31e74550e645dbbfdcaab16db838c9": {
     "views": [
      {
       "cell_index": 16
      }
     ]
    },
    "9f214a5f7e21421eb304a012efd93e98": {
     "views": [
      {
       "cell_index": 16
      }
     ]
    },
    "9f48bdb300db4829bcac3e52b0f37233": {
     "views": [
      {
       "cell_index": 16
      }
     ]
    },
    "a02b91d1f7cd4b9fba0e92f8c8a56705": {
     "views": [
      {
       "cell_index": 16
      }
     ]
    },
    "a62998a11840421eb304cd4e7891f0fa": {
     "views": [
      {
       "cell_index": 16
      }
     ]
    },
    "a66bd972eae8410f90cb2b3325e24093": {
     "views": [
      {
       "cell_index": 16
      }
     ]
    },
    "aca63dcb848745298f19dc6c959dcfaa": {
     "views": [
      {
       "cell_index": 16
      }
     ]
    },
    "ad1c3bdb8844492ea678f1bd2d11495a": {
     "views": [
      {
       "cell_index": 16
      }
     ]
    },
    "ad2a6d33dd184e8caf6113b573a1b8c0": {
     "views": [
      {
       "cell_index": 16
      }
     ]
    },
    "ad2ec7939d124470a65cf3de40d815a8": {
     "views": [
      {
       "cell_index": 16
      }
     ]
    },
    "ad32aeeb8ff04148bb34d988ea392a32": {
     "views": [
      {
       "cell_index": 16
      }
     ]
    },
    "ad41891b47964f8595b833362005a18b": {
     "views": [
      {
       "cell_index": 16
      }
     ]
    },
    "ae048e156c084e9d846956085fb1484e": {
     "views": [
      {
       "cell_index": 16
      }
     ]
    },
    "b1e89368b8f64b08813ebc495d203ba9": {
     "views": [
      {
       "cell_index": 16
      }
     ]
    },
    "b5bd8febaeb74fc99552230cb3d84012": {
     "views": [
      {
       "cell_index": 16
      }
     ]
    },
    "b914eb28690449d9a6f8954e8839a1f7": {
     "views": [
      {
       "cell_index": 16
      }
     ]
    },
    "b98e798a7b124d28ba53b689d7232e04": {
     "views": [
      {
       "cell_index": 16
      }
     ]
    },
    "b9b19cda6b674676a9f52c15c98d757f": {
     "views": [
      {
       "cell_index": 16
      }
     ]
    },
    "baa0a6e51e914078a5212a458000d4ce": {
     "views": [
      {
       "cell_index": 16
      }
     ]
    },
    "bbed8eef9e5947ab820a3383ce25d0ff": {
     "views": [
      {
       "cell_index": 16
      }
     ]
    },
    "bd5e9608821546be9d6174529d261849": {
     "views": [
      {
       "cell_index": 16
      }
     ]
    },
    "bd6a9000d842450081a0eda38f79cdd6": {
     "views": [
      {
       "cell_index": 16
      }
     ]
    },
    "c083fe4abe374c8ab94b91fefe8d539e": {
     "views": [
      {
       "cell_index": 16
      }
     ]
    },
    "c1e25683b80e472c92778a53b8eddc23": {
     "views": [
      {
       "cell_index": 16
      }
     ]
    },
    "c260e462fd654a2db2103a65f586c846": {
     "views": [
      {
       "cell_index": 16
      }
     ]
    },
    "c55acc70195149d292a605c633171315": {
     "views": [
      {
       "cell_index": 16
      }
     ]
    },
    "c953352ac6e74e0d90839762d7488bdc": {
     "views": [
      {
       "cell_index": 16
      }
     ]
    },
    "cb11655827c940459d6d10affe5b1d83": {
     "views": [
      {
       "cell_index": 16
      }
     ]
    },
    "cd01dbbdb4754f9886b7ec737180b881": {
     "views": [
      {
       "cell_index": 16
      }
     ]
    },
    "ceac62c5847e4100b6052e5cd904d636": {
     "views": [
      {
       "cell_index": 16
      }
     ]
    },
    "ceaf6124b16e46dd99ffd12e7780db57": {
     "views": [
      {
       "cell_index": 16
      }
     ]
    },
    "cf9a2fe0beb8412ea16b616931447324": {
     "views": [
      {
       "cell_index": 16
      }
     ]
    },
    "cfc2ed9f28144fb2b37449eff2502f19": {
     "views": [
      {
       "cell_index": 16
      }
     ]
    },
    "d54da22845084404b967fbb288d0242d": {
     "views": [
      {
       "cell_index": 16
      }
     ]
    },
    "d639da3c1c7447cc9169c06797e59c52": {
     "views": [
      {
       "cell_index": 16
      }
     ]
    },
    "dc6ab29a23024ac0bfc761a5f46df2b8": {
     "views": [
      {
       "cell_index": 16
      }
     ]
    },
    "ddf1c5e33b474ca991580b19bd41a140": {
     "views": [
      {
       "cell_index": 16
      }
     ]
    },
    "df3426eea76d41dc9386b3cb871333a3": {
     "views": [
      {
       "cell_index": 16
      }
     ]
    },
    "df66db8f221442b9b24ad1b465c1cce6": {
     "views": [
      {
       "cell_index": 16
      }
     ]
    },
    "e324a3cf6d0b4c3ab72ef9d217714238": {
     "views": [
      {
       "cell_index": 16
      }
     ]
    },
    "e3664f8c075441c3908f60649591428f": {
     "views": [
      {
       "cell_index": 16
      }
     ]
    },
    "e577758c06bc42d0a92c07be38abd349": {
     "views": [
      {
       "cell_index": 16
      }
     ]
    },
    "e6158222a2ed42448112157dab78779d": {
     "views": [
      {
       "cell_index": 16
      }
     ]
    },
    "ec2942f62e144494a5383d60d1444d3f": {
     "views": [
      {
       "cell_index": 16
      }
     ]
    },
    "ec2eb1df68734b8ab48b3bff0a3cd8d0": {
     "views": [
      {
       "cell_index": 16
      }
     ]
    },
    "ec68df2440f74d43b2f2f9017644d58a": {
     "views": [
      {
       "cell_index": 16
      }
     ]
    },
    "ecfd02ad1deb45c3ac76bc5620b58aa3": {
     "views": [
      {
       "cell_index": 16
      }
     ]
    },
    "f0bcb236f0f94d49b3465f5a10aec517": {
     "views": [
      {
       "cell_index": 16
      }
     ]
    },
    "f42e50c3d0e24b6ea43e9ce478fc6882": {
     "views": [
      {
       "cell_index": 16
      }
     ]
    },
    "f47fedf7c5254597b6a1940673be4a9b": {
     "views": [
      {
       "cell_index": 16
      }
     ]
    },
    "f5279fa9db084f3e968ef3e8bf9c3042": {
     "views": [
      {
       "cell_index": 16
      }
     ]
    },
    "f70d65ddacf4417da14773eb04ca7a1b": {
     "views": [
      {
       "cell_index": 16
      }
     ]
    },
    "fa177a612b7542529a9c4c95f8ace801": {
     "views": [
      {
       "cell_index": 16
      }
     ]
    },
    "fa742159e9e04c88874404b6ca66d999": {
     "views": [
      {
       "cell_index": 16
      }
     ]
    },
    "fbe24339b65643e09faab069143f7bc0": {
     "views": [
      {
       "cell_index": 16
      }
     ]
    },
    "fc49a594fb8947e18a1bf50f4baf8085": {
     "views": [
      {
       "cell_index": 16
      }
     ]
    },
    "fdd478376e8f40aa81b18ffc3328a7bd": {
     "views": [
      {
       "cell_index": 16
      }
     ]
    },
    "fe2b493a9c204653917bf58419255b4a": {
     "views": [
      {
       "cell_index": 16
      }
     ]
    },
    "fec4de988e2c4c2eb2c6b19ff8ae86fc": {
     "views": [
      {
       "cell_index": 16
      }
     ]
    }
   },
   "version": "1.2.0"
  }
 },
 "nbformat": 4,
 "nbformat_minor": 1
}
