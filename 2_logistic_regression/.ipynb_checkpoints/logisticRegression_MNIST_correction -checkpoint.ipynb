{
 "cells": [
  {
   "cell_type": "code",
   "execution_count": 1,
   "metadata": {
    "collapsed": false
   },
   "outputs": [
    {
     "name": "stderr",
     "output_type": "stream",
     "text": [
      "WARNING (theano.sandbox.cuda): CUDA is installed, but device gpu is not available  (error: Unable to get the number of gpus available: unknown error)\n"
     ]
    },
    {
     "name": "stdout",
     "output_type": "stream",
     "text": [
      "Populating the interactive namespace from numpy and matplotlib\n"
     ]
    }
   ],
   "source": [
    "import numpy as np\n",
    "import theano \n",
    "import theano.tensor as T\n",
    "\n",
    "\n",
    "import IPython\n",
    "import matplotlib.pyplot as plt\n",
    "import timeit\n",
    "\n",
    "%pylab inline\n",
    "pylab.rcParams['figure.figsize'] = (6, 4)\n",
    "\n",
    "%matplotlib inline\n",
    "plt.rcParams['figure.figsize'] = (5.0, 4.0) # set default size of plots\n",
    "plt.rcParams['image.interpolation'] = 'nearest'\n",
    "plt.rcParams['image.cmap'] = 'gray'"
   ]
  },
  {
   "cell_type": "markdown",
   "metadata": {
    "collapsed": true
   },
   "source": [
    "# Régression Logistique \n",
    "\n",
    "* Classifieur linéaire \n",
    "* $ x^{i} = (x_{1}, x{_2}, ..., x_{m}) $ le vecteur d'entrée (nos données), une image par exemple\n",
    "* Paramètres : une matrice $ W $ et un vecteur $ b $  (ici $\\theta = ( \\ W \\ , \\ b \\ )$)\n",
    "* $ y^{i} \\in \\{1 , 2, ..., K\\}$ , $K$ classes possibles ! \n",
    "\n",
    "$$ \\begin{align} \n",
    "P(Y=i|x, W,b) &= softmax_i(W x + b) \\\\\n",
    "& = \\frac{e^{W_i x + b_i}}{\\sum_j e^{W_j x + b_j}}\n",
    "\\end{align}$$\n",
    "\n",
    "\n",
    "![Softmax function](../resources/softmax.png )\n",
    "\n",
    "\n",
    "On pour un vecteur d'entrée $x$, connaissant les poids $W$ et $b$ : \n",
    "$$y_{pred} = argmax_i P(Y=i|x,W,b)$$\n",
    "\n",
    "\n",
    "\n",
    "Pour plusieurs images, on définit la fonction de coût comme : \n",
    "$$ E(X,Y,\\theta) = - \\sum_{i=1}^N log( P(Y=y^{(i)}|x^{(i)}, \\theta) ) $$"
   ]
  },
  {
   "cell_type": "markdown",
   "metadata": {},
   "source": [
    "# Mini-batches Stochastic Gradient Descent \n",
    "\n",
    "On ne vas pas calculer l'erreur sur tout le dataset, mais seulement sur un mini-batch de données, c'est à dire quelques exemples (~ 100). \n",
    "\n",
    "On va donc avoir un entrainement de la forme : "
   ]
  },
  {
   "cell_type": "code",
   "execution_count": 2,
   "metadata": {
    "collapsed": false
   },
   "outputs": [
    {
     "ename": "SyntaxError",
     "evalue": "invalid syntax (<ipython-input-2-bf4dac6d4fc7>, line 2)",
     "output_type": "error",
     "traceback": [
      "\u001b[0;36m  File \u001b[0;32m\"<ipython-input-2-bf4dac6d4fc7>\"\u001b[0;36m, line \u001b[0;32m2\u001b[0m\n\u001b[0;31m    X = ....\u001b[0m\n\u001b[0m        ^\u001b[0m\n\u001b[0;31mSyntaxError\u001b[0m\u001b[0;31m:\u001b[0m invalid syntax\n"
     ]
    }
   ],
   "source": [
    "#nos données \n",
    "X = ....\n",
    "Y = ....\n",
    "batch_size = ...\n",
    "\n",
    "n_train_batches = X.shape[0] // batch_size\n",
    "\n",
    "for epoch in range(n_epochs):\n",
    "    \n",
    "    for index in range(n_train_batches):\n",
    "        \n",
    "        X_batch = X[index*batch_size : (index+1)*batch_size]\n",
    "        Y_batch = Y[index*batch_size : (index+1)*batch_size]\n",
    "        loss = f(params, X_batch, Y_batch)\n",
    "        grad_loss_wrt_params = T.grad(.....)\n",
    "        \n",
    "        params = params - learning_rate * d_loss_wrt_params\n",
    "            "
   ]
  },
  {
   "cell_type": "markdown",
   "metadata": {},
   "source": [
    "**Intérêts de la descente du gradient par mini-batch :**\n",
    "* \n",
    "* \n",
    "* \n"
   ]
  },
  {
   "cell_type": "code",
   "execution_count": null,
   "metadata": {
    "collapsed": true
   },
   "outputs": [],
   "source": []
  },
  {
   "cell_type": "code",
   "execution_count": null,
   "metadata": {
    "collapsed": true
   },
   "outputs": [],
   "source": []
  },
  {
   "cell_type": "markdown",
   "metadata": {},
   "source": [
    "# Digit Recognizer : classification de carractères manuscrits "
   ]
  },
  {
   "cell_type": "code",
   "execution_count": 3,
   "metadata": {
    "collapsed": false
   },
   "outputs": [
    {
     "name": "stdout",
     "output_type": "stream",
     "text": [
      "((37000, 784), (5000, 784), (28000, 784))\n",
      "((37000,), (5000,))\n"
     ]
    }
   ],
   "source": [
    "## Données d'entrainement, de validation et de test (labels inconnus)\n",
    "X_train = np.load('../data/digit-recognizer/X_train.npy')\n",
    "X_valid = np.load('../data/digit-recognizer/X_valid.npy')\n",
    "X_test = np.load('../data/digit-recognizer/X_test.npy')\n",
    "\n",
    "## Les labels \n",
    "Y_train = np.load('../data/digit-recognizer/y_train.npy')\n",
    "Y_valid = np.load('../data/digit-recognizer/y_valid.npy')\n",
    "\n",
    "print(X_train.shape, X_valid.shape, X_test.shape)\n",
    "print(Y_train.shape, Y_valid.shape)"
   ]
  },
  {
   "cell_type": "markdown",
   "metadata": {
    "collapsed": false
   },
   "source": [
    "---------------------------------------\n",
    "Les images sont déjà sous forme de vecteur 28*28 = 784. \n",
    "\n",
    "37,000 données d'entrainement\n",
    "\n",
    "5,000 données de validation, pour mesurer les performances du classifieur \n",
    "\n",
    "28,000 données à labeliser ! \n",
    "\n",
    "images 28 x 28\n",
    "\n",
    "----------------------------------------"
   ]
  },
  {
   "cell_type": "code",
   "execution_count": 4,
   "metadata": {
    "collapsed": false
   },
   "outputs": [
    {
     "data": {
      "image/png": "[encoded data removed]",
      "text/plain": [
       "<matplotlib.figure.Figure at 0x7febd22d5fd0>"
      ]
     },
     "metadata": {},
     "output_type": "display_data"
    }
   ],
   "source": [
    "classes = [\"0\", \"1\", \"2\", \"3\", \"4\", \"5\", \"6\", \"7\", \"8\", \"9\"]\n",
    "num_classes = len(classes)\n",
    "samples = 8\n",
    "\n",
    "for y, cls in enumerate(classes):\n",
    "    idxs = np.nonzero([i == y for i in Y_train])\n",
    "    idxs = np.random.choice(idxs[0], samples, replace=False)\n",
    "    for i , idx in enumerate(idxs):\n",
    "        plt_idx = i * num_classes + y + 1\n",
    "        plt.subplot(samples, num_classes, plt_idx)\n",
    "        plt.imshow(X_train[idx].reshape((28, 28)))\n",
    "        plt.axis(\"off\")\n",
    "        if i == 0:\n",
    "            plt.title(cls)\n",
    "        \n",
    "\n",
    "plt.show()"
   ]
  },
  {
   "cell_type": "markdown",
   "metadata": {},
   "source": [
    "# Régression Logistique avec Theano\n",
    "\n",
    "### Créer des variables paratgées (shared variables) pour les données \n",
    "\n",
    "Accélère l'entrainement par mini-batch ! "
   ]
  },
  {
   "cell_type": "code",
   "execution_count": 7,
   "metadata": {
    "collapsed": false
   },
   "outputs": [],
   "source": [
    "X_train_shared =  T.cast(theano.shared(X_train, borrow=True),'float32')\n",
    "Y_train_shared = T.cast(theano.shared(Y_train, borrow=True),'int32')\n",
    "\n",
    "X_valid_shared =  T.cast(theano.shared(X_valid, borrow=True),'float32')\n",
    "Y_valid_shared = T.cast(theano.shared(Y_valid, borrow=True),'int32')\n",
    "\n",
    "X_test_shared = T.cast(theano.shared(X_test, borrow=True),'float32')"
   ]
  },
  {
   "cell_type": "markdown",
   "metadata": {},
   "source": [
    "### Paramètres de l'apprentissage"
   ]
  },
  {
   "cell_type": "code",
   "execution_count": 9,
   "metadata": {
    "collapsed": false
   },
   "outputs": [],
   "source": [
    "learning_rate=0.01\n",
    "n_epochs=100\n",
    "batch_size=128\n",
    "\n",
    "n_train_batches = X_train.shape[0] // batch_size\n",
    "\n",
    "# nb de pixels\n",
    "n_in = 28*28\n",
    "\n",
    "#nb de classes\n",
    "n_out = 10"
   ]
  },
  {
   "cell_type": "markdown",
   "metadata": {},
   "source": [
    "### Construction du model\n",
    "\n",
    "Besoin de 3 variables symboliques : \n",
    "* index, qui représente le numéro du batch en cours pendant l'entrainemen\n",
    "* X, qui représente nos données, sous forme d'une matrice -> une colonne = une image \n",
    "* Y, qui repésente nos labels, sous forme d'un vecteur d'entiers \n"
   ]
  },
  {
   "cell_type": "code",
   "execution_count": null,
   "metadata": {
    "collapsed": true
   },
   "outputs": [],
   "source": [
    "index = \n",
    "X = \n",
    "Y = \n"
   ]
  },
  {
   "cell_type": "code",
   "execution_count": null,
   "metadata": {
    "collapsed": true
   },
   "outputs": [],
   "source": [
    "W = theano.shared(\n",
    "            value=np.zeros(\n",
    "                (n_in, n_out),\n",
    "                dtype=theano.config.floatX\n",
    "            ),\n",
    "            name='W',\n",
    "            borrow=True\n",
    "        )"
   ]
  },
  {
   "cell_type": "code",
   "execution_count": null,
   "metadata": {
    "collapsed": true
   },
   "outputs": [],
   "source": [
    "b = theano.shared(\n",
    "            value=np.zeros(\n",
    "                (n_out,),\n",
    "                dtype=theano.config.floatX\n",
    "            ),\n",
    "            name='b',\n",
    "            borrow=True\n",
    "        )"
   ]
  },
  {
   "cell_type": "code",
   "execution_count": null,
   "metadata": {
    "collapsed": true
   },
   "outputs": [],
   "source": [
    "p_y_given_x = T.nnet.softmax(T.dot(x, W) + b)\n",
    "\n",
    "cost = -T.mean(T.log(p_y_given_x)[T.arange(y.shape[0]), y])\n",
    "\n",
    "y_pred = T.argmax(p_y_given_x, axis=1)\n",
    "\n",
    "errors = T.mean(T.neq(y_pred, y))"
   ]
  },
  {
   "cell_type": "code",
   "execution_count": null,
   "metadata": {
    "collapsed": false
   },
   "outputs": [],
   "source": [
    "validate_model = theano.function(\n",
    "        inputs=[x,y],\n",
    "        outputs=errors\n",
    "    )"
   ]
  },
  {
   "cell_type": "code",
   "execution_count": null,
   "metadata": {
    "collapsed": true
   },
   "outputs": [],
   "source": [
    "g_W = T.grad(cost, W)\n",
    "g_b = T.grad(cost, b)\n",
    "\n",
    "  \n",
    "updates = [(W, W - learning_rate * g_W),\n",
    "               (b, b - learning_rate * g_b)]"
   ]
  },
  {
   "cell_type": "code",
   "execution_count": null,
   "metadata": {
    "collapsed": true
   },
   "outputs": [],
   "source": [
    "train_model = theano.function(\n",
    "        inputs=[index],\n",
    "        outputs=cost,\n",
    "        updates=updates,\n",
    "        givens={\n",
    "            x: X_train_shared[index * batch_size: (index + 1) * batch_size],\n",
    "            y: y_train_shared[index * batch_size: (index + 1) * batch_size]\n",
    "        }\n",
    "    )"
   ]
  },
  {
   "cell_type": "code",
   "execution_count": null,
   "metadata": {
    "collapsed": false
   },
   "outputs": [],
   "source": [
    "best_validation_loss = np.inf\n",
    "validation_frequency = 500\n",
    "\n",
    "start_time = timeit.default_timer()\n",
    "for epoch in range(n_epochs):\n",
    "    for minibatch_index in range(n_train_batches):\n",
    "        minibatch_avg_cost = train_model(minibatch_index)\n",
    "            \n",
    "        # iteration number\n",
    "        iter = (epoch) * n_train_batches + minibatch_index\n",
    "\n",
    "        if (iter + 1) % validation_frequency == 0:\n",
    "                # compute zero-one loss on validation set\n",
    "            #validation_losses = [validate_model(i) for i in range(n_valid_batches)]\n",
    "            this_validation_loss = validate_model(X_valid,y_valid.astype('int32'))*100.\n",
    "\n",
    "            #print('epoch %i, minibatch %i/%i, validation error %f %%' %(epoch, minibatch_index + 1, n_train_batches,\n",
    "                    #this_validation_loss * 100.))\n",
    "\n",
    "            pylab.plot([iter], [this_validation_loss], 'bo', label='validation_loss')\n",
    "            IPython.display.clear_output(wait=True)\n",
    "            IPython.display.display(pylab.gcf())\n",
    "            \n",
    "            \n",
    "            # if we got the best validation score until now\n",
    "            if this_validation_loss < best_validation_loss:\n",
    "\n",
    "                best_validation_loss = this_validation_loss\n",
    "                    # test it on \n",
    "end_time = timeit.default_timer()\n",
    "\n",
    "print(( 'Optimization complete with best validation score of %f %%')\n",
    "        % (best_validation_loss * 100.))\n",
    "    \n",
    "print('The code run for %d epochs, with %f epochs/sec' % (epoch, 1. * epoch / (end_time - start_time)))"
   ]
  },
  {
   "cell_type": "code",
   "execution_count": null,
   "metadata": {
    "collapsed": true
   },
   "outputs": [],
   "source": [
    "test_model = theano.function(\n",
    "        inputs=[x],\n",
    "        outputs=y_pred\n",
    "    )"
   ]
  },
  {
   "cell_type": "code",
   "execution_count": null,
   "metadata": {
    "collapsed": false
   },
   "outputs": [],
   "source": [
    "predictions = test_model(X_test)\n",
    "predictions"
   ]
  },
  {
   "cell_type": "code",
   "execution_count": null,
   "metadata": {
    "collapsed": false
   },
   "outputs": [],
   "source": [
    "\n",
    "out_file = open(\"predictions.csv\", \"w\")\n",
    "out_file.write(\"ImageId,Label\\n\")\n",
    "for i in range(len(predictions)):\n",
    "    out_file.write(str(i+1) + \",\" + str(int(predictions[i])) + \"\\n\")\n",
    "out_file.close()\n",
    "    "
   ]
  },
  {
   "cell_type": "code",
   "execution_count": null,
   "metadata": {
    "collapsed": true
   },
   "outputs": [],
   "source": []
  }
 ],
 "metadata": {
  "kernelspec": {
   "display_name": "Python 2",
   "language": "python",
   "name": "python2"
  },
  "language_info": {
   "codemirror_mode": {
    "name": "ipython",
    "version": 2
   },
   "file_extension": ".py",
   "mimetype": "text/x-python",
   "name": "python",
   "nbconvert_exporter": "python",
   "pygments_lexer": "ipython2",
   "version": "2.7.6"
  }
 },
 "nbformat": 4,
 "nbformat_minor": 1
}
