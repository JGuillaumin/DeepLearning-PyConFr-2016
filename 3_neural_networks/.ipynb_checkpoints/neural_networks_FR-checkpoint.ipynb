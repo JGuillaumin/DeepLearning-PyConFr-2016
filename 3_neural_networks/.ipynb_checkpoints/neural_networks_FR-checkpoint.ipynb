{
 "cells": [
  {
   "cell_type": "code",
   "execution_count": 2,
   "metadata": {
    "collapsed": false
   },
   "outputs": [],
   "source": [
    "import theano\n",
    "import theano.tensor as T\n",
    "\n",
    "import numpy as np\n",
    "\n",
    "import tqdm\n",
    "from tqdm import tnrange, tqdm_notebook, tqdm\n",
    "\n",
    "import timeit"
   ]
  },
  {
   "cell_type": "code",
   "execution_count": 3,
   "metadata": {
    "collapsed": false
   },
   "outputs": [
    {
     "name": "stdout",
     "output_type": "stream",
     "text": [
      "(25000, 784)\n",
      "(12500, 784)\n",
      "(25000,)\n"
     ]
    }
   ],
   "source": [
    "train = np.load('train.npy').reshape(25000,28*28)\n",
    "test = np.load('test.npy').reshape(12500,28*28)\n",
    "label = np.load('label.npy')\n",
    "print(train.shape)\n",
    "print(test.shape)\n",
    "print(label.shape)\n"
   ]
  },
  {
   "cell_type": "code",
   "execution_count": 4,
   "metadata": {
    "collapsed": true
   },
   "outputs": [],
   "source": [
    "learning_rate=0.1\n",
    "n_epochs=1500\n",
    "batch_size=300"
   ]
  },
  {
   "cell_type": "code",
   "execution_count": 5,
   "metadata": {
    "collapsed": true
   },
   "outputs": [],
   "source": [
    "valid_set_x =  theano.shared(np.asarray(train[:2000],dtype=theano.config.floatX), borrow=True)\n",
    "valid_set_y = T.cast(theano.shared(np.asarray(label[:2000],dtype=theano.config.floatX), borrow=True),'int32')\n",
    "\n",
    "train_set_x = theano.shared(np.asarray(train[2000:],dtype=theano.config.floatX), borrow=True)\n",
    "train_set_y = T.cast(theano.shared(np.asarray(label[2000:],dtype=theano.config.floatX), borrow=True),'int32')\n",
    "\n",
    "test_set_x = theano.shared(np.asarray(test,dtype=theano.config.floatX), borrow=True)"
   ]
  },
  {
   "cell_type": "code",
   "execution_count": 6,
   "metadata": {
    "collapsed": true
   },
   "outputs": [],
   "source": [
    "n_train_batches = train_set_x.get_value().shape[0] // batch_size\n",
    "n_valid_batches = valid_set_x.get_value().shape[0] // batch_size"
   ]
  },
  {
   "cell_type": "code",
   "execution_count": 8,
   "metadata": {
    "collapsed": true
   },
   "outputs": [],
   "source": [
    "# allocate symbolic variables for the data\n",
    "index = T.lscalar()  # index to a [mini]batch\n",
    "\n",
    "# generate symbolic variables for input (x and y represent a\n",
    "# minibatch)\n",
    "x = T.matrix('x')  # data, presented as rasterized images\n",
    "y = T.ivector('y')  # labels, presented as 1D vector of [int] labels\n",
    "\n",
    "n_in = 28*28\n",
    "\n",
    "n_1 = 1000\n",
    "n_2 = 500\n",
    "n_3 = 250\n",
    "\n",
    "n_out = 2"
   ]
  },
  {
   "cell_type": "code",
   "execution_count": null,
   "metadata": {
    "collapsed": true
   },
   "outputs": [],
   "source": [
    "\n",
    "W_1 = theano.shared(value=np.asarray(\n",
    "                                    rng.uniform( low=-numpy.sqrt(6. / (n_in + n_1)),\n",
    "                                                 high=numpy.sqrt(6. / (n_in + n_1)),\n",
    "                                                size=(n_in, n_1)),\n",
    "                                    dtype=theano.config.floatX),\n",
    "                    name='W_1', borrow=True)\n",
    "\n",
    "        \n",
    "b_1 = theano.shared(value=np.zeros((n_1,), dtype=theano.config.floatX), name='b_1', borrow=True)"
   ]
  }
 ],
 "metadata": {
  "kernelspec": {
   "display_name": "Python 3",
   "language": "python",
   "name": "python3"
  },
  "language_info": {
   "codemirror_mode": {
    "name": "ipython",
    "version": 3
   },
   "file_extension": ".py",
   "mimetype": "text/x-python",
   "name": "python",
   "nbconvert_exporter": "python",
   "pygments_lexer": "ipython3",
   "version": "3.4.3"
  }
 },
 "nbformat": 4,
 "nbformat_minor": 1
}
