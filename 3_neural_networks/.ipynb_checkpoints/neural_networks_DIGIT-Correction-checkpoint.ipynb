{
 "cells": [
  {
   "cell_type": "code",
   "execution_count": 1,
   "metadata": {
    "collapsed": false
   },
   "outputs": [
    {
     "name": "stderr",
     "output_type": "stream",
     "text": [
      "WARNING (theano.sandbox.cuda): CUDA is installed, but device gpu is not available  (error: Unable to get the number of gpus available: unknown error)\n"
     ]
    },
    {
     "name": "stdout",
     "output_type": "stream",
     "text": [
      "Populating the interactive namespace from numpy and matplotlib\n"
     ]
    }
   ],
   "source": [
    "import numpy as np\n",
    "import theano \n",
    "import theano.tensor as T\n",
    "\n",
    "\n",
    "import IPython\n",
    "import matplotlib.pyplot as plt\n",
    "import timeit\n",
    "\n",
    "%pylab inline\n",
    "pylab.rcParams['figure.figsize'] = (6, 4)\n",
    "\n",
    "%matplotlib inline\n",
    "plt.rcParams['figure.figsize'] = (6.0, 5.0) # set default size of plots\n",
    "plt.rcParams['image.interpolation'] = 'nearest'\n",
    "plt.rcParams['image.cmap'] = 'gray'"
   ]
  },
  {
   "cell_type": "markdown",
   "metadata": {
    "collapsed": true
   },
   "source": [
    "# Overfitting et régularisation \n",
    "\n",
    "Overfitting = surapprentissage \n",
    "\n",
    "Le modèle apprend \"par coeur\" les données d'entrainement. \n",
    "Il n'y a plus de généralisation. \n",
    "\n",
    "![Softmax function](../resources/overfitting_s.png )\n",
    "\n",
    "\n",
    "Une technique pour résoudre ce problème : empécher les poids/paramètres d'être trop importants ! \n",
    "\n",
    "On ajoute un terme de régularisation à la fonction de coût : \n",
    "\n",
    "$$ E(X,Y,\\theta) + \\mu_{1} | \\theta | + \\mu_{2} || \\theta ||^2 $$"
   ]
  },
  {
   "cell_type": "code",
   "execution_count": null,
   "metadata": {
    "collapsed": false
   },
   "outputs": [],
   "source": [
    "# Si W_1 et W_2 sont des variables correspondants aux paramètres du modèle \n",
    "L1 = abs(W_1).sum() + abs(W_2).sum() \n",
    "L2 = (W_1**2).sum() + (W_2**2).sum() \n",
    "\n",
    "cost = cost + mu_1*L1 + mu_2*L2"
   ]
  },
  {
   "cell_type": "markdown",
   "metadata": {
    "collapsed": false
   },
   "source": [
    "# Réseaux de neurones "
   ]
  },
  {
   "cell_type": "code",
   "execution_count": 5,
   "metadata": {
    "collapsed": true
   },
   "outputs": [],
   "source": []
  },
  {
   "cell_type": "markdown",
   "metadata": {
    "collapsed": true
   },
   "source": [
    "#### Objectif de cette partie construire un réseau de neurones pour classiffier des caractères manuscrits (Digit-Recognizer de Kaggle)\n",
    "\n",
    "* nombre de classes (sortie du réseau) : 10\n",
    "* entrée du réseau : 28x28 = 784 \n",
    "* trois couches cachées (n_1, n_2, n_3)"
   ]
  },
  {
   "cell_type": "markdown",
   "metadata": {},
   "source": [
    "# Données et paramètres d'apprentissage "
   ]
  },
  {
   "cell_type": "code",
   "execution_count": 2,
   "metadata": {
    "collapsed": false
   },
   "outputs": [
    {
     "name": "stdout",
     "output_type": "stream",
     "text": [
      "((37000, 784), (5000, 784), (28000, 784))\n",
      "((37000,), (5000,))\n"
     ]
    }
   ],
   "source": [
    "## Données d'entrainement, de validation et de test (labels inconnus)\n",
    "X_train = np.load('../data/digit-recognizer/X_train.npy')\n",
    "X_valid = np.load('../data/digit-recognizer/X_valid.npy')\n",
    "X_test = np.load('../data/digit-recognizer/X_test.npy')\n",
    "\n",
    "## Les labels \n",
    "Y_train = np.load('../data/digit-recognizer/y_train.npy')\n",
    "Y_valid = np.load('../data/digit-recognizer/y_valid.npy')\n",
    "\n",
    "print(X_train.shape, X_valid.shape, X_test.shape)\n",
    "print(Y_train.shape, Y_valid.shape)"
   ]
  },
  {
   "cell_type": "code",
   "execution_count": 3,
   "metadata": {
    "collapsed": true
   },
   "outputs": [],
   "source": [
    "X_train_shared =  T.cast(theano.shared(X_train, borrow=True),'float32')\n",
    "Y_train_shared = T.cast(theano.shared(Y_train, borrow=True),'int32')"
   ]
  },
  {
   "cell_type": "code",
   "execution_count": null,
   "metadata": {
    "collapsed": true
   },
   "outputs": [],
   "source": [
    "learning_rate=0.01\n",
    "n_epochs=100\n",
    "batch_size=128\n",
    "\n",
    "n_train_batches = X_train.shape[0] // batch_size\n",
    "\n",
    "mu_1 = 0.0\n",
    "mu_2 = 0.5\n",
    "\n",
    "# nb de pixels\n",
    "n_in = 28*28\n",
    "\n",
    "n_1 = ...\n",
    "n_2 = ...\n",
    "n_3 = ...\n",
    "\n",
    "#nb de classes\n",
    "n_out = 10"
   ]
  },
  {
   "cell_type": "markdown",
   "metadata": {},
   "source": [
    "### Fonction d'activation "
   ]
  },
  {
   "cell_type": "code",
   "execution_count": null,
   "metadata": {
    "collapsed": true
   },
   "outputs": [],
   "source": [
    "# choix de la fonction d'activation : sigmoid, tanh, ReLU \n",
    "# T.nnet.sigmoid, T.nnet.ultra_fast_sigmoid, T.nnet.hard_sigmoid, T.tanh, T.relu ... \n",
    "\n",
    "activation = ....\n",
    "\n",
    "# pour initialiser les poids \n",
    "rng = np.random.RandomState(1234)"
   ]
  },
  {
   "cell_type": "markdown",
   "metadata": {},
   "source": [
    "### Construction du modèle "
   ]
  },
  {
   "cell_type": "code",
   "execution_count": 7,
   "metadata": {
    "collapsed": true
   },
   "outputs": [],
   "source": [
    "# Toujours besoin des 3 mêmes variables symboliques \n",
    "\n",
    "index = ...\n",
    "\n",
    "X = ...\n",
    "Y = ... \n"
   ]
  },
  {
   "cell_type": "markdown",
   "metadata": {
    "collapsed": true
   },
   "source": [
    "\n",
    "Cette fois les poids initiaux ne doivent pas être nuls ! \n",
    "On va utiliser : \n",
    "\n",
    "\n",
    "\n",
    "```\n",
    "rng.uniform( low=-max_val\n",
    "             high=max_val\n",
    "             size=(n_in_layer, n_out_layer)),\n",
    "             dtype=theano.config.floatX)\n",
    "```\n",
    "\n",
    "avec `max_val = np.sqrt(6. / 500)`\n",
    "\n",
    "( ~  Xavier Initialization)\n",
    "\n",
    "\n",
    "\n",
    "### Première couche cachée \n",
    "\n",
    "On va créer deux variables `W_1` et `b_1` (les poids de cette couche).\n",
    "\n",
    "On construit ensuite la sortie de cette couche : `output_1`"
   ]
  },
  {
   "cell_type": "code",
   "execution_count": null,
   "metadata": {
    "collapsed": true
   },
   "outputs": [],
   "source": []
  },
  {
   "cell_type": "code",
   "execution_count": 23,
   "metadata": {
    "collapsed": true
   },
   "outputs": [],
   "source": [
    "W_1 = theano.shared(value=np.asarray(\n",
    "                                    rng.uniform( low=-np.sqrt(6. / (n_in + n_1)),\n",
    "                                                 high=np.sqrt(6. / (n_in + n_1)),\n",
    "                                                size=(n_in, n_1)),\n",
    "                                    dtype=theano.config.floatX),\n",
    "                    name='W_1', borrow=True)\n",
    "\n",
    "        \n",
    "b_1 = theano.shared(value=np.zeros((n_1,), dtype=theano.config.floatX), name='b_1', borrow=True)\n",
    "\n",
    "output_1 = activation(T.dot(x, W_1) + b_1)"
   ]
  },
  {
   "cell_type": "code",
   "execution_count": 24,
   "metadata": {
    "collapsed": true
   },
   "outputs": [],
   "source": [
    "W_2 = theano.shared(value=np.asarray(\n",
    "                                    rng.uniform( low=-np.sqrt(6. / (n_1 + n_2)),\n",
    "                                                 high=np.sqrt(6. / (n_1 + n_2)),\n",
    "                                                size=(n_1, n_2)),\n",
    "                                    dtype=theano.config.floatX),\n",
    "                    name='W_2', borrow=True)\n",
    "\n",
    "        \n",
    "b_2 = theano.shared(value=np.zeros((n_2,), dtype=theano.config.floatX), name='b_2', borrow=True)\n",
    "\n",
    "output_2 = activation(T.dot(output_1, W_2) + b_2)"
   ]
  },
  {
   "cell_type": "code",
   "execution_count": 25,
   "metadata": {
    "collapsed": true
   },
   "outputs": [],
   "source": [
    "W_3 = theano.shared(value=np.asarray(\n",
    "                                    rng.uniform( low=-np.sqrt(6. / (n_2 + n_3)),\n",
    "                                                 high=np.sqrt(6. / (n_2 + n_3)),\n",
    "                                                size=(n_2, n_3)),\n",
    "                                    dtype=theano.config.floatX),\n",
    "                    name='W_3', borrow=True)\n",
    "\n",
    "        \n",
    "b_3 = theano.shared(value=np.zeros((n_3,), dtype=theano.config.floatX), name='b_3', borrow=True)\n",
    "\n",
    "output_3 = activation(T.dot(output_2, W_3) + b_3)"
   ]
  },
  {
   "cell_type": "code",
   "execution_count": 26,
   "metadata": {
    "collapsed": true
   },
   "outputs": [],
   "source": [
    "W_logReg = theano.shared(\n",
    "            value=np.zeros(\n",
    "                (n_3, n_out),\n",
    "                dtype=theano.config.floatX\n",
    "            ),\n",
    "            name='W_logReg',\n",
    "            borrow=True\n",
    "        )\n",
    "b_logReg = theano.shared(\n",
    "            value=np.zeros(\n",
    "                (n_out,),\n",
    "                dtype=theano.config.floatX\n",
    "            ),\n",
    "            name='b_logReg',\n",
    "            borrow=True\n",
    "        )"
   ]
  },
  {
   "cell_type": "code",
   "execution_count": 27,
   "metadata": {
    "collapsed": true
   },
   "outputs": [],
   "source": [
    "L1 = abs(W_1).sum() + abs(W_2).sum() + abs(W_3).sum() + abs(W_logReg).sum() \n",
    "L2 = (W_1**2).sum() + (W_2**2).sum() + (W_3**2).sum() + (W_logReg**2).sum() "
   ]
  },
  {
   "cell_type": "code",
   "execution_count": 28,
   "metadata": {
    "collapsed": false
   },
   "outputs": [],
   "source": [
    "p_y_given_x = T.nnet.softmax(T.dot(output_3, W_logReg) + b_logReg)\n",
    "\n",
    "\n",
    "cost = -T.mean(T.log(p_y_given_x)[T.arange(y.shape[0]), y]) + L1_reg*L1 + L2_reg*L2\n",
    "\n",
    "y_pred = T.argmax(p_y_given_x, axis=1)\n",
    "\n",
    "errors = T.mean(T.neq(y_pred, y))"
   ]
  },
  {
   "cell_type": "code",
   "execution_count": 29,
   "metadata": {
    "collapsed": true
   },
   "outputs": [],
   "source": [
    "validate_model = theano.function(\n",
    "        inputs=[x,y],\n",
    "        outputs=errors\n",
    "    )"
   ]
  },
  {
   "cell_type": "code",
   "execution_count": 30,
   "metadata": {
    "collapsed": true
   },
   "outputs": [],
   "source": [
    "params = [W_1, b_1, W_2, b_2, W_3, b_3, W_logReg, b_logReg]\n",
    "\n",
    "gparams = [T.grad(cost, param) for param in params]\n",
    "\n",
    "updates = [\n",
    "        (param, param - learning_rate * gparam)\n",
    "        for param, gparam in zip(params, gparams)\n",
    "    ]\n",
    "\n",
    "train_model = theano.function(\n",
    "        inputs=[index],\n",
    "        outputs=cost,\n",
    "        updates=updates,\n",
    "        givens={\n",
    "            x: X_train_shared[index * batch_size: (index + 1) * batch_size],\n",
    "            y: y_train_shared[index * batch_size: (index + 1) * batch_size]\n",
    "        }\n",
    "    )"
   ]
  },
  {
   "cell_type": "code",
   "execution_count": 31,
   "metadata": {
    "collapsed": false
   },
   "outputs": [
    {
     "data": {
      "image/png": "[encoded data removed]",
      "text/plain": [
       "<matplotlib.figure.Figure at 0x7f76a91564d0>"
      ]
     },
     "metadata": {},
     "output_type": "display_data"
    },
    {
     "name": "stdout",
     "output_type": "stream",
     "text": [
      "Optimization complete with best validation score of 0.000000 %\n",
      "The code run for 499 epochs, with 1.548423 epochs/sec\n"
     ]
    },
    {
     "data": {
      "image/png": "[encoded data removed]",
      "text/plain": [
       "<matplotlib.figure.Figure at 0x7f76a91564d0>"
      ]
     },
     "metadata": {},
     "output_type": "display_data"
    }
   ],
   "source": [
    "best_validation_loss = np.inf\n",
    "validation_frequency = 500\n",
    "\n",
    "start_time = timeit.default_timer()\n",
    "for epoch in range(n_epochs):\n",
    "    for minibatch_index in range(n_train_batches):\n",
    "        minibatch_avg_cost = train_model(minibatch_index)\n",
    "            \n",
    "        # iteration number\n",
    "        iter = (epoch) * n_train_batches + minibatch_index\n",
    "\n",
    "        if (iter + 1) % validation_frequency == 0:\n",
    "                # compute zero-one loss on validation set\n",
    "            #validation_losses = [validate_model(i) for i in range(n_valid_batches)]\n",
    "            this_validation_loss = validate_model(X_valid,y_valid.astype('int32'))*100.\n",
    "\n",
    "            #print('epoch %i, minibatch %i/%i, validation error %f %%' %(epoch, minibatch_index + 1, n_train_batches,\n",
    "                    #this_validation_loss * 100.))\n",
    "\n",
    "            pylab.plot([iter], [this_validation_loss], 'bo', label='validation_loss')\n",
    "            IPython.display.clear_output(wait=True)\n",
    "            IPython.display.display(pylab.gcf())\n",
    "            \n",
    "            \n",
    "            # if we got the best validation score until now\n",
    "            if this_validation_loss < best_validation_loss:\n",
    "\n",
    "                best_validation_loss = this_validation_loss\n",
    "                    # test it on \n",
    "end_time = timeit.default_timer()\n",
    "\n",
    "print(( 'Optimization complete with best validation score of %f %%')\n",
    "        % (best_validation_loss * 100.))\n",
    "    \n",
    "print('The code run for %d epochs, with %f epochs/sec' % (epoch, 1. * epoch / (end_time - start_time)))"
   ]
  },
  {
   "cell_type": "code",
   "execution_count": 33,
   "metadata": {
    "collapsed": true
   },
   "outputs": [],
   "source": [
    "test_model = theano.function(\n",
    "        inputs=[x],\n",
    "        outputs=y_pred\n",
    "    )"
   ]
  },
  {
   "cell_type": "code",
   "execution_count": 34,
   "metadata": {
    "collapsed": false
   },
   "outputs": [
    {
     "data": {
      "text/plain": [
       "array([2, 0, 9, ..., 3, 9, 2])"
      ]
     },
     "execution_count": 34,
     "metadata": {},
     "output_type": "execute_result"
    }
   ],
   "source": [
    "predictions = test_model(X_test)\n",
    "predictions"
   ]
  },
  {
   "cell_type": "code",
   "execution_count": 35,
   "metadata": {
    "collapsed": true
   },
   "outputs": [],
   "source": [
    "out_file = open(\"predictions.csv\", \"w\")\n",
    "out_file.write(\"ImageId,Label\\n\")\n",
    "for i in range(len(predictions)):\n",
    "    out_file.write(str(i+1) + \",\" + str(int(predictions[i])) + \"\\n\")\n",
    "out_file.close()\n",
    "    "
   ]
  },
  {
   "cell_type": "code",
   "execution_count": null,
   "metadata": {
    "collapsed": true
   },
   "outputs": [],
   "source": []
  }
 ],
 "metadata": {
  "kernelspec": {
   "display_name": "Python 2",
   "language": "python",
   "name": "python2"
  },
  "language_info": {
   "codemirror_mode": {
    "name": "ipython",
    "version": 2
   },
   "file_extension": ".py",
   "mimetype": "text/x-python",
   "name": "python",
   "nbconvert_exporter": "python",
   "pygments_lexer": "ipython2",
   "version": "2.7.6"
  }
 },
 "nbformat": 4,
 "nbformat_minor": 1
}
