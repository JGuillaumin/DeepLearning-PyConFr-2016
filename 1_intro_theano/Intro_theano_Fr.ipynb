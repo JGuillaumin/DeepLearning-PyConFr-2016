{
 "cells": [
  {
   "cell_type": "code",
   "execution_count": 1,
   "metadata": {
    "collapsed": false
   },
   "outputs": [
    {
     "name": "stderr",
     "output_type": "stream",
     "text": [
      "Using gpu device 0: GeForce GTX 670MX (CNMeM is enabled with initial size: 10.0% of memory, cuDNN 5105)\n"
     ]
    },
    {
     "name": "stdout",
     "output_type": "stream",
     "text": [
      "Populating the interactive namespace from numpy and matplotlib\n"
     ]
    }
   ],
   "source": [
    "import theano\n",
    "import theano.tensor as T\n",
    "\n",
    "import IPython \n",
    "from IPython.display import SVG\n",
    "import numpy as np\n",
    "\n",
    "import matplotlib.pyplot as plt\n",
    "import time\n",
    "\n",
    "#cmd for Ipython\n",
    "%matplotlib inline\n",
    "%pylab inline\n",
    "pylab.rcParams['figure.figsize'] = (5, 3.5)\n",
    "\n",
    "#plt.style.use('ggplot')\n",
    "plt.ion()\n"
   ]
  },
  {
   "cell_type": "markdown",
   "metadata": {},
   "source": [
    "* Librairie Python\n",
    "* Définir et évaluer des expressions mathématiques \n",
    "* Représentation d'une expression par un graphe\n",
    "* Générer et compiler du code optimisé pour CPU (C/C++) ou GPU (CUDA)\n",
    "* CPU/GPU transparent pour l'utilisateur\n",
    "* Dérivation automatique (très utile pour le gradient)"
   ]
  },
  {
   "cell_type": "markdown",
   "metadata": {},
   "source": [
    "# Définir une expression entre variables symboliques\n",
    "\n",
    "$$c = \\sqrt{a^2 + b^2}$$"
   ]
  },
  {
   "cell_type": "code",
   "execution_count": 2,
   "metadata": {
    "collapsed": false
   },
   "outputs": [],
   "source": [
    "#Dans cet exemple nous allons utiliser deux matrices (par défaut, des matrics réelles)\n",
    "a = T.matrix('a')\n",
    "b = T.matrix('b')\n",
    "\n",
    "#Expression mathématique entre 'a' et 'b'\n",
    "#En utilisant des opérations entre ces variables symboliques\n",
    "c = T.sqrt((T.sqr(a) + T.sqr(b)))\n",
    "\n",
    "# theano.tensor contient de nombreuses fonctions/opérations entre variables symboliques \n",
    "\n",
    "# 'c' est une nouvelle variable symbolique, qui représente l'expression mathématique voulue\n"
   ]
  },
  {
   "cell_type": "code",
   "execution_count": 3,
   "metadata": {
    "collapsed": false
   },
   "outputs": [],
   "source": [
    "# le module 'theano.function' va générer le code nécessaire à l'expression \n",
    "# puis le compiler et le garder en mémoire, pour appeler directement la fonction\n",
    "# theano.function(inputs=[...], outputs = [....])\n",
    "f = theano.function([a,b],c)"
   ]
  },
  {
   "cell_type": "code",
   "execution_count": 4,
   "metadata": {
    "collapsed": false
   },
   "outputs": [
    {
     "data": {
      "text/plain": [
       "array([[ 2.        ,  5.09901953],\n",
       "       [ 4.4721365 ,  9.43398094]], dtype=float32)"
      ]
     },
     "execution_count": 4,
     "metadata": {},
     "output_type": "execute_result"
    }
   ],
   "source": [
    "#On peut ensuite directement appeler la function 'f'\n",
    "f( [[0,1],[2,8]] , [[2,5],[-4,5]] )"
   ]
  },
  {
   "cell_type": "markdown",
   "metadata": {},
   "source": [
    "## Différentes variables symboliques dans Theano"
   ]
  },
  {
   "cell_type": "markdown",
   "metadata": {},
   "source": [
    "<dl class=\"function\">\n",
    "<dt id=\"theano.tensor.scalar\">\n",
    "<code class=\"descclassname\">theano.tensor.</code><code class=\"descname\">scalar</code><span class=\"sig-paren\">(</span><em>name=None</em>, <em>dtype=config.floatX</em><span class=\"sig-paren\">)</span><a class=\"reference external\" href=\"https://github.com/Theano/theano/blob/8cc53673d7aa37873a753b7f847af4a185298f4d/theano/tensor/basic.py#L816-L830\"><span class=\"viewcode-link\">[source]</span></a><a class=\"headerlink\" href=\"#theano.tensor.scalar\" title=\"Permalink to this definition\">¶</a></dt>\n",
    "<dd><p>Return a Variable for a 0-dimensional ndarray</p>\n",
    "</dd></dl>\n",
    "\n",
    "<dl class=\"function\">\n",
    "<dt id=\"theano.tensor.vector\">\n",
    "<code class=\"descclassname\">theano.tensor.</code><code class=\"descname\">vector</code><span class=\"sig-paren\">(</span><em>name=None</em>, <em>dtype=config.floatX</em><span class=\"sig-paren\">)</span><a class=\"reference external\" href=\"https://github.com/Theano/theano/blob/8cc53673d7aa37873a753b7f847af4a185298f4d/theano/tensor/basic.py#L852-L866\"><span class=\"viewcode-link\">[source]</span></a><a class=\"headerlink\" href=\"#theano.tensor.vector\" title=\"Permalink to this definition\">¶</a></dt>\n",
    "<dd><p>Return a Variable for a 1-dimensional ndarray</p>\n",
    "</dd></dl>\n",
    "\n",
    "<dl class=\"function\">\n",
    "<dt id=\"theano.tensor.row\">\n",
    "<code class=\"descclassname\">theano.tensor.</code><code class=\"descname\">row</code><span class=\"sig-paren\">(</span><em>name=None</em>, <em>dtype=config.floatX</em><span class=\"sig-paren\">)</span><a class=\"reference external\" href=\"https://github.com/Theano/theano/blob/8cc53673d7aa37873a753b7f847af4a185298f4d/theano/tensor/basic.py#L918-L932\"><span class=\"viewcode-link\">[source]</span></a><a class=\"headerlink\" href=\"#theano.tensor.row\" title=\"Permalink to this definition\">¶</a></dt>\n",
    "<dd><p>Return a Variable for a 2-dimensional ndarray\n",
    "in which the number of rows is guaranteed to be 1.</p>\n",
    "</dd></dl>\n",
    "\n",
    "<dl class=\"function\">\n",
    "<dt id=\"theano.tensor.col\">\n",
    "<code class=\"descclassname\">theano.tensor.</code><code class=\"descname\">col</code><span class=\"sig-paren\">(</span><em>name=None</em>, <em>dtype=config.floatX</em><span class=\"sig-paren\">)</span><a class=\"reference external\" href=\"https://github.com/Theano/theano/blob/8cc53673d7aa37873a753b7f847af4a185298f4d/theano/tensor/basic.py#L945-L959\"><span class=\"viewcode-link\">[source]</span></a><a class=\"headerlink\" href=\"#theano.tensor.col\" title=\"Permalink to this definition\">¶</a></dt>\n",
    "<dd><p>Return a Variable for a 2-dimensional ndarray\n",
    "in which the number of columns is guaranteed to be 1.</p>\n",
    "</dd></dl>\n",
    "\n",
    "<dl class=\"function\">\n",
    "<dt id=\"theano.tensor.matrix\">\n",
    "<code class=\"descclassname\">theano.tensor.</code><code class=\"descname\">matrix</code><span class=\"sig-paren\">(</span><em>name=None</em>, <em>dtype=config.floatX</em><span class=\"sig-paren\">)</span><a class=\"reference external\" href=\"https://github.com/Theano/theano/blob/8cc53673d7aa37873a753b7f847af4a185298f4d/theano/tensor/basic.py#L885-L899\"><span class=\"viewcode-link\">[source]</span></a><a class=\"headerlink\" href=\"#theano.tensor.matrix\" title=\"Permalink to this definition\">¶</a></dt>\n",
    "<dd><p>Return a Variable for a 2-dimensional ndarray</p>\n",
    "</dd></dl>\n",
    "\n",
    "<dl class=\"function\">\n",
    "<dt id=\"theano.tensor.tensor3\">\n",
    "<code class=\"descclassname\">theano.tensor.</code><code class=\"descname\">tensor3</code><span class=\"sig-paren\">(</span><em>name=None</em>, <em>dtype=config.floatX</em><span class=\"sig-paren\">)</span><a class=\"reference external\" href=\"https://github.com/Theano/theano/blob/8cc53673d7aa37873a753b7f847af4a185298f4d/theano/tensor/basic.py#L972-L986\"><span class=\"viewcode-link\">[source]</span></a><a class=\"headerlink\" href=\"#theano.tensor.tensor3\" title=\"Permalink to this definition\">¶</a></dt>\n",
    "<dd><p>Return a Variable for a 3-dimensional ndarray</p>\n",
    "</dd></dl>\n",
    "\n",
    "<dl class=\"function\">\n",
    "<dt id=\"theano.tensor.tensor4\">\n",
    "<code class=\"descclassname\">theano.tensor.</code><code class=\"descname\">tensor4</code><span class=\"sig-paren\">(</span><em>name=None</em>, <em>dtype=config.floatX</em><span class=\"sig-paren\">)</span><a class=\"reference external\" href=\"https://github.com/Theano/theano/blob/8cc53673d7aa37873a753b7f847af4a185298f4d/theano/tensor/basic.py#L1001-L1015\"><span class=\"viewcode-link\">[source]</span></a><a class=\"headerlink\" href=\"#theano.tensor.tensor4\" title=\"Permalink to this definition\">¶</a></dt>\n",
    "<dd><p>Return a Variable for a 4-dimensional ndarray</p>\n",
    "</dd></dl>"
   ]
  },
  {
   "cell_type": "markdown",
   "metadata": {},
   "source": [
    "## Différentes opérations entre variables symboliques"
   ]
  },
  {
   "cell_type": "markdown",
   "metadata": {},
   "source": [
    "- ** theano.tensor.dot(X, Y)**\n",
    "    * For 2-D arrays it is equivalent to matrix multiplication, and for 1-D arrays to inner product of vectors\n",
    "- **theano.tensor.exp(a)**\n",
    "   * Returns a variable representing the exponential of a, ie e^a.\n",
    "    \n",
    "- **theano.tensor.maximum(a, b)**\n",
    "   * Returns a variable representing the maximum element by element of a and b\n",
    "\n",
    "- **theano.tensor.minimum(a, b)**\n",
    "   * Returns a variable representing the minimum element by element of a and b\n",
    "\n",
    "- **theano.tensor.neg(a)**\n",
    "   * Returns a variable representing the negation of a (also -a).\n",
    "\n",
    "- **theano.tensor.inv(a)**\n",
    "   * Returns a variable representing the inverse of a, ie 1.0/a. Also called reciprocal.\n",
    "\n",
    "- **theano.tensor.log(a), log2(a), log10(a)**\n",
    "   * Returns a variable representing the base e, 2 or 10 logarithm of a\n",
    "    \n",
    "- **theano.tensor.sqr(a)**\n",
    "  *  Returns a variable representing the square of a, ie a^2.\n",
    "\n",
    "- **theano.tensor.sqrt(a)**\n",
    "   * Returns a variable representing the of a, ie a^0.5.\n",
    "\n",
    "- **theano.tensor.cos(a), sin(a), tan(a)**\n",
    "   * Returns a variable representing the trigonometric functions of a (cosine, sine and tangent).\n",
    "    \n"
   ]
  },
  {
   "cell_type": "markdown",
   "metadata": {},
   "source": [
    "# Phase d'optimisation entre la représentation symbolique et la fonction compilée"
   ]
  },
  {
   "cell_type": "code",
   "execution_count": 5,
   "metadata": {
    "collapsed": false
   },
   "outputs": [
    {
     "data": {
      "image/svg+xml": [
       "<svg height=\"368pt\" viewBox=\"0.00 0.00 655.00 368.00\" width=\"655pt\" xmlns=\"http://www.w3.org/2000/svg\" xmlns:xlink=\"http://www.w3.org/1999/xlink\">\n",
       "<g class=\"graph\" id=\"graph0\" transform=\"scale(1 1) rotate(0) translate(4 364)\">\n",
       "<title>G</title>\n",
       "<polygon fill=\"white\" points=\"-4,4 -4,-364 651,-364 651,4 -4,4\" stroke=\"none\"/>\n",
       "<!-- 140377721498768 -->\n",
       "<g class=\"node\" id=\"node1\"><title>140377721498768</title>\n",
       "<ellipse cx=\"470\" cy=\"-268\" fill=\"#ffaabb\" rx=\"133.333\" ry=\"18\" stroke=\"black\"/>\n",
       "<text font-family=\"Times,serif\" font-size=\"14.00\" text-anchor=\"middle\" x=\"470\" y=\"-264.3\">Elemwise{sqr,no_inplace}</text>\n",
       "</g>\n",
       "<!-- 140377721499600 -->\n",
       "<g class=\"node\" id=\"node5\"><title>140377721499600</title>\n",
       "<ellipse cx=\"323\" cy=\"-180\" fill=\"#ffaabb\" rx=\"137.207\" ry=\"18\" stroke=\"black\"/>\n",
       "<text font-family=\"Times,serif\" font-size=\"14.00\" text-anchor=\"middle\" x=\"323\" y=\"-176.3\">Elemwise{add,no_inplace}</text>\n",
       "</g>\n",
       "<!-- 140377721498768&#45;&gt;140377721499600 -->\n",
       "<g class=\"edge\" id=\"edge4\"><title>140377721498768-&gt;140377721499600</title>\n",
       "<path d=\"M454.315,-250.114C443.517,-239.249 428.392,-225.445 413,-216 403.592,-210.227 393.069,-205.108 382.628,-200.688\" fill=\"none\" stroke=\"black\"/>\n",
       "<polygon fill=\"black\" points=\"383.679,-197.338 373.097,-196.828 381.051,-203.826 383.679,-197.338\" stroke=\"black\"/>\n",
       "<text font-family=\"Times,serif\" font-size=\"14.00\" text-anchor=\"middle\" x=\"540.5\" y=\"-220.3\">1 TensorType(float32, matrix)</text>\n",
       "</g>\n",
       "<!-- 140377721498640 -->\n",
       "<g class=\"node\" id=\"node2\"><title>140377721498640</title>\n",
       "<polygon fill=\"green\" points=\"610,-360 330,-360 330,-324 610,-324 610,-360\" stroke=\"black\"/>\n",
       "<text font-family=\"Times,serif\" font-size=\"14.00\" text-anchor=\"middle\" x=\"470\" y=\"-338.3\">name=b TensorType(float32, matrix)</text>\n",
       "</g>\n",
       "<!-- 140377721498640&#45;&gt;140377721498768 -->\n",
       "<g class=\"edge\" id=\"edge1\"><title>140377721498640-&gt;140377721498768</title>\n",
       "<path d=\"M470,-323.937C470,-315.807 470,-305.876 470,-296.705\" fill=\"none\" stroke=\"black\"/>\n",
       "<polygon fill=\"black\" points=\"473.5,-296.441 470,-286.441 466.5,-296.441 473.5,-296.441\" stroke=\"black\"/>\n",
       "</g>\n",
       "<!-- 140377721499216 -->\n",
       "<g class=\"node\" id=\"node3\"><title>140377721499216</title>\n",
       "<ellipse cx=\"159\" cy=\"-268\" fill=\"#ffaabb\" rx=\"159.354\" ry=\"18\" stroke=\"black\"/>\n",
       "<text font-family=\"Times,serif\" font-size=\"14.00\" text-anchor=\"middle\" x=\"159\" y=\"-264.3\">Elemwise{sqr,no_inplace} id=1</text>\n",
       "</g>\n",
       "<!-- 140377721499216&#45;&gt;140377721499600 -->\n",
       "<g class=\"edge\" id=\"edge3\"><title>140377721499216-&gt;140377721499600</title>\n",
       "<path d=\"M167.428,-249.963C173.81,-238.747 183.593,-224.599 196,-216 206.86,-208.474 219.286,-202.562 232.019,-197.919\" fill=\"none\" stroke=\"black\"/>\n",
       "<polygon fill=\"black\" points=\"233.445,-201.131 241.795,-194.61 231.201,-194.501 233.445,-201.131\" stroke=\"black\"/>\n",
       "<text font-family=\"Times,serif\" font-size=\"14.00\" text-anchor=\"middle\" x=\"302.5\" y=\"-220.3\">0 TensorType(float32, matrix)</text>\n",
       "</g>\n",
       "<!-- 140377721498000 -->\n",
       "<g class=\"node\" id=\"node4\"><title>140377721498000</title>\n",
       "<polygon fill=\"green\" points=\"298.25,-360 19.75,-360 19.75,-324 298.25,-324 298.25,-360\" stroke=\"black\"/>\n",
       "<text font-family=\"Times,serif\" font-size=\"14.00\" text-anchor=\"middle\" x=\"159\" y=\"-338.3\">name=a TensorType(float32, matrix)</text>\n",
       "</g>\n",
       "<!-- 140377721498000&#45;&gt;140377721499216 -->\n",
       "<g class=\"edge\" id=\"edge2\"><title>140377721498000-&gt;140377721499216</title>\n",
       "<path d=\"M159,-323.937C159,-315.807 159,-305.876 159,-296.705\" fill=\"none\" stroke=\"black\"/>\n",
       "<polygon fill=\"black\" points=\"162.5,-296.441 159,-286.441 155.5,-296.441 162.5,-296.441\" stroke=\"black\"/>\n",
       "</g>\n",
       "<!-- 140377721499088 -->\n",
       "<g class=\"node\" id=\"node6\"><title>140377721499088</title>\n",
       "<ellipse cx=\"323\" cy=\"-92\" fill=\"#ffaabb\" rx=\"139.132\" ry=\"18\" stroke=\"black\"/>\n",
       "<text font-family=\"Times,serif\" font-size=\"14.00\" text-anchor=\"middle\" x=\"323\" y=\"-88.3\">Elemwise{sqrt,no_inplace}</text>\n",
       "</g>\n",
       "<!-- 140377721499600&#45;&gt;140377721499088 -->\n",
       "<g class=\"edge\" id=\"edge5\"><title>140377721499600-&gt;140377721499088</title>\n",
       "<path d=\"M323,-161.597C323,-149.746 323,-133.817 323,-120.292\" fill=\"none\" stroke=\"black\"/>\n",
       "<polygon fill=\"black\" points=\"326.5,-120.084 323,-110.084 319.5,-120.084 326.5,-120.084\" stroke=\"black\"/>\n",
       "<text font-family=\"Times,serif\" font-size=\"14.00\" text-anchor=\"middle\" x=\"422.5\" y=\"-132.3\">TensorType(float32, matrix)</text>\n",
       "</g>\n",
       "<!-- 140377721552976 -->\n",
       "<g class=\"node\" id=\"node7\"><title>140377721552976</title>\n",
       "<polygon fill=\"blue\" points=\"430.25,-36 215.75,-36 215.75,-0 430.25,-0 430.25,-36\" stroke=\"black\"/>\n",
       "<text font-family=\"Times,serif\" font-size=\"14.00\" text-anchor=\"middle\" x=\"323\" y=\"-14.3\">TensorType(float32, matrix)</text>\n",
       "</g>\n",
       "<!-- 140377721499088&#45;&gt;140377721552976 -->\n",
       "<g class=\"edge\" id=\"edge6\"><title>140377721499088-&gt;140377721552976</title>\n",
       "<path d=\"M323,-73.937C323,-65.8072 323,-55.8761 323,-46.7047\" fill=\"none\" stroke=\"black\"/>\n",
       "<polygon fill=\"black\" points=\"326.5,-46.4406 323,-36.4407 319.5,-46.4407 326.5,-46.4406\" stroke=\"black\"/>\n",
       "</g>\n",
       "</g>\n",
       "</svg>"
      ],
      "text/plain": [
       "<IPython.core.display.SVG object>"
      ]
     },
     "execution_count": 5,
     "metadata": {},
     "output_type": "execute_result"
    }
   ],
   "source": [
    "\n",
    "SVG(theano.printing.pydotprint(c, return_image=True,format='svg'))"
   ]
  },
  {
   "cell_type": "code",
   "execution_count": 6,
   "metadata": {
    "collapsed": false
   },
   "outputs": [
    {
     "data": {
      "image/svg+xml": [
       "<svg height=\"368pt\" viewBox=\"0.00 0.00 692.00 368.00\" width=\"692pt\" xmlns=\"http://www.w3.org/2000/svg\" xmlns:xlink=\"http://www.w3.org/1999/xlink\">\n",
       "<g class=\"graph\" id=\"graph0\" transform=\"scale(1 1) rotate(0) translate(4 364)\">\n",
       "<title>G</title>\n",
       "<polygon fill=\"white\" points=\"-4,4 -4,-364 688,-364 688,4 -4,4\" stroke=\"none\"/>\n",
       "<!-- 140377724266896 -->\n",
       "<g class=\"node\" id=\"node1\"><title>140377724266896</title>\n",
       "<ellipse cx=\"436\" cy=\"-268\" fill=\"red\" rx=\"77.0154\" ry=\"18\" stroke=\"black\"/>\n",
       "<text font-family=\"Times,serif\" font-size=\"14.00\" text-anchor=\"middle\" x=\"436\" y=\"-264.3\">GpuFromHost</text>\n",
       "</g>\n",
       "<!-- 140377724006480 -->\n",
       "<g class=\"node\" id=\"node5\"><title>140377724006480</title>\n",
       "<ellipse cx=\"286\" cy=\"-180\" fill=\"#ffaabb\" rx=\"286.437\" ry=\"18\" stroke=\"black\"/>\n",
       "<text font-family=\"Times,serif\" font-size=\"14.00\" text-anchor=\"middle\" x=\"286\" y=\"-176.3\">GpuElemwise{Composite{sqrt((sqr(i0) + sqr(i1)))}}[(0, 0)]</text>\n",
       "</g>\n",
       "<!-- 140377724266896&#45;&gt;140377724006480 -->\n",
       "<g class=\"edge\" id=\"edge4\"><title>140377724266896-&gt;140377724006480</title>\n",
       "<path d=\"M430.579,-250.028C426.176,-238.84 418.891,-224.7 408,-216 400.653,-210.131 392.365,-205.246 383.654,-201.18\" fill=\"none\" stroke=\"black\"/>\n",
       "<polygon fill=\"black\" points=\"385.015,-197.955 374.445,-197.232 382.258,-204.389 385.015,-197.955\" stroke=\"black\"/>\n",
       "<text font-family=\"Times,serif\" font-size=\"14.00\" text-anchor=\"middle\" x=\"553\" y=\"-220.3\">1 CudaNdarrayType(float32, matrix)</text>\n",
       "</g>\n",
       "<!-- 140377724218064 -->\n",
       "<g class=\"node\" id=\"node2\"><title>140377724218064</title>\n",
       "<polygon fill=\"green\" points=\"577,-360 297,-360 297,-324 577,-324 577,-360\" stroke=\"black\"/>\n",
       "<text font-family=\"Times,serif\" font-size=\"14.00\" text-anchor=\"middle\" x=\"437\" y=\"-338.3\">name=b TensorType(float32, matrix)</text>\n",
       "</g>\n",
       "<!-- 140377724218064&#45;&gt;140377724266896 -->\n",
       "<g class=\"edge\" id=\"edge1\"><title>140377724218064-&gt;140377724266896</title>\n",
       "<path d=\"M436.763,-323.937C436.65,-315.807 436.512,-305.876 436.385,-296.705\" fill=\"none\" stroke=\"black\"/>\n",
       "<polygon fill=\"black\" points=\"439.881,-296.391 436.242,-286.441 432.882,-296.488 439.881,-296.391\" stroke=\"black\"/>\n",
       "</g>\n",
       "<!-- 140377724266128 -->\n",
       "<g class=\"node\" id=\"node3\"><title>140377724266128</title>\n",
       "<ellipse cx=\"140\" cy=\"-268\" fill=\"red\" rx=\"102.536\" ry=\"18\" stroke=\"black\"/>\n",
       "<text font-family=\"Times,serif\" font-size=\"14.00\" text-anchor=\"middle\" x=\"140\" y=\"-264.3\">GpuFromHost id=1</text>\n",
       "</g>\n",
       "<!-- 140377724266128&#45;&gt;140377724006480 -->\n",
       "<g class=\"edge\" id=\"edge3\"><title>140377724266128-&gt;140377724006480</title>\n",
       "<path d=\"M137.44,-249.889C136.799,-238.928 137.992,-225.104 146,-216 151.55,-209.691 163.803,-204.285 178.866,-199.742\" fill=\"none\" stroke=\"red\"/>\n",
       "<polygon fill=\"red\" points=\"179.887,-203.091 188.573,-197.025 178,-196.35 179.887,-203.091\" stroke=\"red\"/>\n",
       "<text font-family=\"Times,serif\" font-size=\"14.00\" text-anchor=\"middle\" x=\"277\" y=\"-220.3\">0 CudaNdarrayType(float32, matrix)</text>\n",
       "</g>\n",
       "<!-- 140377724218000 -->\n",
       "<g class=\"node\" id=\"node4\"><title>140377724218000</title>\n",
       "<polygon fill=\"green\" points=\"278.25,-360 -0.25,-360 -0.25,-324 278.25,-324 278.25,-360\" stroke=\"black\"/>\n",
       "<text font-family=\"Times,serif\" font-size=\"14.00\" text-anchor=\"middle\" x=\"139\" y=\"-338.3\">name=a TensorType(float32, matrix)</text>\n",
       "</g>\n",
       "<!-- 140377724218000&#45;&gt;140377724266128 -->\n",
       "<g class=\"edge\" id=\"edge2\"><title>140377724218000-&gt;140377724266128</title>\n",
       "<path d=\"M139.237,-323.937C139.35,-315.807 139.488,-305.876 139.615,-296.705\" fill=\"none\" stroke=\"black\"/>\n",
       "<polygon fill=\"black\" points=\"143.118,-296.488 139.758,-286.441 136.119,-296.391 143.118,-296.488\" stroke=\"black\"/>\n",
       "</g>\n",
       "<!-- 140377723940944 -->\n",
       "<g class=\"node\" id=\"node6\"><title>140377723940944</title>\n",
       "<ellipse cx=\"286\" cy=\"-92\" fill=\"red\" rx=\"77.0154\" ry=\"18\" stroke=\"black\"/>\n",
       "<text font-family=\"Times,serif\" font-size=\"14.00\" text-anchor=\"middle\" x=\"286\" y=\"-88.3\">HostFromGpu</text>\n",
       "</g>\n",
       "<!-- 140377724006480&#45;&gt;140377723940944 -->\n",
       "<g class=\"edge\" id=\"edge5\"><title>140377724006480-&gt;140377723940944</title>\n",
       "<path d=\"M286,-161.597C286,-149.746 286,-133.817 286,-120.292\" fill=\"none\" stroke=\"black\"/>\n",
       "<polygon fill=\"black\" points=\"289.5,-120.084 286,-110.084 282.5,-120.084 289.5,-120.084\" stroke=\"black\"/>\n",
       "<text font-family=\"Times,serif\" font-size=\"14.00\" text-anchor=\"middle\" x=\"410.5\" y=\"-132.3\">CudaNdarrayType(float32, matrix)</text>\n",
       "</g>\n",
       "<!-- 140377723903888 -->\n",
       "<g class=\"node\" id=\"node7\"><title>140377723903888</title>\n",
       "<polygon fill=\"blue\" points=\"393.25,-36 178.75,-36 178.75,-0 393.25,-0 393.25,-36\" stroke=\"black\"/>\n",
       "<text font-family=\"Times,serif\" font-size=\"14.00\" text-anchor=\"middle\" x=\"286\" y=\"-14.3\">TensorType(float32, matrix)</text>\n",
       "</g>\n",
       "<!-- 140377723940944&#45;&gt;140377723903888 -->\n",
       "<g class=\"edge\" id=\"edge6\"><title>140377723940944-&gt;140377723903888</title>\n",
       "<path d=\"M286,-73.937C286,-65.8072 286,-55.8761 286,-46.7047\" fill=\"none\" stroke=\"black\"/>\n",
       "<polygon fill=\"black\" points=\"289.5,-46.4406 286,-36.4407 282.5,-46.4407 289.5,-46.4406\" stroke=\"black\"/>\n",
       "</g>\n",
       "</g>\n",
       "</svg>"
      ],
      "text/plain": [
       "<IPython.core.display.SVG object>"
      ]
     },
     "execution_count": 6,
     "metadata": {},
     "output_type": "execute_result"
    }
   ],
   "source": [
    "SVG(theano.printing.pydotprint(f, return_image=True,format='svg'))"
   ]
  },
  {
   "cell_type": "markdown",
   "metadata": {},
   "source": [
    "### Exemple d'optimisation "
   ]
  },
  {
   "cell_type": "code",
   "execution_count": 7,
   "metadata": {
    "collapsed": true
   },
   "outputs": [],
   "source": [
    "x = T.vector('x')\n",
    "y = T.vector('y')\n",
    "\n",
    "# expression à optimiser : multiplication et division par `y` à supprimer \n",
    "z = (x*y)/y\n",
    "\n",
    "g = theano.function([x,y],z)   "
   ]
  },
  {
   "cell_type": "code",
   "execution_count": 8,
   "metadata": {
    "collapsed": false
   },
   "outputs": [
    {
     "data": {
      "text/plain": [
       "array([ 0.,  1.,  2.], dtype=float32)"
      ]
     },
     "execution_count": 8,
     "metadata": {},
     "output_type": "execute_result"
    }
   ],
   "source": [
    "g([0,1,2],[2,5,9])"
   ]
  },
  {
   "cell_type": "code",
   "execution_count": 9,
   "metadata": {
    "collapsed": false
   },
   "outputs": [
    {
     "data": {
      "image/svg+xml": [
       "<svg height=\"294pt\" viewBox=\"0.00 0.00 582.00 294.00\" width=\"582pt\" xmlns=\"http://www.w3.org/2000/svg\" xmlns:xlink=\"http://www.w3.org/1999/xlink\">\n",
       "<g class=\"graph\" id=\"graph0\" transform=\"scale(1 1) rotate(0) translate(4 290)\">\n",
       "<title>G</title>\n",
       "<polygon fill=\"white\" points=\"-4,4 -4,-290 578,-290 578,4 -4,4\" stroke=\"none\"/>\n",
       "<!-- 140377721498448 -->\n",
       "<g class=\"node\" id=\"node1\"><title>140377721498448</title>\n",
       "<ellipse cx=\"305\" cy=\"-180\" fill=\"#ffaabb\" rx=\"137.183\" ry=\"18\" stroke=\"black\"/>\n",
       "<text font-family=\"Times,serif\" font-size=\"14.00\" text-anchor=\"middle\" x=\"305\" y=\"-176.3\">Elemwise{mul,no_inplace}</text>\n",
       "</g>\n",
       "<!-- 140377718055056 -->\n",
       "<g class=\"node\" id=\"node4\"><title>140377718055056</title>\n",
       "<ellipse cx=\"188\" cy=\"-92\" fill=\"#ffaabb\" rx=\"156.93\" ry=\"18\" stroke=\"black\"/>\n",
       "<text font-family=\"Times,serif\" font-size=\"14.00\" text-anchor=\"middle\" x=\"188\" y=\"-88.3\">Elemwise{true_div,no_inplace}</text>\n",
       "</g>\n",
       "<!-- 140377721498448&#45;&gt;140377718055056 -->\n",
       "<g class=\"edge\" id=\"edge3\"><title>140377721498448-&gt;140377718055056</title>\n",
       "<path d=\"M282.163,-162.214C264.241,-149.04 239.097,-130.559 219.299,-116.006\" fill=\"none\" stroke=\"black\"/>\n",
       "<polygon fill=\"black\" points=\"221.309,-113.14 211.179,-110.037 217.163,-118.78 221.309,-113.14\" stroke=\"black\"/>\n",
       "<text font-family=\"Times,serif\" font-size=\"14.00\" text-anchor=\"middle\" x=\"362.5\" y=\"-132.3\">0 TensorType(float32, vector)</text>\n",
       "</g>\n",
       "<!-- 140377718092048 -->\n",
       "<g class=\"node\" id=\"node2\"><title>140377718092048</title>\n",
       "<polygon fill=\"green\" points=\"574,-286 296,-286 296,-250 574,-250 574,-286\" stroke=\"black\"/>\n",
       "<text font-family=\"Times,serif\" font-size=\"14.00\" text-anchor=\"middle\" x=\"435\" y=\"-264.3\">name=x TensorType(float32, vector)</text>\n",
       "</g>\n",
       "<!-- 140377718092048&#45;&gt;140377721498448 -->\n",
       "<g class=\"edge\" id=\"edge1\"><title>140377718092048-&gt;140377721498448</title>\n",
       "<path d=\"M409.005,-249.803C388.858,-236.475 360.777,-217.899 338.871,-203.407\" fill=\"none\" stroke=\"black\"/>\n",
       "<polygon fill=\"black\" points=\"340.778,-200.472 330.507,-197.874 336.916,-206.31 340.778,-200.472\" stroke=\"black\"/>\n",
       "<text font-family=\"Times,serif\" font-size=\"14.00\" text-anchor=\"middle\" x=\"387\" y=\"-220.3\">0</text>\n",
       "</g>\n",
       "<!-- 140377721499536 -->\n",
       "<g class=\"node\" id=\"node3\"><title>140377721499536</title>\n",
       "<polygon fill=\"green\" points=\"278,-286 0,-286 0,-250 278,-250 278,-286\" stroke=\"black\"/>\n",
       "<text font-family=\"Times,serif\" font-size=\"14.00\" text-anchor=\"middle\" x=\"139\" y=\"-264.3\">name=y TensorType(float32, vector)</text>\n",
       "</g>\n",
       "<!-- 140377721499536&#45;&gt;140377721498448 -->\n",
       "<g class=\"edge\" id=\"edge2\"><title>140377721499536-&gt;140377721498448</title>\n",
       "<path d=\"M172.194,-249.803C198.545,-236.151 235.526,-216.992 263.775,-202.358\" fill=\"none\" stroke=\"black\"/>\n",
       "<polygon fill=\"black\" points=\"265.723,-205.29 272.992,-197.582 262.503,-199.075 265.723,-205.29\" stroke=\"black\"/>\n",
       "<text font-family=\"Times,serif\" font-size=\"14.00\" text-anchor=\"middle\" x=\"242\" y=\"-220.3\">1</text>\n",
       "</g>\n",
       "<!-- 140377721499536&#45;&gt;140377718055056 -->\n",
       "<g class=\"edge\" id=\"edge4\"><title>140377721499536-&gt;140377718055056</title>\n",
       "<path d=\"M138.206,-249.828C137.737,-228.664 138.592,-191.838 148,-162 152.825,-146.698 161.477,-131.112 169.503,-118.634\" fill=\"none\" stroke=\"black\"/>\n",
       "<polygon fill=\"black\" points=\"172.529,-120.405 175.173,-110.146 166.708,-116.517 172.529,-120.405\" stroke=\"black\"/>\n",
       "<text font-family=\"Times,serif\" font-size=\"14.00\" text-anchor=\"middle\" x=\"153\" y=\"-176.3\">1</text>\n",
       "</g>\n",
       "<!-- 140377718057680 -->\n",
       "<g class=\"node\" id=\"node5\"><title>140377718057680</title>\n",
       "<polygon fill=\"blue\" points=\"294.5,-36 81.5,-36 81.5,-0 294.5,-0 294.5,-36\" stroke=\"black\"/>\n",
       "<text font-family=\"Times,serif\" font-size=\"14.00\" text-anchor=\"middle\" x=\"188\" y=\"-14.3\">TensorType(float32, vector)</text>\n",
       "</g>\n",
       "<!-- 140377718055056&#45;&gt;140377718057680 -->\n",
       "<g class=\"edge\" id=\"edge5\"><title>140377718055056-&gt;140377718057680</title>\n",
       "<path d=\"M188,-73.937C188,-65.8072 188,-55.8761 188,-46.7047\" fill=\"none\" stroke=\"black\"/>\n",
       "<polygon fill=\"black\" points=\"191.5,-46.4406 188,-36.4407 184.5,-46.4407 191.5,-46.4406\" stroke=\"black\"/>\n",
       "</g>\n",
       "</g>\n",
       "</svg>"
      ],
      "text/plain": [
       "<IPython.core.display.SVG object>"
      ]
     },
     "execution_count": 9,
     "metadata": {},
     "output_type": "execute_result"
    }
   ],
   "source": [
    "SVG(theano.printing.pydotprint(z, return_image=True,format='svg'))"
   ]
  },
  {
   "cell_type": "code",
   "execution_count": 10,
   "metadata": {
    "collapsed": false
   },
   "outputs": [
    {
     "data": {
      "image/svg+xml": [
       "<svg height=\"188pt\" viewBox=\"0.00 0.00 286.00 188.00\" width=\"286pt\" xmlns=\"http://www.w3.org/2000/svg\" xmlns:xlink=\"http://www.w3.org/1999/xlink\">\n",
       "<g class=\"graph\" id=\"graph0\" transform=\"scale(1 1) rotate(0) translate(4 184)\">\n",
       "<title>G</title>\n",
       "<polygon fill=\"white\" points=\"-4,4 -4,-184 282,-184 282,4 -4,4\" stroke=\"none\"/>\n",
       "<!-- 140377718544080 -->\n",
       "<g class=\"node\" id=\"node1\"><title>140377718544080</title>\n",
       "<ellipse cx=\"139\" cy=\"-90\" fill=\"none\" rx=\"71.2405\" ry=\"18\" stroke=\"black\"/>\n",
       "<text font-family=\"Times,serif\" font-size=\"14.00\" text-anchor=\"middle\" x=\"139\" y=\"-86.3\">DeepCopyOp</text>\n",
       "</g>\n",
       "<!-- 140377718544528 -->\n",
       "<g class=\"node\" id=\"node3\"><title>140377718544528</title>\n",
       "<polygon fill=\"blue\" points=\"278,-36 0,-36 0,-0 278,-0 278,-36\" stroke=\"black\"/>\n",
       "<text font-family=\"Times,serif\" font-size=\"14.00\" text-anchor=\"middle\" x=\"139\" y=\"-14.3\">name=x TensorType(float32, vector)</text>\n",
       "</g>\n",
       "<!-- 140377718544080&#45;&gt;140377718544528 -->\n",
       "<g class=\"edge\" id=\"edge2\"><title>140377718544080-&gt;140377718544528</title>\n",
       "<path d=\"M139,-71.6966C139,-63.9827 139,-54.7125 139,-46.1124\" fill=\"none\" stroke=\"black\"/>\n",
       "<polygon fill=\"black\" points=\"142.5,-46.1043 139,-36.1043 135.5,-46.1044 142.5,-46.1043\" stroke=\"black\"/>\n",
       "</g>\n",
       "<!-- 140377718056400 -->\n",
       "<g class=\"node\" id=\"node2\"><title>140377718056400</title>\n",
       "<polygon fill=\"green\" points=\"278,-180 0,-180 0,-144 278,-144 278,-180\" stroke=\"black\"/>\n",
       "<text font-family=\"Times,serif\" font-size=\"14.00\" text-anchor=\"middle\" x=\"139\" y=\"-158.3\">name=x TensorType(float32, vector)</text>\n",
       "</g>\n",
       "<!-- 140377718056400&#45;&gt;140377718544080 -->\n",
       "<g class=\"edge\" id=\"edge1\"><title>140377718056400-&gt;140377718544080</title>\n",
       "<path d=\"M139,-143.697C139,-135.983 139,-126.712 139,-118.112\" fill=\"none\" stroke=\"black\"/>\n",
       "<polygon fill=\"black\" points=\"142.5,-118.104 139,-108.104 135.5,-118.104 142.5,-118.104\" stroke=\"black\"/>\n",
       "</g>\n",
       "</g>\n",
       "</svg>"
      ],
      "text/plain": [
       "<IPython.core.display.SVG object>"
      ]
     },
     "execution_count": 10,
     "metadata": {},
     "output_type": "execute_result"
    }
   ],
   "source": [
    "SVG(theano.printing.pydotprint(g, return_image=True,format='svg'))"
   ]
  },
  {
   "cell_type": "markdown",
   "metadata": {},
   "source": [
    "# Dérivation dans Theano\n",
    "\n",
    "- theano.tensor.grad(function,variable)\n",
    "- Uniquement avec des fonctions scalaires ! (ex: cost, loss, ...)"
   ]
  },
  {
   "cell_type": "code",
   "execution_count": 11,
   "metadata": {
    "collapsed": false
   },
   "outputs": [],
   "source": [
    "#Deux variables symbolique qui sont des scalaires !! \n",
    "a = T.scalar('a')\n",
    "b = T.scalar('b')\n",
    "\n",
    "#E Même expression ! \n",
    "c = T.sqrt((T.sqr(a) + T.sqr(b)))\n",
    "\n",
    "# Gradient de c selon a ! \n",
    "grad_c_a = T.grad(c,[a])"
   ]
  },
  {
   "cell_type": "code",
   "execution_count": 12,
   "metadata": {
    "collapsed": false
   },
   "outputs": [
    {
     "data": {
      "text/plain": [
       "[array(0.49828386306762695, dtype=float32)]"
      ]
     },
     "execution_count": 12,
     "metadata": {},
     "output_type": "execute_result"
    }
   ],
   "source": [
    "f_grad_c_a = theano.function([a,b],grad_c_a)\n",
    "f_grad_c_a( 0.5 , 0.87 )"
   ]
  },
  {
   "cell_type": "code",
   "execution_count": 13,
   "metadata": {
    "collapsed": false
   },
   "outputs": [
    {
     "data": {
      "image/svg+xml": [
       "<svg height=\"828pt\" viewBox=\"0.00 0.00 1379.00 828.00\" width=\"1379pt\" xmlns=\"http://www.w3.org/2000/svg\" xmlns:xlink=\"http://www.w3.org/1999/xlink\">\n",
       "<g class=\"graph\" id=\"graph0\" transform=\"scale(1 1) rotate(0) translate(4 824)\">\n",
       "<title>G</title>\n",
       "<polygon fill=\"white\" points=\"-4,4 -4,-824 1375,-824 1375,4 -4,4\" stroke=\"none\"/>\n",
       "<!-- 140377717821968 -->\n",
       "<g class=\"node\" id=\"node1\"><title>140377717821968</title>\n",
       "<ellipse cx=\"1195\" cy=\"-180\" fill=\"none\" rx=\"108.31\" ry=\"18\" stroke=\"black\"/>\n",
       "<text font-family=\"Times,serif\" font-size=\"14.00\" text-anchor=\"middle\" x=\"1195\" y=\"-176.3\">InplaceDimShuffle{}</text>\n",
       "</g>\n",
       "<!-- 140377717823248 -->\n",
       "<g class=\"node\" id=\"node17\"><title>140377717823248</title>\n",
       "<ellipse cx=\"1074\" cy=\"-92\" fill=\"#ffaabb\" rx=\"116.01\" ry=\"18\" stroke=\"black\"/>\n",
       "<text font-family=\"Times,serif\" font-size=\"14.00\" text-anchor=\"middle\" x=\"1074\" y=\"-88.3\">Elemwise{mul} id=11</text>\n",
       "</g>\n",
       "<!-- 140377717821968&#45;&gt;140377717823248 -->\n",
       "<g class=\"edge\" id=\"edge18\"><title>140377717821968-&gt;140377717823248</title>\n",
       "<path d=\"M1190.24,-161.798C1186.4,-150.799 1179.97,-136.966 1170,-128 1162.58,-121.328 1153.79,-115.899 1144.58,-111.488\" fill=\"none\" stroke=\"black\"/>\n",
       "<polygon fill=\"black\" points=\"1145.84,-108.217 1135.27,-107.408 1143.02,-114.628 1145.84,-108.217\" stroke=\"black\"/>\n",
       "<text font-family=\"Times,serif\" font-size=\"14.00\" text-anchor=\"middle\" x=\"1277\" y=\"-132.3\">1 TensorType(int8, scalar)</text>\n",
       "</g>\n",
       "<!-- 140377718102608 -->\n",
       "<g class=\"node\" id=\"node2\"><title>140377718102608</title>\n",
       "<polygon fill=\"green\" points=\"1313.25,-286 1076.75,-286 1076.75,-250 1313.25,-250 1313.25,-286\" stroke=\"black\"/>\n",
       "<text font-family=\"Times,serif\" font-size=\"14.00\" text-anchor=\"middle\" x=\"1195\" y=\"-264.3\">val=2 TensorType(int8, scalar)</text>\n",
       "</g>\n",
       "<!-- 140377718102608&#45;&gt;140377717821968 -->\n",
       "<g class=\"edge\" id=\"edge1\"><title>140377718102608-&gt;140377717821968</title>\n",
       "<path d=\"M1195,-249.597C1195,-237.746 1195,-221.817 1195,-208.292\" fill=\"none\" stroke=\"blue\"/>\n",
       "<polygon fill=\"blue\" points=\"1198.5,-208.084 1195,-198.084 1191.5,-208.084 1198.5,-208.084\" stroke=\"blue\"/>\n",
       "</g>\n",
       "<!-- 140377717822032 -->\n",
       "<g class=\"node\" id=\"node3\"><title>140377717822032</title>\n",
       "<ellipse cx=\"838\" cy=\"-728\" fill=\"#ffaabb\" rx=\"133.333\" ry=\"18\" stroke=\"black\"/>\n",
       "<text font-family=\"Times,serif\" font-size=\"14.00\" text-anchor=\"middle\" x=\"838\" y=\"-724.3\">Elemwise{sqr,no_inplace}</text>\n",
       "</g>\n",
       "<!-- 140377717824272 -->\n",
       "<g class=\"node\" id=\"node9\"><title>140377717824272</title>\n",
       "<ellipse cx=\"533\" cy=\"-640\" fill=\"#ffaabb\" rx=\"137.207\" ry=\"18\" stroke=\"black\"/>\n",
       "<text font-family=\"Times,serif\" font-size=\"14.00\" text-anchor=\"middle\" x=\"533\" y=\"-636.3\">Elemwise{add,no_inplace}</text>\n",
       "</g>\n",
       "<!-- 140377717822032&#45;&gt;140377717824272 -->\n",
       "<g class=\"edge\" id=\"edge5\"><title>140377717822032-&gt;140377717824272</title>\n",
       "<path d=\"M808.343,-710.268C783.404,-696.306 750.761,-678.321 744,-676 713.894,-665.663 680.292,-658.324 648.91,-653.135\" fill=\"none\" stroke=\"black\"/>\n",
       "<polygon fill=\"black\" points=\"649.233,-649.642 638.806,-651.525 648.131,-656.555 649.233,-649.642\" stroke=\"black\"/>\n",
       "<text font-family=\"Times,serif\" font-size=\"14.00\" text-anchor=\"middle\" x=\"879.5\" y=\"-680.3\">0 TensorType(float32, scalar)</text>\n",
       "</g>\n",
       "<!-- 140377718102288 -->\n",
       "<g class=\"node\" id=\"node4\"><title>140377718102288</title>\n",
       "<polygon fill=\"green\" points=\"1096.25,-820 821.75,-820 821.75,-784 1096.25,-784 1096.25,-820\" stroke=\"black\"/>\n",
       "<text font-family=\"Times,serif\" font-size=\"14.00\" text-anchor=\"middle\" x=\"959\" y=\"-798.3\">name=a TensorType(float32, scalar)</text>\n",
       "</g>\n",
       "<!-- 140377718102288&#45;&gt;140377717822032 -->\n",
       "<g class=\"edge\" id=\"edge2\"><title>140377718102288-&gt;140377717822032</title>\n",
       "<path d=\"M930.325,-783.937C913.78,-774.092 892.797,-761.607 875.017,-751.027\" fill=\"none\" stroke=\"black\"/>\n",
       "<polygon fill=\"black\" points=\"876.436,-747.798 866.052,-745.692 872.856,-753.814 876.436,-747.798\" stroke=\"black\"/>\n",
       "</g>\n",
       "<!-- 140377717823312 -->\n",
       "<g class=\"node\" id=\"node16\"><title>140377717823312</title>\n",
       "<ellipse cx=\"952\" cy=\"-180\" fill=\"#ffaabb\" rx=\"116.01\" ry=\"18\" stroke=\"black\"/>\n",
       "<text font-family=\"Times,serif\" font-size=\"14.00\" text-anchor=\"middle\" x=\"952\" y=\"-176.3\">Elemwise{mul} id=10</text>\n",
       "</g>\n",
       "<!-- 140377718102288&#45;&gt;140377717823312 -->\n",
       "<g class=\"edge\" id=\"edge16\"><title>140377718102288-&gt;140377717823312</title>\n",
       "<path d=\"M975.44,-783.894C986.847,-770.186 1000,-749.858 1000,-729 1000,-729 1000,-729 1000,-267 1000,-244.285 987.075,-221.987 974.638,-205.789\" fill=\"none\" stroke=\"black\"/>\n",
       "<polygon fill=\"black\" points=\"977.265,-203.472 968.251,-197.905 971.826,-207.878 977.265,-203.472\" stroke=\"black\"/>\n",
       "<text font-family=\"Times,serif\" font-size=\"14.00\" text-anchor=\"middle\" x=\"1005\" y=\"-494.3\">1</text>\n",
       "</g>\n",
       "<!-- 140377717824592 -->\n",
       "<g class=\"node\" id=\"node5\"><title>140377717824592</title>\n",
       "<ellipse cx=\"527\" cy=\"-728\" fill=\"#ffaabb\" rx=\"159.354\" ry=\"18\" stroke=\"black\"/>\n",
       "<text font-family=\"Times,serif\" font-size=\"14.00\" text-anchor=\"middle\" x=\"527\" y=\"-724.3\">Elemwise{sqr,no_inplace} id=2</text>\n",
       "</g>\n",
       "<!-- 140377717824592&#45;&gt;140377717824272 -->\n",
       "<g class=\"edge\" id=\"edge6\"><title>140377717824592-&gt;140377717824272</title>\n",
       "<path d=\"M528.214,-709.597C529.041,-697.746 530.152,-681.817 531.096,-668.292\" fill=\"none\" stroke=\"black\"/>\n",
       "<polygon fill=\"black\" points=\"534.604,-668.303 531.808,-658.084 527.621,-667.816 534.604,-668.303\" stroke=\"black\"/>\n",
       "<text font-family=\"Times,serif\" font-size=\"14.00\" text-anchor=\"middle\" x=\"635.5\" y=\"-680.3\">1 TensorType(float32, scalar)</text>\n",
       "</g>\n",
       "<!-- 140377718103440 -->\n",
       "<g class=\"node\" id=\"node6\"><title>140377718103440</title>\n",
       "<polygon fill=\"green\" points=\"665,-820 389,-820 389,-784 665,-784 665,-820\" stroke=\"black\"/>\n",
       "<text font-family=\"Times,serif\" font-size=\"14.00\" text-anchor=\"middle\" x=\"527\" y=\"-798.3\">name=b TensorType(float32, scalar)</text>\n",
       "</g>\n",
       "<!-- 140377718103440&#45;&gt;140377717824592 -->\n",
       "<g class=\"edge\" id=\"edge3\"><title>140377718103440-&gt;140377717824592</title>\n",
       "<path d=\"M527,-783.937C527,-775.807 527,-765.876 527,-756.705\" fill=\"none\" stroke=\"black\"/>\n",
       "<polygon fill=\"black\" points=\"530.5,-756.441 527,-746.441 523.5,-756.441 530.5,-756.441\" stroke=\"black\"/>\n",
       "</g>\n",
       "<!-- 140377717824208 -->\n",
       "<g class=\"node\" id=\"node7\"><title>140377717824208</title>\n",
       "<ellipse cx=\"250\" cy=\"-444\" fill=\"none\" rx=\"133.333\" ry=\"18\" stroke=\"black\"/>\n",
       "<text font-family=\"Times,serif\" font-size=\"14.00\" text-anchor=\"middle\" x=\"250\" y=\"-440.3\">InplaceDimShuffle{} id=3</text>\n",
       "</g>\n",
       "<!-- 140377717823184 -->\n",
       "<g class=\"node\" id=\"node14\"><title>140377717823184</title>\n",
       "<ellipse cx=\"434\" cy=\"-356\" fill=\"#ffaabb\" rx=\"85.2138\" ry=\"18\" stroke=\"black\"/>\n",
       "<text font-family=\"Times,serif\" font-size=\"14.00\" text-anchor=\"middle\" x=\"434\" y=\"-352.3\">Elemwise{mul}</text>\n",
       "</g>\n",
       "<!-- 140377717824208&#45;&gt;140377717823184 -->\n",
       "<g class=\"edge\" id=\"edge12\"><title>140377717824208-&gt;140377717823184</title>\n",
       "<path d=\"M274.116,-426.168C282.103,-420.489 290.995,-414.054 299,-408 308.079,-401.134 308.93,-397.308 319,-392 334.201,-383.987 351.521,-377.508 368.024,-372.405\" fill=\"none\" stroke=\"black\"/>\n",
       "<polygon fill=\"black\" points=\"369.031,-375.757 377.624,-369.558 367.041,-369.046 369.031,-375.757\" stroke=\"black\"/>\n",
       "<text font-family=\"Times,serif\" font-size=\"14.00\" text-anchor=\"middle\" x=\"423.5\" y=\"-396.3\">1 TensorType(float32, scalar)</text>\n",
       "</g>\n",
       "<!-- 140377718100496 -->\n",
       "<g class=\"node\" id=\"node8\"><title>140377718100496</title>\n",
       "<polygon fill=\"green\" points=\"386,-570 114,-570 114,-534 386,-534 386,-570\" stroke=\"black\"/>\n",
       "<text font-family=\"Times,serif\" font-size=\"14.00\" text-anchor=\"middle\" x=\"250\" y=\"-548.3\">val=0.5 TensorType(float32, scalar)</text>\n",
       "</g>\n",
       "<!-- 140377718100496&#45;&gt;140377717824208 -->\n",
       "<g class=\"edge\" id=\"edge4\"><title>140377718100496-&gt;140377717824208</title>\n",
       "<path d=\"M250,-533.969C250,-517.378 250,-491.883 250,-472.431\" fill=\"none\" stroke=\"blue\"/>\n",
       "<polygon fill=\"blue\" points=\"253.5,-472.341 250,-462.341 246.5,-472.341 253.5,-472.341\" stroke=\"blue\"/>\n",
       "</g>\n",
       "<!-- 140377717822800 -->\n",
       "<g class=\"node\" id=\"node10\"><title>140377717822800</title>\n",
       "<ellipse cx=\"86\" cy=\"-498\" fill=\"#ffaabb\" rx=\"86.1637\" ry=\"18\" stroke=\"black\"/>\n",
       "<text font-family=\"Times,serif\" font-size=\"14.00\" text-anchor=\"middle\" x=\"86\" y=\"-494.3\">Elemwise{sqrt}</text>\n",
       "</g>\n",
       "<!-- 140377717824272&#45;&gt;140377717822800 -->\n",
       "<g class=\"edge\" id=\"edge7\"><title>140377717824272-&gt;140377717822800</title>\n",
       "<path d=\"M405.122,-633.458C295.344,-626.063 148.183,-609.003 105,-570 92.9605,-559.126 88.1932,-541.54 86.4444,-526.592\" fill=\"none\" stroke=\"black\"/>\n",
       "<polygon fill=\"black\" points=\"89.9094,-526.005 85.6436,-516.307 82.9305,-526.549 89.9094,-526.005\" stroke=\"black\"/>\n",
       "<text font-family=\"Times,serif\" font-size=\"14.00\" text-anchor=\"middle\" x=\"282\" y=\"-592.3\">TensorType(float32, scalar)</text>\n",
       "</g>\n",
       "<!-- 140377717823888 -->\n",
       "<g class=\"node\" id=\"node11\"><title>140377717823888</title>\n",
       "<ellipse cx=\"543\" cy=\"-552\" fill=\"#ffaabb\" rx=\"139.132\" ry=\"18\" stroke=\"black\"/>\n",
       "<text font-family=\"Times,serif\" font-size=\"14.00\" text-anchor=\"middle\" x=\"543\" y=\"-548.3\">Elemwise{sqrt,no_inplace}</text>\n",
       "</g>\n",
       "<!-- 140377717824272&#45;&gt;140377717823888 -->\n",
       "<g class=\"edge\" id=\"edge8\"><title>140377717824272-&gt;140377717823888</title>\n",
       "<path d=\"M535.024,-621.597C536.402,-609.746 538.254,-593.817 539.827,-580.292\" fill=\"none\" stroke=\"black\"/>\n",
       "<polygon fill=\"black\" points=\"543.335,-580.421 541.013,-570.084 536.382,-579.613 543.335,-580.421\" stroke=\"black\"/>\n",
       "<text font-family=\"Times,serif\" font-size=\"14.00\" text-anchor=\"middle\" x=\"637\" y=\"-592.3\">TensorType(float32, scalar)</text>\n",
       "</g>\n",
       "<!-- 140377717824336 -->\n",
       "<g class=\"node\" id=\"node15\"><title>140377717824336</title>\n",
       "<ellipse cx=\"434\" cy=\"-268\" fill=\"#ffaabb\" rx=\"105.411\" ry=\"18\" stroke=\"black\"/>\n",
       "<text font-family=\"Times,serif\" font-size=\"14.00\" text-anchor=\"middle\" x=\"434\" y=\"-264.3\">Elemwise{true_div}</text>\n",
       "</g>\n",
       "<!-- 140377717822800&#45;&gt;140377717824336 -->\n",
       "<g class=\"edge\" id=\"edge14\"><title>140377717822800-&gt;140377717824336</title>\n",
       "<path d=\"M80.468,-479.939C74.344,-457.549 67.5807,-418.046 86,-392 139.577,-316.239 243.888,-286.831 324.396,-275.578\" fill=\"none\" stroke=\"black\"/>\n",
       "<polygon fill=\"black\" points=\"325.134,-279.011 334.589,-274.231 324.217,-272.071 325.134,-279.011\" stroke=\"black\"/>\n",
       "<text font-family=\"Times,serif\" font-size=\"14.00\" text-anchor=\"middle\" x=\"190.5\" y=\"-396.3\">1 TensorType(float32, scalar)</text>\n",
       "</g>\n",
       "<!-- 140377717822096 -->\n",
       "<g class=\"node\" id=\"node12\"><title>140377717822096</title>\n",
       "<ellipse cx=\"555\" cy=\"-444\" fill=\"#ffaabb\" rx=\"152.604\" ry=\"18\" stroke=\"black\"/>\n",
       "<text font-family=\"Times,serif\" font-size=\"14.00\" text-anchor=\"middle\" x=\"555\" y=\"-440.3\">Elemwise{second,no_inplace}</text>\n",
       "</g>\n",
       "<!-- 140377717823888&#45;&gt;140377717822096 -->\n",
       "<g class=\"edge\" id=\"edge9\"><title>140377717823888-&gt;140377717822096</title>\n",
       "<path d=\"M544.928,-533.969C546.806,-517.378 549.693,-491.883 551.895,-472.431\" fill=\"none\" stroke=\"black\"/>\n",
       "<polygon fill=\"black\" points=\"555.39,-472.671 553.037,-462.341 548.434,-471.883 555.39,-472.671\" stroke=\"black\"/>\n",
       "<text font-family=\"Times,serif\" font-size=\"14.00\" text-anchor=\"middle\" x=\"655.5\" y=\"-494.3\">0 TensorType(float32, scalar)</text>\n",
       "</g>\n",
       "<!-- 140377717822096&#45;&gt;140377717823184 -->\n",
       "<g class=\"edge\" id=\"edge11\"><title>140377717822096-&gt;140377717823184</title>\n",
       "<path d=\"M550.977,-425.791C547.594,-414.79 541.71,-400.956 532,-392 523.285,-383.961 512.599,-377.744 501.524,-372.942\" fill=\"none\" stroke=\"black\"/>\n",
       "<polygon fill=\"black\" points=\"502.75,-369.664 492.164,-369.233 500.171,-376.171 502.75,-369.664\" stroke=\"black\"/>\n",
       "<text font-family=\"Times,serif\" font-size=\"14.00\" text-anchor=\"middle\" x=\"648.5\" y=\"-396.3\">0 TensorType(float32, scalar)</text>\n",
       "</g>\n",
       "<!-- 140377718103120 -->\n",
       "<g class=\"node\" id=\"node13\"><title>140377718103120</title>\n",
       "<polygon fill=\"green\" points=\"972,-570 700,-570 700,-534 972,-534 972,-570\" stroke=\"black\"/>\n",
       "<text font-family=\"Times,serif\" font-size=\"14.00\" text-anchor=\"middle\" x=\"836\" y=\"-548.3\">val=1.0 TensorType(float32, scalar)</text>\n",
       "</g>\n",
       "<!-- 140377718103120&#45;&gt;140377717822096 -->\n",
       "<g class=\"edge\" id=\"edge10\"><title>140377718103120-&gt;140377717822096</title>\n",
       "<path d=\"M823.772,-533.925C810.886,-517.316 789.015,-492.775 764,-480 742.186,-468.86 717.583,-461.147 693.116,-455.832\" fill=\"none\" stroke=\"black\"/>\n",
       "<polygon fill=\"black\" points=\"693.517,-452.342 683.019,-453.769 692.116,-459.2 693.517,-452.342\" stroke=\"black\"/>\n",
       "<text font-family=\"Times,serif\" font-size=\"14.00\" text-anchor=\"middle\" x=\"814\" y=\"-494.3\">1</text>\n",
       "</g>\n",
       "<!-- 140377717823184&#45;&gt;140377717824336 -->\n",
       "<g class=\"edge\" id=\"edge13\"><title>140377717823184-&gt;140377717824336</title>\n",
       "<path d=\"M434,-337.597C434,-325.746 434,-309.817 434,-296.292\" fill=\"none\" stroke=\"black\"/>\n",
       "<polygon fill=\"black\" points=\"437.5,-296.084 434,-286.084 430.5,-296.084 437.5,-296.084\" stroke=\"black\"/>\n",
       "<text font-family=\"Times,serif\" font-size=\"14.00\" text-anchor=\"middle\" x=\"538.5\" y=\"-308.3\">0 TensorType(float32, scalar)</text>\n",
       "</g>\n",
       "<!-- 140377717824336&#45;&gt;140377717823312 -->\n",
       "<g class=\"edge\" id=\"edge15\"><title>140377717824336-&gt;140377717823312</title>\n",
       "<path d=\"M506.844,-254.906C601.137,-239.251 765.231,-212.008 865.678,-195.331\" fill=\"none\" stroke=\"black\"/>\n",
       "<polygon fill=\"black\" points=\"866.505,-198.742 875.797,-193.652 865.359,-191.837 866.505,-198.742\" stroke=\"black\"/>\n",
       "<text font-family=\"Times,serif\" font-size=\"14.00\" text-anchor=\"middle\" x=\"844.5\" y=\"-220.3\">0 TensorType(float32, scalar)</text>\n",
       "</g>\n",
       "<!-- 140377717823312&#45;&gt;140377717823248 -->\n",
       "<g class=\"edge\" id=\"edge17\"><title>140377717823312-&gt;140377717823248</title>\n",
       "<path d=\"M949.161,-161.562C948.407,-150.744 949.421,-137.203 957,-128 963.639,-119.938 972.055,-113.683 981.318,-108.838\" fill=\"none\" stroke=\"black\"/>\n",
       "<polygon fill=\"black\" points=\"982.83,-111.995 990.428,-104.611 979.884,-105.645 982.83,-111.995\" stroke=\"black\"/>\n",
       "<text font-family=\"Times,serif\" font-size=\"14.00\" text-anchor=\"middle\" x=\"1061.5\" y=\"-132.3\">0 TensorType(float32, scalar)</text>\n",
       "</g>\n",
       "<!-- 140377717824464 -->\n",
       "<g class=\"node\" id=\"node18\"><title>140377717824464</title>\n",
       "<polygon fill=\"blue\" points=\"1179.5,-36 968.5,-36 968.5,-0 1179.5,-0 1179.5,-36\" stroke=\"black\"/>\n",
       "<text font-family=\"Times,serif\" font-size=\"14.00\" text-anchor=\"middle\" x=\"1074\" y=\"-14.3\">TensorType(float32, scalar)</text>\n",
       "</g>\n",
       "<!-- 140377717823248&#45;&gt;140377717824464 -->\n",
       "<g class=\"edge\" id=\"edge19\"><title>140377717823248-&gt;140377717824464</title>\n",
       "<path d=\"M1074,-73.937C1074,-65.8072 1074,-55.8761 1074,-46.7047\" fill=\"none\" stroke=\"black\"/>\n",
       "<polygon fill=\"black\" points=\"1077.5,-46.4406 1074,-36.4407 1070.5,-46.4407 1077.5,-46.4406\" stroke=\"black\"/>\n",
       "</g>\n",
       "</g>\n",
       "</svg>"
      ],
      "text/plain": [
       "<IPython.core.display.SVG object>"
      ]
     },
     "execution_count": 13,
     "metadata": {},
     "output_type": "execute_result"
    }
   ],
   "source": [
    "SVG(theano.printing.pydotprint(grad_c_a, return_image=True,format='svg'))"
   ]
  },
  {
   "cell_type": "code",
   "execution_count": 14,
   "metadata": {
    "collapsed": false,
    "scrolled": true
   },
   "outputs": [
    {
     "data": {
      "image/svg+xml": [
       "<svg height=\"368pt\" viewBox=\"0.00 0.00 712.00 368.00\" width=\"712pt\" xmlns=\"http://www.w3.org/2000/svg\" xmlns:xlink=\"http://www.w3.org/1999/xlink\">\n",
       "<g class=\"graph\" id=\"graph0\" transform=\"scale(1 1) rotate(0) translate(4 364)\">\n",
       "<title>G</title>\n",
       "<polygon fill=\"white\" points=\"-4,4 -4,-364 708,-364 708,4 -4,4\" stroke=\"none\"/>\n",
       "<!-- 140377564426512 -->\n",
       "<g class=\"node\" id=\"node1\"><title>140377564426512</title>\n",
       "<ellipse cx=\"459\" cy=\"-268\" fill=\"red\" rx=\"77.0154\" ry=\"18\" stroke=\"black\"/>\n",
       "<text font-family=\"Times,serif\" font-size=\"14.00\" text-anchor=\"middle\" x=\"459\" y=\"-264.3\">GpuFromHost</text>\n",
       "</g>\n",
       "<!-- 140377719258320 -->\n",
       "<g class=\"node\" id=\"node5\"><title>140377719258320</title>\n",
       "<ellipse cx=\"311\" cy=\"-180\" fill=\"#ffaabb\" rx=\"310.984\" ry=\"18\" stroke=\"black\"/>\n",
       "<text font-family=\"Times,serif\" font-size=\"14.00\" text-anchor=\"middle\" x=\"311\" y=\"-176.3\">GpuElemwise{Composite{(i0 / sqrt((sqr(i0) + sqr(i1))))}}[(0, 0)]</text>\n",
       "</g>\n",
       "<!-- 140377564426512&#45;&gt;140377719258320 -->\n",
       "<g class=\"edge\" id=\"edge4\"><title>140377564426512-&gt;140377719258320</title>\n",
       "<path d=\"M453.567,-250.043C449.159,-238.863 441.871,-224.724 431,-216 423.853,-210.265 415.799,-205.469 407.331,-201.459\" fill=\"none\" stroke=\"black\"/>\n",
       "<polygon fill=\"black\" points=\"408.571,-198.182 398.004,-197.409 405.783,-204.603 408.571,-198.182\" stroke=\"black\"/>\n",
       "<text font-family=\"Times,serif\" font-size=\"14.00\" text-anchor=\"middle\" x=\"574.5\" y=\"-220.3\">1 CudaNdarrayType(float32, scalar)</text>\n",
       "</g>\n",
       "<!-- 140377564297616 -->\n",
       "<g class=\"node\" id=\"node2\"><title>140377564297616</title>\n",
       "<polygon fill=\"green\" points=\"598,-360 322,-360 322,-324 598,-324 598,-360\" stroke=\"black\"/>\n",
       "<text font-family=\"Times,serif\" font-size=\"14.00\" text-anchor=\"middle\" x=\"460\" y=\"-338.3\">name=b TensorType(float32, scalar)</text>\n",
       "</g>\n",
       "<!-- 140377564297616&#45;&gt;140377564426512 -->\n",
       "<g class=\"edge\" id=\"edge1\"><title>140377564297616-&gt;140377564426512</title>\n",
       "<path d=\"M459.763,-323.937C459.65,-315.807 459.512,-305.876 459.385,-296.705\" fill=\"none\" stroke=\"black\"/>\n",
       "<polygon fill=\"black\" points=\"462.881,-296.391 459.242,-286.441 455.882,-296.488 462.881,-296.391\" stroke=\"black\"/>\n",
       "</g>\n",
       "<!-- 140377564298832 -->\n",
       "<g class=\"node\" id=\"node3\"><title>140377564298832</title>\n",
       "<ellipse cx=\"167\" cy=\"-268\" fill=\"red\" rx=\"102.536\" ry=\"18\" stroke=\"black\"/>\n",
       "<text font-family=\"Times,serif\" font-size=\"14.00\" text-anchor=\"middle\" x=\"167\" y=\"-264.3\">GpuFromHost id=1</text>\n",
       "</g>\n",
       "<!-- 140377564298832&#45;&gt;140377719258320 -->\n",
       "<g class=\"edge\" id=\"edge3\"><title>140377564298832-&gt;140377719258320</title>\n",
       "<path d=\"M164.062,-249.931C163.187,-238.989 164.105,-225.168 172,-216 177.328,-209.813 189.059,-204.497 203.56,-200.014\" fill=\"none\" stroke=\"red\"/>\n",
       "<polygon fill=\"red\" points=\"204.796,-203.301 213.449,-197.187 202.872,-196.57 204.796,-203.301\" stroke=\"red\"/>\n",
       "<text font-family=\"Times,serif\" font-size=\"14.00\" text-anchor=\"middle\" x=\"301.5\" y=\"-220.3\">0 CudaNdarrayType(float32, scalar)</text>\n",
       "</g>\n",
       "<!-- 140377564297552 -->\n",
       "<g class=\"node\" id=\"node4\"><title>140377564297552</title>\n",
       "<polygon fill=\"green\" points=\"303.25,-360 28.75,-360 28.75,-324 303.25,-324 303.25,-360\" stroke=\"black\"/>\n",
       "<text font-family=\"Times,serif\" font-size=\"14.00\" text-anchor=\"middle\" x=\"166\" y=\"-338.3\">name=a TensorType(float32, scalar)</text>\n",
       "</g>\n",
       "<!-- 140377564297552&#45;&gt;140377564298832 -->\n",
       "<g class=\"edge\" id=\"edge2\"><title>140377564297552-&gt;140377564298832</title>\n",
       "<path d=\"M166.237,-323.937C166.35,-315.807 166.488,-305.876 166.615,-296.705\" fill=\"none\" stroke=\"black\"/>\n",
       "<polygon fill=\"black\" points=\"170.118,-296.488 166.758,-286.441 163.119,-296.391 170.118,-296.488\" stroke=\"black\"/>\n",
       "</g>\n",
       "<!-- 140377564427664 -->\n",
       "<g class=\"node\" id=\"node6\"><title>140377564427664</title>\n",
       "<ellipse cx=\"311\" cy=\"-92\" fill=\"red\" rx=\"77.0154\" ry=\"18\" stroke=\"black\"/>\n",
       "<text font-family=\"Times,serif\" font-size=\"14.00\" text-anchor=\"middle\" x=\"311\" y=\"-88.3\">HostFromGpu</text>\n",
       "</g>\n",
       "<!-- 140377719258320&#45;&gt;140377564427664 -->\n",
       "<g class=\"edge\" id=\"edge5\"><title>140377719258320-&gt;140377564427664</title>\n",
       "<path d=\"M311,-161.597C311,-149.746 311,-133.817 311,-120.292\" fill=\"none\" stroke=\"black\"/>\n",
       "<polygon fill=\"black\" points=\"314.5,-120.084 311,-110.084 307.5,-120.084 314.5,-120.084\" stroke=\"black\"/>\n",
       "<text font-family=\"Times,serif\" font-size=\"14.00\" text-anchor=\"middle\" x=\"433.5\" y=\"-132.3\">CudaNdarrayType(float32, scalar)</text>\n",
       "</g>\n",
       "<!-- 140377564427536 -->\n",
       "<g class=\"node\" id=\"node7\"><title>140377564427536</title>\n",
       "<polygon fill=\"blue\" points=\"416.5,-36 205.5,-36 205.5,-0 416.5,-0 416.5,-36\" stroke=\"black\"/>\n",
       "<text font-family=\"Times,serif\" font-size=\"14.00\" text-anchor=\"middle\" x=\"311\" y=\"-14.3\">TensorType(float32, scalar)</text>\n",
       "</g>\n",
       "<!-- 140377564427664&#45;&gt;140377564427536 -->\n",
       "<g class=\"edge\" id=\"edge6\"><title>140377564427664-&gt;140377564427536</title>\n",
       "<path d=\"M311,-73.937C311,-65.8072 311,-55.8761 311,-46.7047\" fill=\"none\" stroke=\"black\"/>\n",
       "<polygon fill=\"black\" points=\"314.5,-46.4406 311,-36.4407 307.5,-46.4407 314.5,-46.4406\" stroke=\"black\"/>\n",
       "</g>\n",
       "</g>\n",
       "</svg>"
      ],
      "text/plain": [
       "<IPython.core.display.SVG object>"
      ]
     },
     "execution_count": 14,
     "metadata": {},
     "output_type": "execute_result"
    }
   ],
   "source": [
    "SVG(theano.printing.pydotprint(f_grad_c_a, return_image=True,format='svg'))"
   ]
  },
  {
   "cell_type": "markdown",
   "metadata": {
    "collapsed": true
   },
   "source": [
    "On en posant : \n",
    "    $$\\begin{align} c(a,b) &= \\sqrt{a^2+b^2} \\\\\n",
    "    &= f \\ ( \\ h \\ ( \\ g \\ ( \\ a \\ ) \\ , \\ g \\ ( \\ b \\ ) \\ ) \\ )\n",
    "    \\end{align}\n",
    "    $$\n",
    "    \n",
    "Avec :\n",
    "$$\\begin{align} \n",
    "f(x) = \\sqrt{x} \\\\\n",
    "\\frac{df}{dx} = \\frac{1}{2\\sqrt{x}} \\\\\n",
    "h(x) = x + y \\\\\n",
    "\\frac{dh}{dx} = \\frac{dh}{dy} = 1 \\\\\n",
    "g(x) = x^2 \\\\\n",
    "\\frac{dg}{dx} = 2x \\\\\n",
    "\\end{align}\\\\\n",
    "$$\n"
   ]
  },
  {
   "cell_type": "markdown",
   "metadata": {},
   "source": [
    "On retouve bien : \n",
    "$$\\begin{align}  \\frac{df}{da} &= \\frac{df}{dh}\\frac{dh}{dg}\\frac{dg}{da} \\\\\n",
    "    &= \\frac{a}{\\sqrt{a^2+b^2}}\n",
    "    \\end{align}\n",
    "    $$"
   ]
  },
  {
   "cell_type": "markdown",
   "metadata": {},
   "source": [
    "## 'shared variable' dans theano"
   ]
  },
  {
   "cell_type": "markdown",
   "metadata": {},
   "source": [
    "* Variables hybrides : symboliques mais avec des valeurs initiales\n",
    "* Accessibles (partagées) depuis plusieurs fonctions \n",
    "* Gain de performance (surtout avec un GPU) \n",
    "\n",
    "\n",
    "* Très utile pour les méchanismes d' `updates` et `givens`"
   ]
  },
  {
   "cell_type": "code",
   "execution_count": 15,
   "metadata": {
    "collapsed": true
   },
   "outputs": [],
   "source": [
    "# variable partagée, initilisée à 0 \n",
    "state = theano.shared(0)"
   ]
  },
  {
   "cell_type": "code",
   "execution_count": 16,
   "metadata": {
    "collapsed": true
   },
   "outputs": [],
   "source": [
    "# de façon plus générique :\n",
    "\n",
    "M = theano.shared( value = np.ones((10,10), dtype='float32'),\n",
    "                   name = 'M')"
   ]
  },
  {
   "cell_type": "markdown",
   "metadata": {},
   "source": [
    "## 'updates' dans theano\n",
    " \n",
    "`updates` : paramètre de `theano.function`\n",
    "\n",
    "Permet de remplacer (mettre à jour) la valeur d'une variable partagée à chaque appel de la fonction compilée "
   ]
  },
  {
   "cell_type": "code",
   "execution_count": 17,
   "metadata": {
    "collapsed": false
   },
   "outputs": [],
   "source": [
    "inc = T.iscalar('inc')\n",
    "accumulator = theano.function(inputs = [inc], \n",
    "                              outputs = state,\n",
    "                              updates = [(state, state+inc)])"
   ]
  },
  {
   "cell_type": "code",
   "execution_count": 18,
   "metadata": {
    "collapsed": false
   },
   "outputs": [
    {
     "data": {
      "text/plain": [
       "array(0)"
      ]
     },
     "execution_count": 18,
     "metadata": {},
     "output_type": "execute_result"
    }
   ],
   "source": [
    "accumulator(2)"
   ]
  },
  {
   "cell_type": "code",
   "execution_count": 19,
   "metadata": {
    "collapsed": false
   },
   "outputs": [
    {
     "name": "stdout",
     "output_type": "stream",
     "text": [
      "2\n"
     ]
    }
   ],
   "source": [
    "print( state.get_value())"
   ]
  },
  {
   "cell_type": "code",
   "execution_count": 20,
   "metadata": {
    "collapsed": true
   },
   "outputs": [],
   "source": [
    "decrementor = theano.function(inputs = [inc], \n",
    "                              outputs = state,\n",
    "                              updates = [(state, state-inc)])"
   ]
  },
  {
   "cell_type": "code",
   "execution_count": 21,
   "metadata": {
    "collapsed": false
   },
   "outputs": [
    {
     "name": "stdout",
     "output_type": "stream",
     "text": [
      "0\n"
     ]
    }
   ],
   "source": [
    "decrementor(2)\n",
    "print( state.get_value())"
   ]
  },
  {
   "cell_type": "markdown",
   "metadata": {},
   "source": [
    "$$ \\theta_{t+1} = \\theta_{t} \\ - \\ \\lambda \\ \\frac{\\partial E(X,Y,\\theta)}{\\partial \\theta}$$\n",
    "\n",
    "Nos paramètres seront donc des variables partagées ! "
   ]
  },
  {
   "cell_type": "markdown",
   "metadata": {},
   "source": [
    "## 'givens' dans theano \n",
    "\n",
    "Autre méchanisme très intéréssant : \n",
    "* Permet de remplacer une variable symbolique par une autre dans une expression \n",
    "* Fonctionne sur les variables partagées et sur les variables symboliques ! "
   ]
  },
  {
   "cell_type": "code",
   "execution_count": 22,
   "metadata": {
    "collapsed": true
   },
   "outputs": [],
   "source": [
    "# une expression avec les deux variables 'state' et 'inc'\n",
    "fn_of_state = state * 2 + inc"
   ]
  },
  {
   "cell_type": "code",
   "execution_count": 23,
   "metadata": {
    "collapsed": true
   },
   "outputs": [],
   "source": [
    "# une nouvelle variable symbolique \n",
    "foo = T.scalar(dtype=state.dtype)"
   ]
  },
  {
   "cell_type": "code",
   "execution_count": 24,
   "metadata": {
    "collapsed": false
   },
   "outputs": [],
   "source": [
    "#On veut compiler une fonction qui calcule `fn_of_state`, mais qui remplace `inc` par `foo`\n",
    "skip_shared = theano.function(inputs = [inc, foo], \n",
    "                              outputs = fn_of_state, \n",
    "                              givens = [(state, foo)])"
   ]
  },
  {
   "cell_type": "code",
   "execution_count": 25,
   "metadata": {
    "collapsed": false
   },
   "outputs": [
    {
     "data": {
      "text/plain": [
       "array(7)"
      ]
     },
     "execution_count": 25,
     "metadata": {},
     "output_type": "execute_result"
    }
   ],
   "source": [
    "skip_shared(1, 3)"
   ]
  },
  {
   "cell_type": "code",
   "execution_count": 27,
   "metadata": {
    "collapsed": false
   },
   "outputs": [
    {
     "name": "stdout",
     "output_type": "stream",
     "text": [
      "0\n"
     ]
    }
   ],
   "source": [
    "# la valeur de 'state' ne change pas et n'est pas utilisée \n",
    "print(state.get_value())"
   ]
  },
  {
   "cell_type": "markdown",
   "metadata": {},
   "source": [
    "**Sera très utile pour la descente du gradient par mini-batch**"
   ]
  },
  {
   "cell_type": "markdown",
   "metadata": {},
   "source": [
    "## Un premier exemple de Machine Learning : régression linéaire "
   ]
  },
  {
   "cell_type": "code",
   "execution_count": 28,
   "metadata": {
    "collapsed": false
   },
   "outputs": [
    {
     "data": {
      "text/plain": [
       "[<matplotlib.lines.Line2D at 0x7fac3239a650>]"
      ]
     },
     "execution_count": 28,
     "metadata": {},
     "output_type": "execute_result"
    },
    {
     "data": {
      "image/png": "[encoded data removed]",
      "text/plain": [
       "<matplotlib.figure.Figure at 0x7fac32a60a90>"
      ]
     },
     "metadata": {},
     "output_type": "display_data"
    }
   ],
   "source": [
    "    #Training Data\n",
    "X_data = np.asarray([3,4,5,6.1,6.3,2.88,8.89,5.62,6.9,1.97,8.22,9.81,4.83,7.27,5.14,3.08], dtype = 'float32')\n",
    "Y_data = np.asarray([0.9,1.6,1.9,2.9,1.54,1.43,3.06,2.36,2.3,1.11,2.57,3.15,1.5,2.64,2.20,1.21], dtype = 'float32')\n",
    "\n",
    "pylab.plot(X_data,Y_data,'ro')"
   ]
  },
  {
   "cell_type": "markdown",
   "metadata": {},
   "source": [
    "Regression linéaire : \n",
    "$$Y = a.X + b $$\n",
    "\n",
    "Fonction de cout pour un batch de N examples:\n",
    "$$cost=\\frac{1}{2N} \\sum_{i=0}^N (pred(x^{(i)})-y^{(i)})^2$$\n",
    "\n",
    "Avec $a$ et $b$ nos paramètres scalaires, \n",
    "\n",
    "$$ pred(x_i) = a \\ x^{(i)} + b $$\n"
   ]
  },
  {
   "cell_type": "code",
   "execution_count": 29,
   "metadata": {
    "collapsed": true
   },
   "outputs": [],
   "source": [
    "rng = np.random\n",
    "\n",
    "# valeurs initiales pour a et b\n",
    "a_value = rng.randn()\n",
    "b_value = rng.randn()\n",
    "\n",
    "# des variables partagées pour nos paramètres : pour utiliser la descente du gradient \n",
    "a = theano.shared(a_value,name ='a')\n",
    "b = theano.shared(b_value,name ='b')"
   ]
  },
  {
   "cell_type": "code",
   "execution_count": 30,
   "metadata": {
    "collapsed": false
   },
   "outputs": [],
   "source": [
    "# X et Y sont des vecteurs et représenteront les données d'entrainements (données et labels)\n",
    "index = T.lscalar('index')\n",
    "X = T.vector('X')\n",
    "Y = T.vector('Y')"
   ]
  },
  {
   "cell_type": "code",
   "execution_count": 31,
   "metadata": {
    "collapsed": false
   },
   "outputs": [],
   "source": [
    "# On définit les fonctions de prédiction et de coût\n",
    "\n",
    "prediction = T.dot(X,a) + b\n",
    "cost = T.sum(T.pow(prediction-Y,2))/(2*Y.shape[0])"
   ]
  },
  {
   "cell_type": "code",
   "execution_count": 32,
   "metadata": {
    "collapsed": true
   },
   "outputs": [],
   "source": [
    "# On définit le gradient de la fonction de coût selon les paramètres 'a' et 'b'\n",
    "grad_a = T.grad(cost,a)\n",
    "grad_b = T.grad(cost,b)"
   ]
  },
  {
   "cell_type": "code",
   "execution_count": 33,
   "metadata": {
    "collapsed": false
   },
   "outputs": [],
   "source": [
    "#Paramètres de l'apprentissage \n",
    "learning_rate = 0.001\n",
    "n_epochs = 10000     "
   ]
  },
  {
   "cell_type": "code",
   "execution_count": 34,
   "metadata": {
    "collapsed": false
   },
   "outputs": [],
   "source": [
    "# On compile une fonction qui prend comme argument X et Y, qui retourne le coût de prédiction pour les données en \n",
    "# entrée, et à chaque appel, met à jour les paramètres a et b\n",
    "train_model = theano.function(inputs = [X,Y],\n",
    "                        outputs = cost,\n",
    "                        updates = [(a,a-learning_rate*grad_a),(b,b-learning_rate*grad_b)]\n",
    "                        )\n",
    "\n",
    "# Fonction qui retourne les valeurs prédites avec les données en entrée\n",
    "test_model = theano.function([X],prediction)\n",
    "\n",
    "#SVG(theano.printing.pydotprint(test_model, return_image=True,format='svg'))"
   ]
  },
  {
   "cell_type": "code",
   "execution_count": 35,
   "metadata": {
    "collapsed": false
   },
   "outputs": [
    {
     "data": {
      "image/png": "[encoded data removed]",
      "text/plain": [
       "<matplotlib.figure.Figure at 0x7fac32b36910>"
      ]
     },
     "metadata": {},
     "output_type": "display_data"
    }
   ],
   "source": [
    "x_line = np.linspace(0,10,10).astype(float32)\n",
    "y_line = [(a.get_value()*x + b.get_value()) for x in x_line]\n",
    "\n",
    "pylab.plot(X_data,Y_data,'ro')\n",
    "pylab.plot(x_line,y_line,'b')\n",
    "pylab.show()"
   ]
  },
  {
   "cell_type": "code",
   "execution_count": 36,
   "metadata": {
    "collapsed": false,
    "scrolled": true
   },
   "outputs": [
    {
     "data": {
      "image/png": "[encoded data removed]",
      "text/plain": [
       "<matplotlib.figure.Figure at 0x7fac3c028d90>"
      ]
     },
     "metadata": {},
     "output_type": "display_data"
    },
    {
     "data": {
      "image/png": "[encoded data removed]",
      "text/plain": [
       "<matplotlib.figure.Figure at 0x7fac3c028d90>"
      ]
     },
     "metadata": {},
     "output_type": "display_data"
    }
   ],
   "source": [
    "validation_frequency = 500\n",
    "\n",
    "for epoch in range(n_epochs + 1):\n",
    "        minibatch_avg_cost = train_model(X_data,Y_data)\n",
    "        \n",
    "        if (epoch%validation_frequency == 0) and (epoch > 0) :\n",
    "            pylab.plot([epoch], [minibatch_avg_cost], 'bo', label='batch_avg_cost')\n",
    "            IPython.display.clear_output(wait=True)\n",
    "            IPython.display.display(pylab.gcf())\n",
    "        \n"
   ]
  },
  {
   "cell_type": "code",
   "execution_count": 37,
   "metadata": {
    "collapsed": false
   },
   "outputs": [
    {
     "data": {
      "image/png": "[encoded data removed]",
      "text/plain": [
       "<matplotlib.figure.Figure at 0x7fac32a94310>"
      ]
     },
     "metadata": {},
     "output_type": "display_data"
    },
    {
     "name": "stdout",
     "output_type": "stream",
     "text": [
      "-0.0204064226375\n",
      "0.356084713124\n"
     ]
    }
   ],
   "source": [
    "x_line = np.linspace(0,10,10).astype(float32)\n",
    "y_line = [(a.get_value()*x + b.get_value()) for x in x_line]\n",
    "\n",
    "pylab.plot(X_data,Y_data,'ro')\n",
    "pylab.plot(x_line,y_line,'b')\n",
    "pylab.show()\n",
    "\n",
    "print b.get_value()\n",
    "print a.get_value()"
   ]
  },
  {
   "cell_type": "code",
   "execution_count": null,
   "metadata": {
    "collapsed": false
   },
   "outputs": [],
   "source": [
    "test_model(np.asarray([12.0, 3.2], dtype = 'float32'))\n"
   ]
  },
  {
   "cell_type": "code",
   "execution_count": null,
   "metadata": {
    "collapsed": true
   },
   "outputs": [],
   "source": []
  }
 ],
 "metadata": {
  "kernelspec": {
   "display_name": "Python 2",
   "language": "python",
   "name": "python2"
  },
  "language_info": {
   "codemirror_mode": {
    "name": "ipython",
    "version": 2
   },
   "file_extension": ".py",
   "mimetype": "text/x-python",
   "name": "python",
   "nbconvert_exporter": "python",
   "pygments_lexer": "ipython2",
   "version": "2.7.6"
  }
 },
 "nbformat": 4,
 "nbformat_minor": 1
}
