{
 "cells": [
  {
   "cell_type": "code",
   "execution_count": null,
   "metadata": {
    "collapsed": false
   },
   "outputs": [],
   "source": [
    "import theano\n",
    "import theano.tensor as T\n",
    "\n",
    "import IPython \n",
    "from IPython.display import SVG\n",
    "import numpy as np\n",
    "\n",
    "import matplotlib.pyplot as plt\n",
    "import time\n",
    "\n",
    "#cmd for Ipython\n",
    "%matplotlib inline\n",
    "%pylab inline\n",
    "pylab.rcParams['figure.figsize'] = (5, 3.5)\n",
    "\n",
    "#plt.style.use('ggplot')\n",
    "plt.ion()\n"
   ]
  },
  {
   "cell_type": "markdown",
   "metadata": {},
   "source": [
    "* Librairie Python\n",
    "* Définir et évaluer des expressions mathématiques \n",
    "* Représentation d'une expression par un graphe\n",
    "* Générer et compiler du code optimisé pour CPU (C/C++) ou GPU (CUDA)\n",
    "* CPU/GPU transparent pour l'utilisateur\n",
    "* Dérivation automatique (très utile pour le gradient)"
   ]
  },
  {
   "cell_type": "markdown",
   "metadata": {},
   "source": [
    "# Définir une expression entre variables symboliques\n",
    "\n",
    "$$c = \\sqrt{a^2 + b^2}$$"
   ]
  },
  {
   "cell_type": "code",
   "execution_count": null,
   "metadata": {
    "collapsed": false
   },
   "outputs": [],
   "source": [
    "#Dans cet exemple nous allons utiliser deux matrices (par défaut, des matrics réelles)\n",
    "a = T.matrix('a')\n",
    "b = T.matrix('b')\n",
    "\n",
    "#Expression mathématique entre 'a' et 'b'\n",
    "#En utilisant des opérations entre ces variables symboliques\n",
    "c = T.sqrt((T.sqr(a) + T.sqr(b)))\n",
    "\n",
    "# theano.tensor contient de nombreuses fonctions/opérations entre variables symboliques \n",
    "\n",
    "# 'c' est une nouvelle variable symbolique, qui représente l'expression mathématique voulue\n"
   ]
  },
  {
   "cell_type": "code",
   "execution_count": null,
   "metadata": {
    "collapsed": false
   },
   "outputs": [],
   "source": [
    "# le module 'theano.function' va générer le code nécessaire à l'expression \n",
    "# puis le compiler et le garder en mémoire, pour appeler directement la fonction\n",
    "# theano.function(inputs=[...], outputs = [....])\n",
    "f = theano.function([a,b],c)"
   ]
  },
  {
   "cell_type": "code",
   "execution_count": null,
   "metadata": {
    "collapsed": false
   },
   "outputs": [],
   "source": [
    "#On peut ensuite directement appeler la function 'f'\n",
    "f( [[0,1],[2,8]] , [[2,5],[-4,5]] )"
   ]
  },
  {
   "cell_type": "markdown",
   "metadata": {},
   "source": [
    "## Différentes variables symboliques dans Theano"
   ]
  },
  {
   "cell_type": "markdown",
   "metadata": {},
   "source": [
    "<dl class=\"function\">\n",
    "<dt id=\"theano.tensor.scalar\">\n",
    "<code class=\"descclassname\">theano.tensor.</code><code class=\"descname\">scalar</code><span class=\"sig-paren\">(</span><em>name=None</em>, <em>dtype=config.floatX</em><span class=\"sig-paren\">)</span><a class=\"reference external\" href=\"https://github.com/Theano/theano/blob/8cc53673d7aa37873a753b7f847af4a185298f4d/theano/tensor/basic.py#L816-L830\"><span class=\"viewcode-link\">[source]</span></a><a class=\"headerlink\" href=\"#theano.tensor.scalar\" title=\"Permalink to this definition\">¶</a></dt>\n",
    "<dd><p>Return a Variable for a 0-dimensional ndarray</p>\n",
    "</dd></dl>\n",
    "\n",
    "<dl class=\"function\">\n",
    "<dt id=\"theano.tensor.vector\">\n",
    "<code class=\"descclassname\">theano.tensor.</code><code class=\"descname\">vector</code><span class=\"sig-paren\">(</span><em>name=None</em>, <em>dtype=config.floatX</em><span class=\"sig-paren\">)</span><a class=\"reference external\" href=\"https://github.com/Theano/theano/blob/8cc53673d7aa37873a753b7f847af4a185298f4d/theano/tensor/basic.py#L852-L866\"><span class=\"viewcode-link\">[source]</span></a><a class=\"headerlink\" href=\"#theano.tensor.vector\" title=\"Permalink to this definition\">¶</a></dt>\n",
    "<dd><p>Return a Variable for a 1-dimensional ndarray</p>\n",
    "</dd></dl>\n",
    "\n",
    "<dl class=\"function\">\n",
    "<dt id=\"theano.tensor.row\">\n",
    "<code class=\"descclassname\">theano.tensor.</code><code class=\"descname\">row</code><span class=\"sig-paren\">(</span><em>name=None</em>, <em>dtype=config.floatX</em><span class=\"sig-paren\">)</span><a class=\"reference external\" href=\"https://github.com/Theano/theano/blob/8cc53673d7aa37873a753b7f847af4a185298f4d/theano/tensor/basic.py#L918-L932\"><span class=\"viewcode-link\">[source]</span></a><a class=\"headerlink\" href=\"#theano.tensor.row\" title=\"Permalink to this definition\">¶</a></dt>\n",
    "<dd><p>Return a Variable for a 2-dimensional ndarray\n",
    "in which the number of rows is guaranteed to be 1.</p>\n",
    "</dd></dl>\n",
    "\n",
    "<dl class=\"function\">\n",
    "<dt id=\"theano.tensor.col\">\n",
    "<code class=\"descclassname\">theano.tensor.</code><code class=\"descname\">col</code><span class=\"sig-paren\">(</span><em>name=None</em>, <em>dtype=config.floatX</em><span class=\"sig-paren\">)</span><a class=\"reference external\" href=\"https://github.com/Theano/theano/blob/8cc53673d7aa37873a753b7f847af4a185298f4d/theano/tensor/basic.py#L945-L959\"><span class=\"viewcode-link\">[source]</span></a><a class=\"headerlink\" href=\"#theano.tensor.col\" title=\"Permalink to this definition\">¶</a></dt>\n",
    "<dd><p>Return a Variable for a 2-dimensional ndarray\n",
    "in which the number of columns is guaranteed to be 1.</p>\n",
    "</dd></dl>\n",
    "\n",
    "<dl class=\"function\">\n",
    "<dt id=\"theano.tensor.matrix\">\n",
    "<code class=\"descclassname\">theano.tensor.</code><code class=\"descname\">matrix</code><span class=\"sig-paren\">(</span><em>name=None</em>, <em>dtype=config.floatX</em><span class=\"sig-paren\">)</span><a class=\"reference external\" href=\"https://github.com/Theano/theano/blob/8cc53673d7aa37873a753b7f847af4a185298f4d/theano/tensor/basic.py#L885-L899\"><span class=\"viewcode-link\">[source]</span></a><a class=\"headerlink\" href=\"#theano.tensor.matrix\" title=\"Permalink to this definition\">¶</a></dt>\n",
    "<dd><p>Return a Variable for a 2-dimensional ndarray</p>\n",
    "</dd></dl>\n",
    "\n",
    "<dl class=\"function\">\n",
    "<dt id=\"theano.tensor.tensor3\">\n",
    "<code class=\"descclassname\">theano.tensor.</code><code class=\"descname\">tensor3</code><span class=\"sig-paren\">(</span><em>name=None</em>, <em>dtype=config.floatX</em><span class=\"sig-paren\">)</span><a class=\"reference external\" href=\"https://github.com/Theano/theano/blob/8cc53673d7aa37873a753b7f847af4a185298f4d/theano/tensor/basic.py#L972-L986\"><span class=\"viewcode-link\">[source]</span></a><a class=\"headerlink\" href=\"#theano.tensor.tensor3\" title=\"Permalink to this definition\">¶</a></dt>\n",
    "<dd><p>Return a Variable for a 3-dimensional ndarray</p>\n",
    "</dd></dl>\n",
    "\n",
    "<dl class=\"function\">\n",
    "<dt id=\"theano.tensor.tensor4\">\n",
    "<code class=\"descclassname\">theano.tensor.</code><code class=\"descname\">tensor4</code><span class=\"sig-paren\">(</span><em>name=None</em>, <em>dtype=config.floatX</em><span class=\"sig-paren\">)</span><a class=\"reference external\" href=\"https://github.com/Theano/theano/blob/8cc53673d7aa37873a753b7f847af4a185298f4d/theano/tensor/basic.py#L1001-L1015\"><span class=\"viewcode-link\">[source]</span></a><a class=\"headerlink\" href=\"#theano.tensor.tensor4\" title=\"Permalink to this definition\">¶</a></dt>\n",
    "<dd><p>Return a Variable for a 4-dimensional ndarray</p>\n",
    "</dd></dl>"
   ]
  },
  {
   "cell_type": "markdown",
   "metadata": {},
   "source": [
    "## Différentes opérations entre variables symboliques"
   ]
  },
  {
   "cell_type": "markdown",
   "metadata": {},
   "source": [
    "- ** theano.tensor.dot(X, Y)**\n",
    "    * For 2-D arrays it is equivalent to matrix multiplication, and for 1-D arrays to inner product of vectors\n",
    "- **theano.tensor.exp(a)**\n",
    "   * Returns a variable representing the exponential of a, ie e^a.\n",
    "    \n",
    "- **theano.tensor.maximum(a, b)**\n",
    "   * Returns a variable representing the maximum element by element of a and b\n",
    "\n",
    "- **theano.tensor.minimum(a, b)**\n",
    "   * Returns a variable representing the minimum element by element of a and b\n",
    "\n",
    "- **theano.tensor.neg(a)**\n",
    "   * Returns a variable representing the negation of a (also -a).\n",
    "\n",
    "- **theano.tensor.inv(a)**\n",
    "   * Returns a variable representing the inverse of a, ie 1.0/a. Also called reciprocal.\n",
    "\n",
    "- **theano.tensor.log(a), log2(a), log10(a)**\n",
    "   * Returns a variable representing the base e, 2 or 10 logarithm of a\n",
    "    \n",
    "- **theano.tensor.sqr(a)**\n",
    "  *  Returns a variable representing the square of a, ie a^2.\n",
    "\n",
    "- **theano.tensor.sqrt(a)**\n",
    "   * Returns a variable representing the of a, ie a^0.5.\n",
    "\n",
    "- **theano.tensor.cos(a), sin(a), tan(a)**\n",
    "   * Returns a variable representing the trigonometric functions of a (cosine, sine and tangent).\n",
    "    \n"
   ]
  },
  {
   "cell_type": "markdown",
   "metadata": {},
   "source": [
    "# Phase d'optimisation entre la représentation symbolique et la fonction compilée"
   ]
  },
  {
   "cell_type": "code",
   "execution_count": null,
   "metadata": {
    "collapsed": false
   },
   "outputs": [],
   "source": [
    "\n",
    "SVG(theano.printing.pydotprint(c, return_image=True,format='svg'))"
   ]
  },
  {
   "cell_type": "code",
   "execution_count": null,
   "metadata": {
    "collapsed": false
   },
   "outputs": [],
   "source": [
    "SVG(theano.printing.pydotprint(f, return_image=True,format='svg'))"
   ]
  },
  {
   "cell_type": "markdown",
   "metadata": {},
   "source": [
    "### Exemple d'optimisation "
   ]
  },
  {
   "cell_type": "code",
   "execution_count": null,
   "metadata": {
    "collapsed": true
   },
   "outputs": [],
   "source": [
    "x = T.vector('x')\n",
    "y = T.vector('y')\n",
    "\n",
    "# expression à optimiser : multiplication et division par `y` à supprimer \n",
    "z = (x*y)/y\n",
    "\n",
    "g = theano.function([x,y],z)   "
   ]
  },
  {
   "cell_type": "code",
   "execution_count": null,
   "metadata": {
    "collapsed": false
   },
   "outputs": [],
   "source": [
    "g([0,1,2],[2,5,9])"
   ]
  },
  {
   "cell_type": "code",
   "execution_count": null,
   "metadata": {
    "collapsed": false
   },
   "outputs": [],
   "source": [
    "SVG(theano.printing.pydotprint(z, return_image=True,format='svg'))"
   ]
  },
  {
   "cell_type": "code",
   "execution_count": null,
   "metadata": {
    "collapsed": false
   },
   "outputs": [],
   "source": [
    "SVG(theano.printing.pydotprint(g, return_image=True,format='svg'))"
   ]
  },
  {
   "cell_type": "markdown",
   "metadata": {},
   "source": [
    "# Dérivation dans Theano\n",
    "\n",
    "- theano.tensor.grad(function,variable)\n",
    "- Uniquement avec des fonctions scalaires ! (ex: cost, loss, ...)"
   ]
  },
  {
   "cell_type": "code",
   "execution_count": null,
   "metadata": {
    "collapsed": false
   },
   "outputs": [],
   "source": [
    "#Deux variables symbolique qui sont des scalaires !! \n",
    "a = T.scalar('a')\n",
    "b = T.scalar('b')\n",
    "\n",
    "#E Même expression ! \n",
    "c = T.sqrt((T.sqr(a) + T.sqr(b)))\n",
    "\n",
    "# Gradient de c selon a ! \n",
    "grad_c_a = T.grad(c,[a])"
   ]
  },
  {
   "cell_type": "code",
   "execution_count": null,
   "metadata": {
    "collapsed": false
   },
   "outputs": [],
   "source": [
    "f_grad_c_a = theano.function([a,b],grad_c_a)\n",
    "f_grad_c_a( 0.5 , 0.87 )"
   ]
  },
  {
   "cell_type": "code",
   "execution_count": null,
   "metadata": {
    "collapsed": false
   },
   "outputs": [],
   "source": [
    "SVG(theano.printing.pydotprint(grad_c_a, return_image=True,format='svg'))"
   ]
  },
  {
   "cell_type": "code",
   "execution_count": null,
   "metadata": {
    "collapsed": false,
    "scrolled": true
   },
   "outputs": [],
   "source": [
    "SVG(theano.printing.pydotprint(f_grad_c_a, return_image=True,format='svg'))"
   ]
  },
  {
   "cell_type": "markdown",
   "metadata": {
    "collapsed": true
   },
   "source": [
    "On en posant : \n",
    "    $$\\begin{align} c(a,b) &= \\sqrt{a^2+b^2} \\\\\n",
    "    &= f \\ ( \\ h \\ ( \\ g \\ ( \\ a \\ ) \\ , \\ g \\ ( \\ b \\ ) \\ ) \\ )\n",
    "    \\end{align}\n",
    "    $$\n",
    "    \n",
    "Avec :\n",
    "$$\\begin{align} \n",
    "f(x) = \\sqrt{x} \\\\\n",
    "\\frac{df}{dx} = \\frac{1}{2\\sqrt{x}} \\\\\n",
    "h(x) = x + y \\\\\n",
    "\\frac{dh}{dx} = \\frac{dh}{dy} = 1 \\\\\n",
    "g(x) = x^2 \\\\\n",
    "\\frac{dg}{dx} = 2x \\\\\n",
    "\\end{align}\\\\\n",
    "$$\n"
   ]
  },
  {
   "cell_type": "markdown",
   "metadata": {},
   "source": [
    "On retouve bien : \n",
    "$$\\begin{align}  \\frac{df}{da} &= \\frac{df}{dh}\\frac{dh}{dg}\\frac{dg}{da} \\\\\n",
    "    &= \\frac{a}{\\sqrt{a^2+b^2}}\n",
    "    \\end{align}\n",
    "    $$"
   ]
  },
  {
   "cell_type": "markdown",
   "metadata": {},
   "source": [
    "## 'shared variable' dans theano"
   ]
  },
  {
   "cell_type": "markdown",
   "metadata": {},
   "source": [
    "* Variables hybrides : symboliques mais avec des valeurs initiales\n",
    "* Accessibles (partagées) depuis plusieurs fonctions \n",
    "* Gain de performance (surtout avec un GPU) \n",
    "\n",
    "\n",
    "* Très utile pour les méchanismes d' `updates` et `givens`"
   ]
  },
  {
   "cell_type": "code",
   "execution_count": null,
   "metadata": {
    "collapsed": true
   },
   "outputs": [],
   "source": [
    "# variable partagée, initilisée à 0 \n",
    "state = theano.shared(0)"
   ]
  },
  {
   "cell_type": "code",
   "execution_count": null,
   "metadata": {
    "collapsed": true
   },
   "outputs": [],
   "source": [
    "# de façon plus générique :\n",
    "\n",
    "M = theano.shared( value = np.ones((10,10), dtype='float32'),\n",
    "                   name = 'M')"
   ]
  },
  {
   "cell_type": "markdown",
   "metadata": {},
   "source": [
    "## 'updates' dans theano\n",
    " \n",
    "`updates` : paramètre de `theano.function`\n",
    "\n",
    "Permet de remplacer (mettre à jour) la valeur d'une variable partagée à chaque appel de la fonction compilée "
   ]
  },
  {
   "cell_type": "code",
   "execution_count": null,
   "metadata": {
    "collapsed": false
   },
   "outputs": [],
   "source": [
    "inc = T.iscalar('inc')\n",
    "accumulator = theano.function(inputs = [inc], \n",
    "                              outputs = state,\n",
    "                              updates = [(state, state+inc)])"
   ]
  },
  {
   "cell_type": "code",
   "execution_count": null,
   "metadata": {
    "collapsed": false
   },
   "outputs": [],
   "source": [
    "accumulator(2)"
   ]
  },
  {
   "cell_type": "code",
   "execution_count": null,
   "metadata": {
    "collapsed": false
   },
   "outputs": [],
   "source": [
    "print( state.get_value())"
   ]
  },
  {
   "cell_type": "code",
   "execution_count": null,
   "metadata": {
    "collapsed": true
   },
   "outputs": [],
   "source": [
    "decrementor = theano.function(inputs = [inc], \n",
    "                              outputs = state,\n",
    "                              updates = [(state, state-inc)])"
   ]
  },
  {
   "cell_type": "code",
   "execution_count": null,
   "metadata": {
    "collapsed": false
   },
   "outputs": [],
   "source": [
    "decrementor(2)\n",
    "print( state.get_value())"
   ]
  },
  {
   "cell_type": "markdown",
   "metadata": {},
   "source": [
    "$$ \\theta_{t+1} = \\theta_{t} \\ - \\ \\lambda \\ \\frac{\\partial E(X,Y,\\theta)}{\\partial \\theta}$$\n",
    "\n",
    "Nos paramètres seront donc des variables partagées ! "
   ]
  },
  {
   "cell_type": "markdown",
   "metadata": {},
   "source": [
    "## 'givens' dans theano \n",
    "\n",
    "Autre méchanisme très intéréssant : \n",
    "* Permet de remplacer une variable symbolique par une autre dans une expression \n",
    "* Fonctionne sur les variables partagées et sur les variables symboliques ! "
   ]
  },
  {
   "cell_type": "code",
   "execution_count": null,
   "metadata": {
    "collapsed": true
   },
   "outputs": [],
   "source": [
    "# une expression avec les deux variables 'state' et 'inc'\n",
    "fn_of_state = state * 2 + inc"
   ]
  },
  {
   "cell_type": "code",
   "execution_count": null,
   "metadata": {
    "collapsed": true
   },
   "outputs": [],
   "source": [
    "# une nouvelle variable symbolique \n",
    "foo = T.scalar(dtype=state.dtype)"
   ]
  },
  {
   "cell_type": "code",
   "execution_count": null,
   "metadata": {
    "collapsed": false
   },
   "outputs": [],
   "source": [
    "#On veut compiler une fonction qui calcule `fn_of_state`, mais qui remplace `inc` par `foo`\n",
    "skip_shared = theano.function(inputs = [inc, foo], \n",
    "                              outputs = fn_of_state, \n",
    "                              givens = [(state, foo)])"
   ]
  },
  {
   "cell_type": "code",
   "execution_count": null,
   "metadata": {
    "collapsed": false
   },
   "outputs": [],
   "source": [
    "skip_shared(1, 3)"
   ]
  },
  {
   "cell_type": "code",
   "execution_count": null,
   "metadata": {
    "collapsed": false
   },
   "outputs": [],
   "source": [
    "# la valeur de 'state' ne change pas et n'est pas utilisée \n",
    "print(state.get_value())"
   ]
  },
  {
   "cell_type": "markdown",
   "metadata": {},
   "source": [
    "**Sera très utile pour la descente du gradient par mini-batch**"
   ]
  },
  {
   "cell_type": "markdown",
   "metadata": {},
   "source": [
    "## Un premier exemple de Machine Learning : régression linéaire "
   ]
  },
  {
   "cell_type": "code",
   "execution_count": null,
   "metadata": {
    "collapsed": false
   },
   "outputs": [],
   "source": [
    "    #Training Data\n",
    "X_data = np.asarray([3,4,5,6.1,6.3,2.88,8.89,5.62,6.9,1.97,8.22,9.81,4.83,7.27,5.14,3.08], dtype = 'float32')\n",
    "Y_data = np.asarray([0.9,1.6,1.9,2.9,1.54,1.43,3.06,2.36,2.3,1.11,2.57,3.15,1.5,2.64,2.20,1.21], dtype = 'float32')\n",
    "\n",
    "pylab.plot(X_data,Y_data,'ro')"
   ]
  },
  {
   "cell_type": "markdown",
   "metadata": {},
   "source": [
    "Regression linéaire : \n",
    "$$Y = a.X + b $$\n",
    "\n",
    "Fonction de cout pour un batch de N examples:\n",
    "$$cost=\\frac{1}{2N} \\sum_{i=0}^N (pred(x^{(i)})-y^{(i)})^2$$\n",
    "\n",
    "Avec $a$ et $b$ nos paramètres scalaires, \n",
    "\n",
    "$$ pred(x_i) = a \\ x^{(i)} + b $$\n"
   ]
  },
  {
   "cell_type": "code",
   "execution_count": null,
   "metadata": {
    "collapsed": true
   },
   "outputs": [],
   "source": [
    "rng = np.random\n",
    "\n",
    "# valeurs initiales pour a et b\n",
    "a_value = rng.randn()\n",
    "b_value = rng.randn()\n",
    "\n",
    "# des variables partagées pour nos paramètres : pour utiliser la descente du gradient \n",
    "a = theano.shared(a_value,name ='a')\n",
    "b = theano.shared(b_value,name ='b')"
   ]
  },
  {
   "cell_type": "code",
   "execution_count": null,
   "metadata": {
    "collapsed": false
   },
   "outputs": [],
   "source": [
    "# X et Y sont des vecteurs et représenteront les données d'entrainements (données et labels)\n",
    "index = T.lscalar('index')\n",
    "X = T.vector('X')\n",
    "Y = T.vector('Y')"
   ]
  },
  {
   "cell_type": "code",
   "execution_count": null,
   "metadata": {
    "collapsed": false
   },
   "outputs": [],
   "source": [
    "# On définit les fonctions de prédiction et de coût\n",
    "\n",
    "prediction = T.dot(X,a) + b\n",
    "cost = T.sum(T.pow(prediction-Y,2))/(2*Y.shape[0])"
   ]
  },
  {
   "cell_type": "code",
   "execution_count": null,
   "metadata": {
    "collapsed": true
   },
   "outputs": [],
   "source": [
    "# On définit le gradient de la fonction de coût selon les paramètres 'a' et 'b'\n",
    "grad_a = T.grad(cost,a)\n",
    "grad_b = T.grad(cost,b)"
   ]
  },
  {
   "cell_type": "code",
   "execution_count": null,
   "metadata": {
    "collapsed": false
   },
   "outputs": [],
   "source": [
    "#Paramètres de l'apprentissage \n",
    "learning_rate = 0.001\n",
    "n_epochs = 10000     "
   ]
  },
  {
   "cell_type": "code",
   "execution_count": null,
   "metadata": {
    "collapsed": false
   },
   "outputs": [],
   "source": [
    "# On compile une fonction qui prend comme argument X et Y, qui retourne le coût de prédiction pour les données en \n",
    "# entrée, et à chaque appel, met à jour les paramètres a et b\n",
    "train_model = theano.function(inputs = [X,Y],\n",
    "                        outputs = cost,\n",
    "                        updates = [(a,a-learning_rate*grad_a),(b,b-learning_rate*grad_b)]\n",
    "                        )\n",
    "\n",
    "# Fonction qui retourne les valeurs prédites avec les données en entrée\n",
    "test_model = theano.function([X],prediction)\n",
    "\n",
    "#SVG(theano.printing.pydotprint(test_model, return_image=True,format='svg'))"
   ]
  },
  {
   "cell_type": "code",
   "execution_count": null,
   "metadata": {
    "collapsed": false
   },
   "outputs": [],
   "source": [
    "x_line = np.linspace(0,10,10).astype(float32)\n",
    "y_line = [(a.get_value()*x + b.get_value()) for x in x_line]\n",
    "\n",
    "pylab.plot(X_data,Y_data,'ro')\n",
    "pylab.plot(x_line,y_line,'b')\n",
    "pylab.show()"
   ]
  },
  {
   "cell_type": "code",
   "execution_count": null,
   "metadata": {
    "collapsed": false,
    "scrolled": true
   },
   "outputs": [],
   "source": [
    "validation_frequency = 500\n",
    "\n",
    "for epoch in range(n_epochs + 1):\n",
    "        minibatch_avg_cost = train_model(X_data,Y_data)\n",
    "        \n",
    "        if (epoch%validation_frequency == 0) and (epoch > 0) :\n",
    "            pylab.plot([epoch], [minibatch_avg_cost], 'bo', label='batch_avg_cost')\n",
    "            IPython.display.clear_output(wait=True)\n",
    "            IPython.display.display(pylab.gcf())\n",
    "        \n"
   ]
  },
  {
   "cell_type": "code",
   "execution_count": null,
   "metadata": {
    "collapsed": false
   },
   "outputs": [],
   "source": [
    "x_line = np.linspace(0,10,10).astype(float32)\n",
    "y_line = [(a.get_value()*x + b.get_value()) for x in x_line]\n",
    "\n",
    "pylab.plot(X_data,Y_data,'ro')\n",
    "pylab.plot(x_line,y_line,'b')\n",
    "pylab.show()\n",
    "\n",
    "print b.get_value()\n",
    "print a.get_value()"
   ]
  },
  {
   "cell_type": "code",
   "execution_count": null,
   "metadata": {
    "collapsed": false
   },
   "outputs": [],
   "source": [
    "test_model(np.asarray([12.0, 3.2], dtype = 'float32'))\n"
   ]
  },
  {
   "cell_type": "code",
   "execution_count": null,
   "metadata": {
    "collapsed": true
   },
   "outputs": [],
   "source": []
  }
 ],
 "metadata": {
  "kernelspec": {
   "display_name": "Python 2",
   "language": "python",
   "name": "python2"
  },
  "language_info": {
   "codemirror_mode": {
    "name": "ipython",
    "version": 2
   },
   "file_extension": ".py",
   "mimetype": "text/x-python",
   "name": "python",
   "nbconvert_exporter": "python",
   "pygments_lexer": "ipython2",
   "version": "2.7.6"
  }
 },
 "nbformat": 4,
 "nbformat_minor": 1
}
