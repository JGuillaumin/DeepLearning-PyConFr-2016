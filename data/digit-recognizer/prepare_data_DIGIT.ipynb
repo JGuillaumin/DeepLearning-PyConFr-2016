{
 "cells": [
  {
   "cell_type": "code",
   "execution_count": 3,
   "metadata": {
    "collapsed": true
   },
   "outputs": [],
   "source": [
    "import numpy as np"
   ]
  },
  {
   "cell_type": "code",
   "execution_count": 4,
   "metadata": {
    "collapsed": true
   },
   "outputs": [],
   "source": [
    "# load csv files to numpy arrays\n",
    "def load_data(data_dir):\n",
    "    train_data = open(data_dir + \"train.csv\").read()\n",
    "    train_data = train_data.split(\"\\n\")[1:-1]\n",
    "    train_data = [i.split(\",\") for i in train_data]\n",
    "    # print(len(train_data))\n",
    "    X_train = np.array([[int(i[j]) for j in range(1,len(i))] for i in train_data]).astype('float32')\n",
    "    y_train = np.array([int(i[0]) for i in train_data]).astype('int32')\n",
    "\n",
    "    # print(X_train.shape, y_train.shape)\n",
    "\n",
    "    test_data = open(data_dir + \"test.csv\").read()\n",
    "    test_data = test_data.split(\"\\n\")[1:-1]\n",
    "    test_data = [i.split(\",\") for i in test_data]\n",
    "    # print(len(test_data))\n",
    "    X_test = np.array([[int(i[j]) for j in range(0,len(i))] for i in test_data]).astype('float32')\n",
    "\n",
    "    # print(X_test.shape)\n",
    "\n",
    "    return X_train, y_train, X_test"
   ]
  },
  {
   "cell_type": "code",
   "execution_count": 5,
   "metadata": {
    "collapsed": true
   },
   "outputs": [],
   "source": [
    "data_dir = \"\"\n",
    "X_train, y_train, X_test = load_data(data_dir)"
   ]
  },
  {
   "cell_type": "code",
   "execution_count": 6,
   "metadata": {
    "collapsed": false
   },
   "outputs": [
    {
     "name": "stdout",
     "output_type": "stream",
     "text": [
      "((37000, 784), (37000,), (5000, 784), (5000,))\n"
     ]
    }
   ],
   "source": [
    "p = np.random.permutation(X_train.shape[0])\n",
    "\n",
    "X_train = X_train[p]\n",
    "y_train = y_train[p]\n",
    "\n",
    "X_train, X_valid = X_train[:-5000], X_train[:5000]\n",
    "y_train, y_valid = y_train[:-5000], y_train[:5000]\n",
    "\n",
    "print(X_train.shape, y_train.shape, X_valid.shape, y_valid.shape)"
   ]
  },
  {
   "cell_type": "code",
   "execution_count": 9,
   "metadata": {
    "collapsed": false
   },
   "outputs": [],
   "source": [
    "np.save('X_train',X_train)\n",
    "np.save('X_valid',X_valid)\n",
    "np.save('X_test',X_test)\n",
    "\n",
    "np.save('y_train',y_train)\n",
    "np.save('y_valid',y_valid)"
   ]
  },
  {
   "cell_type": "code",
   "execution_count": null,
   "metadata": {
    "collapsed": true
   },
   "outputs": [],
   "source": []
  }
 ],
 "metadata": {
  "kernelspec": {
   "display_name": "Python 2",
   "language": "python",
   "name": "python2"
  },
  "language_info": {
   "codemirror_mode": {
    "name": "ipython",
    "version": 2
   },
   "file_extension": ".py",
   "mimetype": "text/x-python",
   "name": "python",
   "nbconvert_exporter": "python",
   "pygments_lexer": "ipython2",
   "version": "2.7.6"
  }
 },
 "nbformat": 4,
 "nbformat_minor": 1
}
