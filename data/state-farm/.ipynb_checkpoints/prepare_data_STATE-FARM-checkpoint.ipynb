{
 "cells": [
  {
   "cell_type": "code",
   "execution_count": 1,
   "metadata": {
    "collapsed": true
   },
   "outputs": [],
   "source": [
    "import os, random\n",
    "import numpy as np\n",
    "import glob\n",
    "import math\n",
    " \n",
    "\n",
    "import PIL\n",
    "from PIL import Image\n",
    "import six.moves.cPickle as pickle\n",
    "\n",
    "\n",
    "from random import shuffle\n",
    "import random\n"
   ]
  },
  {
   "cell_type": "code",
   "execution_count": 2,
   "metadata": {
    "collapsed": true
   },
   "outputs": [],
   "source": [
    "TRAIN_DIR = 'train'\n",
    "TEST_DIR = 'test'"
   ]
  },
  {
   "cell_type": "code",
   "execution_count": null,
   "metadata": {
    "collapsed": true
   },
   "outputs": [],
   "source": []
  },
  {
   "cell_type": "code",
   "execution_count": 3,
   "metadata": {
    "collapsed": true
   },
   "outputs": [],
   "source": [
    "ROWS = 40\n",
    "COLS = 40\n",
    "imageSize = ROWS * COLS\n",
    "num_features = imageSize "
   ]
  },
  {
   "cell_type": "code",
   "execution_count": 4,
   "metadata": {
    "collapsed": true
   },
   "outputs": [],
   "source": [
    "def load_train(path_train):\n",
    "    X_train = []\n",
    "    y_train = []\n",
    "    print('Read train images')\n",
    "    for j in range(10):\n",
    "        print('Load folder c{}'.format(j))\n",
    "        path = os.path.join(path_train, 'c' + str(j), '*.jpg')\n",
    "        files = glob.glob(path)\n",
    "        for fl in files:\n",
    "            img = Image.open(fl).convert('L')\n",
    "            img = np.reshape( img.resize((ROWS, COLS), PIL.Image.ANTIALIAS), num_features ).astype('float32')/255.\n",
    "            X_train.append(img)\n",
    "            y_train.append(j)\n",
    "            \n",
    "    X_train = np.array(X_train)\n",
    "    y_train = np.array(y_train)\n",
    "\n",
    "    p = np.random.permutation(X_train.shape[0])\n",
    "    \n",
    "    X_train = X_train[p]\n",
    "    y_train = y_train[p]\n",
    "    \n",
    "    X_valid, X_train = X_train[:2000], X_train[2000:]\n",
    "    y_valid, y_train = y_train[:2000], y_train[2000:]\n",
    "    \n",
    "    return X_train, y_train, X_valid, y_valid\n",
    "\n",
    "    "
   ]
  },
  {
   "cell_type": "code",
   "execution_count": 5,
   "metadata": {
    "collapsed": false
   },
   "outputs": [
    {
     "name": "stdout",
     "output_type": "stream",
     "text": [
      "Read train images\n",
      "Load folder c0\n",
      "Load folder c1\n",
      "Load folder c2\n",
      "Load folder c3\n",
      "Load folder c4\n",
      "Load folder c5\n",
      "Load folder c6\n",
      "Load folder c7\n",
      "Load folder c8\n",
      "Load folder c9\n",
      "((20424, 1600), (20424,), (2000, 1600), (2000,))\n"
     ]
    }
   ],
   "source": [
    "X_train, y_train, X_valid, y_valid = load_train(TRAIN_DIR)\n",
    "print(X_train.shape, y_train.shape, X_valid.shape, y_valid.shape)"
   ]
  },
  {
   "cell_type": "code",
   "execution_count": 6,
   "metadata": {
    "collapsed": true
   },
   "outputs": [],
   "source": [
    "np.save('X_train_' + str(ROWS),X_train)\n",
    "np.save('X_valid_' + str(ROWS),X_valid)\n",
    "\n",
    "del X_train\n",
    "del X_valid"
   ]
  },
  {
   "cell_type": "code",
   "execution_count": 7,
   "metadata": {
    "collapsed": true
   },
   "outputs": [],
   "source": [
    "np.save('y_train_' + str(ROWS),y_train)\n",
    "np.save('y_valid_' + str(ROWS),y_valid)\n",
    "\n",
    "del y_train\n",
    "del y_valid"
   ]
  },
  {
   "cell_type": "code",
   "execution_count": 23,
   "metadata": {
    "collapsed": true
   },
   "outputs": [],
   "source": [
    "def load_test(path_test):\n",
    "    print('Read test images')\n",
    "    path = os.path.join(path_test, '*.jpg')\n",
    "    files = glob.glob(path)\n",
    "    X_test = []\n",
    "    X_test_id = []\n",
    "    total = 0\n",
    "    thr = math.floor(len(files)/10)\n",
    "    p = np.random.permutation(200)\n",
    "    for fl in files[:2000]:\n",
    "        flbase = os.path.basename(fl)\n",
    "        img = Image.open(fl).convert('L')\n",
    "        img = np.reshape( img.resize((ROWS, COLS), PIL.Image.ANTIALIAS), num_features).astype('float32') / 255.0\n",
    "        X_test.append(img)\n",
    "        X_test_id.append(flbase)\n",
    "        total += 1\n",
    "        if total%thr == 0:\n",
    "            print('Read {} images from {}'.format(total, len(files)))\n",
    "\n",
    "    X_test = np.array(X_test)\n",
    "    X_test_id = np.array(X_test_id)\n",
    "    \n",
    "    return X_test, X_test_id"
   ]
  },
  {
   "cell_type": "code",
   "execution_count": null,
   "metadata": {
    "collapsed": true
   },
   "outputs": [],
   "source": []
  },
  {
   "cell_type": "code",
   "execution_count": 24,
   "metadata": {
    "collapsed": false
   },
   "outputs": [
    {
     "name": "stdout",
     "output_type": "stream",
     "text": [
      "Read test images\n"
     ]
    }
   ],
   "source": [
    "X_test, X_test_id = load_test(TEST_DIR)"
   ]
  },
  {
   "cell_type": "code",
   "execution_count": 25,
   "metadata": {
    "collapsed": false
   },
   "outputs": [
    {
     "name": "stdout",
     "output_type": "stream",
     "text": [
      "((2000, 1600), (2000,))\n"
     ]
    }
   ],
   "source": [
    "\n",
    "print(X_test.shape, X_test_id.shape)"
   ]
  },
  {
   "cell_type": "code",
   "execution_count": 26,
   "metadata": {
    "collapsed": true
   },
   "outputs": [],
   "source": [
    "p = np.random.permutation(200)\n",
    "\n",
    "np.save('X_test_' + str(ROWS),X_test[p])\n",
    "np.save('X_test_id_' + str(ROWS),X_test_id[p])"
   ]
  },
  {
   "cell_type": "code",
   "execution_count": 27,
   "metadata": {
    "collapsed": true
   },
   "outputs": [],
   "source": [
    "del X_test\n",
    "del X_test_id"
   ]
  },
  {
   "cell_type": "code",
   "execution_count": 14,
   "metadata": {
    "collapsed": true
   },
   "outputs": [],
   "source": []
  },
  {
   "cell_type": "code",
   "execution_count": 20,
   "metadata": {
    "collapsed": false
   },
   "outputs": [
    {
     "data": {
      "text/plain": [
       "['test/img_19760.jpg',\n",
       " 'test/img_86790.jpg',\n",
       " 'test/img_56132.jpg',\n",
       " 'test/img_48078.jpg',\n",
       " 'test/img_56359.jpg',\n",
       " 'test/img_98707.jpg',\n",
       " 'test/img_27380.jpg',\n",
       " 'test/img_49296.jpg',\n",
       " 'test/img_64484.jpg',\n",
       " 'test/img_27341.jpg',\n",
       " 'test/img_46637.jpg',\n",
       " 'test/img_35358.jpg',\n",
       " 'test/img_1574.jpg',\n",
       " 'test/img_79890.jpg',\n",
       " 'test/img_62398.jpg',\n",
       " 'test/img_88112.jpg',\n",
       " 'test/img_54148.jpg',\n",
       " 'test/img_4352.jpg',\n",
       " 'test/img_23285.jpg',\n",
       " 'test/img_74254.jpg']"
      ]
     },
     "execution_count": 20,
     "metadata": {},
     "output_type": "execute_result"
    }
   ],
   "source": []
  },
  {
   "cell_type": "code",
   "execution_count": null,
   "metadata": {
    "collapsed": true
   },
   "outputs": [],
   "source": []
  }
 ],
 "metadata": {
  "kernelspec": {
   "display_name": "Python 2",
   "language": "python",
   "name": "python2"
  },
  "language_info": {
   "codemirror_mode": {
    "name": "ipython",
    "version": 2
   },
   "file_extension": ".py",
   "mimetype": "text/x-python",
   "name": "python",
   "nbconvert_exporter": "python",
   "pygments_lexer": "ipython2",
   "version": "2.7.6"
  }
 },
 "nbformat": 4,
 "nbformat_minor": 1
}
