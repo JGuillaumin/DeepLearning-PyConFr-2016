{
 "cells": [
  {
   "cell_type": "code",
   "execution_count": 2,
   "metadata": {
    "collapsed": false
   },
   "outputs": [
    {
     "name": "stderr",
     "output_type": "stream",
     "text": [
      "Using gpu device 0: GeForce GTX 670MX (CNMeM is enabled with initial size: 10.0% of memory, cuDNN 5103)\n"
     ]
    },
    {
     "name": "stdout",
     "output_type": "stream",
     "text": [
      "Populating the interactive namespace from numpy and matplotlib\n"
     ]
    }
   ],
   "source": [
    "import numpy as np\n",
    "\n",
    "import theano \n",
    "import theano.tensor as T\n",
    "from theano.tensor.signal import pool\n",
    "from theano.tensor.nnet import conv2d\n",
    "\n",
    "\n",
    "import IPython\n",
    "import matplotlib.pyplot as plt\n",
    "import timeit\n",
    "\n",
    "%pylab inline\n",
    "pylab.rcParams['figure.figsize'] = (6, 4)\n",
    "\n",
    "%matplotlib inline\n",
    "plt.rcParams['figure.figsize'] = (6.0, 5.0) # set default size of plots\n",
    "plt.rcParams['image.interpolation'] = 'nearest'\n",
    "plt.rcParams['image.cmap'] = 'gray'"
   ]
  },
  {
   "cell_type": "code",
   "execution_count": 2,
   "metadata": {
    "collapsed": true
   },
   "outputs": [],
   "source": []
  },
  {
   "cell_type": "code",
   "execution_count": 3,
   "metadata": {
    "collapsed": false
   },
   "outputs": [],
   "source": [
    "data_dir = \"../data/digit-recognizer/\""
   ]
  },
  {
   "cell_type": "code",
   "execution_count": 5,
   "metadata": {
    "collapsed": false
   },
   "outputs": [
    {
     "name": "stdout",
     "output_type": "stream",
     "text": [
      "((37000, 784), (37000,), (5000, 784), (5000,))\n"
     ]
    }
   ],
   "source": [
    "X_train = np.load(data_dir + 'X_train.npy')\n",
    "X_valid = np.load(data_dir + 'X_valid.npy')\n",
    "X_test = np.load(data_dir + 'X_test.npy')\n",
    "\n",
    "y_train = np.load(data_dir + 'y_train.npy')\n",
    "y_valid = np.load(data_dir + 'y_valid.npy')\n",
    "\n",
    "print(X_train.shape, y_train.shape, X_valid.shape, y_valid.shape)\n"
   ]
  },
  {
   "cell_type": "code",
   "execution_count": 5,
   "metadata": {
    "collapsed": true
   },
   "outputs": [],
   "source": [
    "X_train_shared =  T.cast(theano.shared(X_train, borrow=True),'float32')\n",
    "y_train_shared = T.cast(theano.shared(y_train, borrow=True),'int32')\n",
    "\n",
    "X_valid_shared =  T.cast(theano.shared(X_valid, borrow=True),'float32')\n",
    "y_valid_shared = T.cast(theano.shared(y_valid, borrow=True),'int32')\n",
    "\n",
    "X_test_shared =  T.cast(theano.shared(X_test, borrow=True),'float32')\n"
   ]
  },
  {
   "cell_type": "markdown",
   "metadata": {},
   "source": [
    "## Construire le modèle "
   ]
  },
  {
   "cell_type": "code",
   "execution_count": 41,
   "metadata": {
    "collapsed": false
   },
   "outputs": [],
   "source": [
    "learning_rate=0.01\n",
    "n_epochs=100\n",
    "batch_size=500\n",
    "L1_reg=0.00\n",
    "L2_reg=0.0001\n",
    "\n",
    "n_kern1 = 5\n",
    "n_kern2 = 3\n",
    "\n",
    "n_features_map_1 = 6\n",
    "n_features_map_2 = 16\n",
    "\n",
    "n_out_fc1 = 120\n",
    "n_out_fc2 = 84\n",
    "n_out_softmax = 10\n",
    "\n",
    "n_train_batches = X_train.shape[0] // batch_size\n",
    "n_valid_batches = X_valid.shape[0] // batch_size\n",
    "n_test_batches = X_test.shape[0] // batch_size\n",
    "\n",
    "\n",
    "\n",
    "rng = np.random.RandomState(1234)"
   ]
  },
  {
   "cell_type": "code",
   "execution_count": 42,
   "metadata": {
    "collapsed": true
   },
   "outputs": [],
   "source": [
    "# allocate symbolic variables for the data\n",
    "index = T.lscalar()  # index to a [mini]batch\n",
    "\n",
    "# generate symbolic variables for input (x and y represent a\n",
    "# minibatch)\n",
    "x = T.matrix('x')  # data, presented as rasterized images\n",
    "y = T.ivector('y')  # labels, presented as 1D vector of [int] labels"
   ]
  },
  {
   "cell_type": "code",
   "execution_count": 43,
   "metadata": {
    "collapsed": true
   },
   "outputs": [],
   "source": [
    "layer0_input = x.reshape((batch_size, 1, 28, 28))"
   ]
  },
  {
   "cell_type": "code",
   "execution_count": 44,
   "metadata": {
    "collapsed": false
   },
   "outputs": [],
   "source": [
    "image_shape_layer1=(batch_size, 1, 28, 28)\n",
    "filter_shape_layer1=(n_features_map_1, 1, n_kern1, n_kern1)\n",
    "poolsize_layer1=(2, 2)\n",
    "\n",
    "\n",
    "fan_in_layer1 = np.prod(filter_shape_layer1[1:])\n",
    "fan_out_layer1 = (filter_shape_layer1[0] * np.prod(filter_shape_layer1[2:]) // np.prod(poolsize_layer1))\n",
    "\n",
    "\n",
    "W_bound_layer1 = np.sqrt(6. / (fan_in_layer1 + fan_out_layer1))\n",
    "W_layer1 = theano.shared(\n",
    "            np.asarray(\n",
    "                rng.uniform(low=-W_bound_layer1, high=W_bound_layer1, size=filter_shape_layer1),\n",
    "                dtype=theano.config.floatX\n",
    "            ),\n",
    "            borrow=True\n",
    "        )\n",
    "\n",
    "b_layer1 = theano.shared(value=np.zeros((filter_shape_layer1[0],), dtype=theano.config.floatX), borrow=True)\n",
    "\n",
    "\n",
    "conv_out_layer1 = conv2d(\n",
    "            input=layer0_input,\n",
    "            filters=W_layer1,\n",
    "            filter_shape=filter_shape_layer1,\n",
    "            input_shape=image_shape_layer1\n",
    "        )\n",
    "pooled_out_layer1 = pool.pool_2d(\n",
    "            input=conv_out_layer1,\n",
    "            ds=poolsize_layer1,\n",
    "            ignore_border=True\n",
    "        )\n",
    "\n",
    "output_layer1 = T.nnet.relu(pooled_out_layer1 + b_layer1.dimshuffle('x', 0, 'x', 'x'))"
   ]
  },
  {
   "cell_type": "code",
   "execution_count": 45,
   "metadata": {
    "collapsed": true
   },
   "outputs": [],
   "source": [
    "image_shape_layer2=(batch_size, n_features_map_1, 12, 12)\n",
    "filter_shape_layer2=(n_features_map_2, n_features_map_1, n_kern2, n_kern2)\n",
    "poolsize_layer2=(2, 2)\n",
    "\n",
    "\n",
    "fan_in_layer2 = np.prod(filter_shape_layer2[1:])\n",
    "fan_out_layer2 = (filter_shape_layer2[0] * np.prod(filter_shape_layer2[2:]) // np.prod(poolsize_layer2))\n",
    "\n",
    "\n",
    "W_bound_layer2 = np.sqrt(6. / (fan_in_layer2 + fan_out_layer2))\n",
    "W_layer2 = theano.shared(\n",
    "            np.asarray(\n",
    "                rng.uniform(low=-W_bound_layer2, high=W_bound_layer2, size=filter_shape_layer2),\n",
    "                dtype=theano.config.floatX\n",
    "            ),\n",
    "            borrow=True\n",
    "        )\n",
    "\n",
    "b_layer2 = theano.shared(value=np.zeros((filter_shape_layer2[0],), dtype=theano.config.floatX), borrow=True)\n",
    "\n",
    "\n",
    "\n",
    "conv_out_layer2 = conv2d(\n",
    "            input=output_layer1,\n",
    "            filters=W_layer2,\n",
    "            filter_shape=filter_shape_layer2,\n",
    "            input_shape=image_shape_layer2\n",
    "        )\n",
    "\n",
    "\n",
    "\n",
    "pooled_out_layer2 = pool.pool_2d(\n",
    "            input=conv_out_layer2,\n",
    "            ds=poolsize_layer2,\n",
    "            ignore_border=True\n",
    "        )\n",
    "\n",
    "\n",
    "output_layer2 = T.nnet.relu(pooled_out_layer2 + b_layer2.dimshuffle('x', 0, 'x', 'x'))"
   ]
  },
  {
   "cell_type": "code",
   "execution_count": 46,
   "metadata": {
    "collapsed": false
   },
   "outputs": [],
   "source": [
    "input_layer3 = output_layer2.flatten(2)\n",
    "\n",
    "n_in_fc1 = n_features_map_2 * 5 * 5\n",
    "\n",
    "W_layer3 = theano.shared(value=np.asarray(\n",
    "                                    rng.uniform( low=-np.sqrt(6. / (n_in_fc1 + n_out_fc1)),\n",
    "                                                 high=np.sqrt(6. / (n_in_fc1 + n_out_fc1)),\n",
    "                                                size=(n_in_fc1, n_out_fc1)),\n",
    "                                    dtype=theano.config.floatX),\n",
    "                    name='W_layer3', borrow=True)\n",
    "\n",
    "        \n",
    "b_layer3 = theano.shared(value=np.zeros((n_out_fc1,), dtype=theano.config.floatX), name='b_layer3', borrow=True)\n",
    "\n",
    "output_layer3 = T.nnet.relu(T.dot(input_layer3, W_layer3) + b_layer3)"
   ]
  },
  {
   "cell_type": "code",
   "execution_count": 47,
   "metadata": {
    "collapsed": false
   },
   "outputs": [],
   "source": [
    "n_in_fc2 = n_out_fc1\n",
    "\n",
    "W_layer4 = theano.shared(value=np.asarray(\n",
    "                                    rng.uniform( low=-np.sqrt(6. / (n_in_fc2 + n_out_fc2)),\n",
    "                                                 high=np.sqrt(6. / (n_in_fc2 + n_out_fc2)),\n",
    "                                                size=(n_in_fc2, n_out_fc2)),\n",
    "                                    dtype=theano.config.floatX),\n",
    "                    name='W_layer4', borrow=True)\n",
    "\n",
    "        \n",
    "b_layer4 = theano.shared(value=np.zeros((n_out_fc2,), dtype=theano.config.floatX), name='b_layer4', borrow=True)\n",
    "\n",
    "output_layer4 = T.nnet.relu(T.dot(output_layer3, W_layer4) + b_layer4)"
   ]
  },
  {
   "cell_type": "code",
   "execution_count": 48,
   "metadata": {
    "collapsed": true
   },
   "outputs": [],
   "source": [
    "W_logReg = theano.shared(\n",
    "            value=np.zeros(\n",
    "                (n_out_fc2, n_out_softmax),\n",
    "                dtype=theano.config.floatX\n",
    "            ),\n",
    "            name='W_logReg',\n",
    "            borrow=True\n",
    "        )\n",
    "b_logReg = theano.shared(\n",
    "            value=np.zeros(\n",
    "                (n_out_softmax,),\n",
    "                dtype=theano.config.floatX\n",
    "            ),\n",
    "            name='b_logReg',\n",
    "            borrow=True\n",
    "        )"
   ]
  },
  {
   "cell_type": "code",
   "execution_count": 49,
   "metadata": {
    "collapsed": true
   },
   "outputs": [],
   "source": [
    "L1 = abs(W_layer1).sum() + abs(W_layer2).sum() + abs(W_layer3).sum() + abs(W_layer3).sum() + abs(W_logReg).sum() \n",
    "L2 = (W_layer1**2).sum() + (W_layer2**2).sum() + (W_layer3**2).sum() + (W_layer3**2).sum() +(W_logReg**2).sum() "
   ]
  },
  {
   "cell_type": "code",
   "execution_count": 50,
   "metadata": {
    "collapsed": true
   },
   "outputs": [],
   "source": [
    "p_y_given_x = T.nnet.softmax(T.dot(output_layer4, W_logReg) + b_logReg)\n",
    "\n",
    "cost = -T.mean(T.log(p_y_given_x)[T.arange(y.shape[0]), y]) + L1_reg*L1 + L2_reg*L2\n",
    "\n",
    "y_pred = T.argmax(p_y_given_x, axis=1)\n",
    "\n",
    "errors = T.mean(T.neq(y_pred, y))"
   ]
  },
  {
   "cell_type": "code",
   "execution_count": 51,
   "metadata": {
    "collapsed": true
   },
   "outputs": [],
   "source": [
    "validate_model = theano.function(\n",
    "        inputs=[index],\n",
    "        outputs=errors,\n",
    "        givens={\n",
    "            x: X_valid_shared[index * batch_size: (index + 1) * batch_size],\n",
    "            y: y_valid_shared[index * batch_size: (index + 1) * batch_size]\n",
    "        }\n",
    "    )"
   ]
  },
  {
   "cell_type": "code",
   "execution_count": 52,
   "metadata": {
    "collapsed": true
   },
   "outputs": [],
   "source": [
    "params = [W_layer1, b_layer1, W_layer2, b_layer2, W_layer3, b_layer3, W_layer4, b_layer4,W_logReg, b_logReg]\n",
    "\n",
    "gparams = [T.grad(cost, param) for param in params]\n",
    "\n",
    "updates = [\n",
    "        (param, param - learning_rate * gparam)\n",
    "        for param, gparam in zip(params, gparams)\n",
    "    ]\n",
    "\n",
    "train_model = theano.function(\n",
    "        inputs=[index],\n",
    "        outputs=cost,\n",
    "        updates=updates,\n",
    "        givens={\n",
    "            x: X_train_shared[index * batch_size: (index + 1) * batch_size],\n",
    "            y: y_train_shared[index * batch_size: (index + 1) * batch_size]\n",
    "        }\n",
    "    )"
   ]
  },
  {
   "cell_type": "code",
   "execution_count": 55,
   "metadata": {
    "collapsed": false
   },
   "outputs": [
    {
     "data": {
      "image/png": "[encoded data removed]",
      "text/plain": [
       "<matplotlib.figure.Figure at 0x7f2061143990>"
      ]
     },
     "metadata": {},
     "output_type": "display_data"
    },
    {
     "name": "stdout",
     "output_type": "stream",
     "text": [
      "Optimization complete with best validation score of 0.000000 %\n",
      "The code run for 999 epochs, with 0.834333 epochs/sec\n"
     ]
    },
    {
     "data": {
      "image/png": "[encoded data removed]",
      "text/plain": [
       "<matplotlib.figure.Figure at 0x7f2061143990>"
      ]
     },
     "metadata": {},
     "output_type": "display_data"
    }
   ],
   "source": [
    "best_validation_loss = np.inf\n",
    "validation_frequency = 50\n",
    "\n",
    "start_time = timeit.default_timer()\n",
    "for epoch in range(n_epochs):\n",
    "    for minibatch_index in range(n_train_batches):\n",
    "        minibatch_avg_cost = train_model(minibatch_index)\n",
    "            \n",
    "        # iteration number\n",
    "        iter = (epoch) * n_train_batches + minibatch_index\n",
    "\n",
    "        if (iter + 1) % validation_frequency == 0:\n",
    "                # compute zero-one loss on validation set\n",
    "            #validation_losses = [validate_model(i) for i in range(n_valid_batches)]\n",
    "            this_validation_loss = np.mean([validate_model(i) for i in range(n_valid_batches)])\n",
    "\n",
    "            #print('epoch %i, minibatch %i/%i, validation error %f %%' %(epoch, minibatch_index + 1, n_train_batches,\n",
    "                    #this_validation_loss * 100.))\n",
    "\n",
    "            pylab.plot([iter], [this_validation_loss], 'bo', label='validation_loss')\n",
    "            IPython.display.clear_output(wait=True)\n",
    "            IPython.display.display(pylab.gcf())\n",
    "            \n",
    "            \n",
    "            # if we got the best validation score until now\n",
    "            if this_validation_loss < best_validation_loss:\n",
    "\n",
    "                best_validation_loss = this_validation_loss\n",
    "                    # test it on \n",
    "end_time = timeit.default_timer()\n",
    "\n",
    "print(( 'Optimization complete with best validation score of %f %%')\n",
    "        % (best_validation_loss * 100.))\n",
    "    \n",
    "print('The code run for %d epochs, with %f epochs/sec' % (epoch, 1. * epoch / (end_time - start_time)))"
   ]
  },
  {
   "cell_type": "code",
   "execution_count": 56,
   "metadata": {
    "collapsed": true
   },
   "outputs": [],
   "source": [
    "test_model = theano.function(\n",
    "        inputs=[index],\n",
    "        outputs=y_pred, \n",
    "        givens={\n",
    "            x: X_test_shared[index * batch_size: (index + 1) * batch_size]\n",
    "        }\n",
    "    \n",
    "    )"
   ]
  },
  {
   "cell_type": "code",
   "execution_count": 57,
   "metadata": {
    "collapsed": true
   },
   "outputs": [],
   "source": [
    "this_test =[test_model(i) for i in range(n_test_batches)]"
   ]
  },
  {
   "cell_type": "code",
   "execution_count": 58,
   "metadata": {
    "collapsed": false
   },
   "outputs": [
    {
     "name": "stdout",
     "output_type": "stream",
     "text": [
      "56\n",
      "500\n",
      "(500,)\n",
      "5\n"
     ]
    }
   ],
   "source": [
    "print(len(this_test))\n",
    "print(len(this_test[1]))\n",
    "    \n",
    "print(this_test[1].shape)\n",
    "\n",
    "print(this_test[1][1])"
   ]
  },
  {
   "cell_type": "code",
   "execution_count": 59,
   "metadata": {
    "collapsed": false
   },
   "outputs": [],
   "source": [
    "out_file = open(\"predictions_DIGIT.csv\", \"w\")\n",
    "out_file.write(\"ImageId,Label\\n\")\n",
    "k=0\n",
    "\n",
    "for i in range(len(this_test)):\n",
    "    for j in range(len(this_test[i])):\n",
    "        out_file.write(str(k+1) + \",\" + str(int(this_test[i][j])) + \"\\n\")\n",
    "        k +=1 \n",
    "out_file.close()\n",
    "    "
   ]
  },
  {
   "cell_type": "code",
   "execution_count": null,
   "metadata": {
    "collapsed": true
   },
   "outputs": [],
   "source": []
  }
 ],
 "metadata": {
  "kernelspec": {
   "display_name": "Python 2",
   "language": "python",
   "name": "python2"
  },
  "language_info": {
   "codemirror_mode": {
    "name": "ipython",
    "version": 2
   },
   "file_extension": ".py",
   "mimetype": "text/x-python",
   "name": "python",
   "nbconvert_exporter": "python",
   "pygments_lexer": "ipython2",
   "version": "2.7.6"
  }
 },
 "nbformat": 4,
 "nbformat_minor": 1
}
