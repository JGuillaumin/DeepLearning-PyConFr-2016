{
 "cells": [
  {
   "cell_type": "code",
   "execution_count": 17,
   "metadata": {
    "collapsed": false
   },
   "outputs": [],
   "source": [
    "import os, random\n",
    "import numpy as np\n",
    " \n",
    "\n",
    "import PIL\n",
    "from PIL import Image\n",
    "import six.moves.cPickle as pickle\n",
    "\n",
    "\n",
    "from random import shuffle\n",
    "import random"
   ]
  },
  {
   "cell_type": "code",
   "execution_count": 27,
   "metadata": {
    "collapsed": false
   },
   "outputs": [],
   "source": [
    "TRAIN_DIR = '../data/cats_vs_dogs/train/'\n",
    "TEST_DIR = '../data/cats_vs_dogs/test/'\n",
    "\n",
    "file = '../data/cats_vs_dogs/train/dog.35.jpg'\n",
    "\n",
    "ROWS = 64\n",
    "COLS = 64\n",
    "CHANNELS = 1\n",
    "\n",
    "train_images = [TRAIN_DIR+i for i in os.listdir(TRAIN_DIR)]\n",
    "\n",
    "test_images =  [TEST_DIR+i for i in os.listdir(TEST_DIR)]\n",
    "\n",
    "random.shuffle(train_images)\n",
    "random.shuffle(test_images)\n"
   ]
  },
  {
   "cell_type": "code",
   "execution_count": 28,
   "metadata": {
    "collapsed": false
   },
   "outputs": [
    {
     "name": "stdout",
     "output_type": "stream",
     "text": [
      "dog\n"
     ]
    }
   ],
   "source": [
    "id_str = os.path.basename(file)\n",
    "label = id_str.split(\".\")[0]\n",
    "if label == \"cat\" :\n",
    "    print(\"cat\")\n",
    "else :\n",
    "    print(\"dog\")\n"
   ]
  },
  {
   "cell_type": "code",
   "execution_count": 29,
   "metadata": {
    "collapsed": false
   },
   "outputs": [],
   "source": [
    "img = Image.open(file).convert('L')\n",
    "img = img.resize((COLS,ROWS), PIL.Image.ANTIALIAS)\n",
    "img.save('test.jpg')"
   ]
  },
  {
   "cell_type": "code",
   "execution_count": 30,
   "metadata": {
    "collapsed": false
   },
   "outputs": [
    {
     "name": "stdout",
     "output_type": "stream",
     "text": [
      "Processed 0 of 25000\n",
      "Processed 5000 of 25000\n",
      "Processed 10000 of 25000\n",
      "Processed 15000 of 25000\n",
      "Processed 20000 of 25000\n",
      "Processed 0 of 12500\n",
      "Processed 5000 of 12500\n",
      "Processed 10000 of 12500\n",
      "Train shape: (25000, 64, 64)\n",
      "Test shape: (12500, 64, 64)\n"
     ]
    }
   ],
   "source": [
    "def read_image_train(file_path):\n",
    "    id_str = os.path.basename(file_path)\n",
    "    label = id_str.split(\".\")[0]\n",
    "    if label == \"cat\" :\n",
    "        label = 0\n",
    "    else :\n",
    "        label = 1\n",
    "    img = Image.open(file_path).convert('L')\n",
    "    return img.resize((ROWS, COLS), PIL.Image.ANTIALIAS), label\n",
    "\n",
    "\n",
    "def prep_data_train(images):\n",
    "    count = len(images)\n",
    "    data = np.ndarray((count, ROWS, COLS), dtype=np.float32)\n",
    "    label = np.ndarray((count), dtype=np.uint8)\n",
    "\n",
    "    for i, image_file in enumerate(images):\n",
    "        #print(image_file)\n",
    "        image,result = read_image_train(image_file)\n",
    "        data[i] = image\n",
    "        label[i] = result\n",
    "        #print(result)\n",
    "        if i%5000 == 0: print('Processed {} of {}'.format(i, count))\n",
    "    \n",
    "    return data, label\n",
    "\n",
    "def read_image_test(file_path):\n",
    "    img = Image.open(file_path).convert('L')\n",
    "    return img.resize((ROWS, COLS), PIL.Image.ANTIALIAS)\n",
    "\n",
    "\n",
    "def prep_data_test(images):\n",
    "    count = len(images)\n",
    "    data = np.ndarray((count, ROWS, COLS), dtype=np.float32)\n",
    "\n",
    "    for i, image_file in enumerate(images):\n",
    "        image = read_image_test(image_file)\n",
    "        data[i] = image\n",
    "        if i%5000 == 0: print('Processed {} of {}'.format(i, count))\n",
    "    \n",
    "    return data\n",
    "\n",
    "train, label = prep_data_train(train_images)\n",
    "test = prep_data_test(test_images)\n",
    "\n",
    "print(\"Train shape: {}\".format(train.shape))\n",
    "print(\"Test shape: {}\".format(test.shape))\n",
    "\n",
    "\n",
    "\n",
    "\n"
   ]
  },
  {
   "cell_type": "code",
   "execution_count": 31,
   "metadata": {
    "collapsed": true
   },
   "outputs": [],
   "source": [
    "np.save('train',train)\n",
    "np.save('test',test)\n",
    "np.save('label',label)"
   ]
  },
  {
   "cell_type": "code",
   "execution_count": null,
   "metadata": {
    "collapsed": false
   },
   "outputs": [],
   "source": [
    "np.count_nonzero(label)"
   ]
  },
  {
   "cell_type": "code",
   "execution_count": null,
   "metadata": {
    "collapsed": false
   },
   "outputs": [],
   "source": [
    "label\n"
   ]
  },
  {
   "cell_type": "code",
   "execution_count": null,
   "metadata": {
    "collapsed": true
   },
   "outputs": [],
   "source": []
  }
 ],
 "metadata": {
  "kernelspec": {
   "display_name": "Python 2",
   "language": "python",
   "name": "python2"
  },
  "language_info": {
   "codemirror_mode": {
    "name": "ipython",
    "version": 2
   },
   "file_extension": ".py",
   "mimetype": "text/x-python",
   "name": "python",
   "nbconvert_exporter": "python",
   "pygments_lexer": "ipython2",
   "version": "2.7.6"
  }
 },
 "nbformat": 4,
 "nbformat_minor": 1
}
