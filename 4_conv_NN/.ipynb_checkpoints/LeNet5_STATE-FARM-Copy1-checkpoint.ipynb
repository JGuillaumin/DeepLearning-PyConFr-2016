{
 "cells": [
  {
   "cell_type": "code",
   "execution_count": 1,
   "metadata": {
    "collapsed": false
   },
   "outputs": [
    {
     "name": "stderr",
     "output_type": "stream",
     "text": [
      "Using gpu device 0: GeForce GTX 670MX (CNMeM is enabled with initial size: 10.0% of memory, cuDNN 5105)\n"
     ]
    },
    {
     "name": "stdout",
     "output_type": "stream",
     "text": [
      "Populating the interactive namespace from numpy and matplotlib\n"
     ]
    }
   ],
   "source": [
    "import numpy as np\n",
    "\n",
    "import theano \n",
    "import theano.tensor as T\n",
    "from theano.tensor.signal import pool\n",
    "from theano.tensor.nnet import conv2d\n",
    "\n",
    "\n",
    "import IPython\n",
    "import matplotlib.pyplot as plt\n",
    "import timeit\n",
    "\n",
    "%pylab inline\n",
    "pylab.rcParams['figure.figsize'] = (6, 4)\n",
    "\n",
    "%matplotlib inline\n",
    "plt.rcParams['figure.figsize'] = (6.0, 5.0) # set default size of plots\n",
    "plt.rcParams['image.interpolation'] = 'nearest'\n",
    "plt.rcParams['image.cmap'] = 'gray'"
   ]
  },
  {
   "cell_type": "markdown",
   "metadata": {},
   "source": [
    "# State Farm Distracted Drivers\n",
    "\n",
    "<img src=\"../resources/drivers_statefarm.png\" width=\"900\">\n",
    "\n",
    "\n",
    "- c0: safe driving\n",
    "- c1: texting - right\n",
    "- c2: talking on the phone - right\n",
    "- c3: texting - left\n",
    "- c4: talking on the phone - left\n",
    "- c5: operating the radio\n",
    "- c6: drinking\n",
    "- c7: reaching behind\n",
    "- c9: talking to passenger\n",
    "\n",
    "\n",
    "## Les données \n",
    "\n",
    "79,726 photos à classer (ici on n'en charge que 200) \n",
    "22,424 photos d'entrainement (pour l'apprentissage et la validation)\n"
   ]
  },
  {
   "cell_type": "code",
   "execution_count": 2,
   "metadata": {
    "collapsed": false
   },
   "outputs": [
    {
     "name": "stdout",
     "output_type": "stream",
     "text": [
      "((200, 4096), (200,))\n"
     ]
    }
   ],
   "source": [
    "X_test = np.load('../data/state-farm/X_test_64.npy')\n",
    "\n",
    "# Pour récupérer les id des photos, pour faire une soumission sur Kaggle\n",
    "X_test_id = np.load('../data/state-farm/X_test_id_64.npy')\n",
    "print(X_test.shape,X_test_id.shape)"
   ]
  },
  {
   "cell_type": "code",
   "execution_count": 3,
   "metadata": {
    "collapsed": false
   },
   "outputs": [
    {
     "name": "stdout",
     "output_type": "stream",
     "text": [
      "((20424, 4096), (20424,))\n"
     ]
    }
   ],
   "source": [
    "X_train = np.load('../data/state-farm/X_train_64.npy')\n",
    "Y_train = np.load('../data/state-farm/y_train_64.npy')\n",
    "print(X_train.shape, Y_train.shape)"
   ]
  },
  {
   "cell_type": "code",
   "execution_count": 4,
   "metadata": {
    "collapsed": false
   },
   "outputs": [
    {
     "name": "stdout",
     "output_type": "stream",
     "text": [
      "((2000, 4096), (2000,))\n"
     ]
    }
   ],
   "source": [
    "X_valid= np.load('../data/state-farm/X_valid_64.npy')\n",
    "Y_valid = np.load('../data/state-farm/y_valid_64.npy')\n",
    "print(X_valid.shape, Y_valid.shape)"
   ]
  },
  {
   "cell_type": "code",
   "execution_count": 6,
   "metadata": {
    "collapsed": false
   },
   "outputs": [
    {
     "data": {
      "text/plain": [
       "<matplotlib.image.AxesImage at 0x7fd52c4c5910>"
      ]
     },
     "execution_count": 6,
     "metadata": {},
     "output_type": "execute_result"
    },
    {
     "data": {
      "image/png": "[encoded data removed]",
      "text/plain": [
       "<matplotlib.figure.Figure at 0x7fd52c37ac90>"
      ]
     },
     "metadata": {},
     "output_type": "display_data"
    }
   ],
   "source": [
    "plt.imshow(X_valid[1234].reshape(64,64))\n"
   ]
  },
  {
   "cell_type": "code",
   "execution_count": 7,
   "metadata": {
    "collapsed": false
   },
   "outputs": [
    {
     "name": "stdout",
     "output_type": "stream",
     "text": [
      "0\n"
     ]
    }
   ],
   "source": [
    "print(Y_valid[1234])"
   ]
  },
  {
   "cell_type": "code",
   "execution_count": 10,
   "metadata": {
    "collapsed": false
   },
   "outputs": [],
   "source": [
    "# On charge les données comme des variables partagées, pour le mini-batch SGD\n",
    "X_train_shared =  T.cast(theano.shared(X_train),'float32')\n",
    "y_train_shared = T.cast(theano.shared(Y_train),'int32')\n",
    "\n",
    "X_valid_shared =  T.cast(theano.shared(X_valid),'float32')\n",
    "y_valid_shared = T.cast(theano.shared(Y_valid),'int32')\n",
    "\n",
    "X_test_shared =  T.cast(theano.shared(X_test),'float32')\n"
   ]
  },
  {
   "cell_type": "markdown",
   "metadata": {},
   "source": [
    "## Construire le modèle "
   ]
  },
  {
   "cell_type": "code",
   "execution_count": 11,
   "metadata": {
    "collapsed": false
   },
   "outputs": [],
   "source": [
    "learning_rate=0.01\n",
    "n_epochs=50\n",
    "batch_size=200\n",
    "L1_reg=0.00\n",
    "L2_reg=0.0001\n",
    "\n",
    "n_kern1 = 5\n",
    "n_kern2 = 3\n",
    "\n",
    "n_features_map_1 = 6\n",
    "n_features_map_2 = 16\n",
    "\n",
    "n_out_fc1 = 120\n",
    "n_out_fc2 = 84\n",
    "n_out_softmax = 10\n",
    "\n",
    "n_train_batches = X_train.shape[0] // batch_size\n",
    "n_valid_batches = X_valid.shape[0] // batch_size\n",
    "\n",
    "\n",
    "rng = np.random.RandomState(1234)"
   ]
  },
  {
   "cell_type": "code",
   "execution_count": 7,
   "metadata": {
    "collapsed": true
   },
   "outputs": [],
   "source": [
    "# allocate symbolic variables for the data\n",
    "index = \n",
    "\n",
    "\n",
    "x = T.matrix('x')  # data, presented as rasterized images\n",
    "y = T.ivector('y')  # labels, presented as 1D vector of [int] labels"
   ]
  },
  {
   "cell_type": "code",
   "execution_count": 8,
   "metadata": {
    "collapsed": true
   },
   "outputs": [],
   "source": [
    "layer0_input = x.reshape((batch_size, 1, 28, 28))"
   ]
  },
  {
   "cell_type": "code",
   "execution_count": 9,
   "metadata": {
    "collapsed": false
   },
   "outputs": [],
   "source": [
    "image_shape_layer1=(batch_size, 1, 28, 28)\n",
    "filter_shape_layer1=(n_features_map_1, 1, n_kern1, n_kern1)\n",
    "poolsize_layer1=(2, 2)\n",
    "\n",
    "\n",
    "fan_in_layer1 = np.prod(filter_shape_layer1[1:])\n",
    "fan_out_layer1 = (filter_shape_layer1[0] * np.prod(filter_shape_layer1[2:]) // np.prod(poolsize_layer1))\n",
    "\n",
    "\n",
    "W_bound_layer1 = np.sqrt(6. / (fan_in_layer1 + fan_out_layer1))\n",
    "W_layer1 = theano.shared(\n",
    "            np.asarray(\n",
    "                rng.uniform(low=-W_bound_layer1, high=W_bound_layer1, size=filter_shape_layer1),\n",
    "                dtype=theano.config.floatX\n",
    "            ),\n",
    "            borrow=True\n",
    "        )\n",
    "\n",
    "b_layer1 = theano.shared(value=np.zeros((filter_shape_layer1[0],), dtype=theano.config.floatX), borrow=True)\n",
    "\n",
    "\n",
    "conv_out_layer1 = conv2d(\n",
    "            input=layer0_input,\n",
    "            filters=W_layer1,\n",
    "            filter_shape=filter_shape_layer1,\n",
    "            input_shape=image_shape_layer1\n",
    "        )\n",
    "pooled_out_layer1 = pool.pool_2d(\n",
    "            input=conv_out_layer1,\n",
    "            ds=poolsize_layer1,\n",
    "            ignore_border=True\n",
    "        )\n",
    "\n",
    "output_layer1 = T.nnet.relu(pooled_out_layer1 + b_layer1.dimshuffle('x', 0, 'x', 'x'))"
   ]
  },
  {
   "cell_type": "code",
   "execution_count": 10,
   "metadata": {
    "collapsed": true
   },
   "outputs": [],
   "source": [
    "image_shape_layer2=(batch_size, n_features_map_1, 12, 12)\n",
    "filter_shape_layer2=(n_features_map_2, n_features_map_1, n_kern2, n_kern2)\n",
    "poolsize_layer2=(2, 2)\n",
    "\n",
    "\n",
    "fan_in_layer2 = np.prod(filter_shape_layer2[1:])\n",
    "fan_out_layer2 = (filter_shape_layer2[0] * np.prod(filter_shape_layer2[2:]) // np.prod(poolsize_layer2))\n",
    "\n",
    "\n",
    "W_bound_layer2 = np.sqrt(6. / (fan_in_layer2 + fan_out_layer2))\n",
    "W_layer2 = theano.shared(\n",
    "            np.asarray(\n",
    "                rng.uniform(low=-W_bound_layer2, high=W_bound_layer2, size=filter_shape_layer2),\n",
    "                dtype=theano.config.floatX\n",
    "            ),\n",
    "            borrow=True\n",
    "        )\n",
    "\n",
    "b_layer2 = theano.shared(value=np.zeros((filter_shape_layer2[0],), dtype=theano.config.floatX), borrow=True)\n",
    "\n",
    "\n",
    "\n",
    "conv_out_layer2 = conv2d(\n",
    "            input=output_layer1,\n",
    "            filters=W_layer2,\n",
    "            filter_shape=filter_shape_layer2,\n",
    "            input_shape=image_shape_layer2\n",
    "        )\n",
    "\n",
    "\n",
    "\n",
    "pooled_out_layer2 = pool.pool_2d(\n",
    "            input=conv_out_layer2,\n",
    "            ds=poolsize_layer2,\n",
    "            ignore_border=True\n",
    "        )\n",
    "\n",
    "\n",
    "output_layer2 = T.nnet.relu(pooled_out_layer2 + b_layer2.dimshuffle('x', 0, 'x', 'x'))"
   ]
  },
  {
   "cell_type": "code",
   "execution_count": 11,
   "metadata": {
    "collapsed": false
   },
   "outputs": [],
   "source": [
    "input_layer3 = output_layer2.flatten(2)\n",
    "\n",
    "n_in_fc1 = n_features_map_2 * 5 * 5\n",
    "\n",
    "W_layer3 = theano.shared(value=np.asarray(\n",
    "                                    rng.uniform( low=-np.sqrt(6. / (n_in_fc1 + n_out_fc1)),\n",
    "                                                 high=np.sqrt(6. / (n_in_fc1 + n_out_fc1)),\n",
    "                                                size=(n_in_fc1, n_out_fc1)),\n",
    "                                    dtype=theano.config.floatX),\n",
    "                    name='W_layer3', borrow=True)\n",
    "\n",
    "        \n",
    "b_layer3 = theano.shared(value=np.zeros((n_out_fc1,), dtype=theano.config.floatX), name='b_layer3', borrow=True)\n",
    "\n",
    "output_layer3 = T.nnet.relu(T.dot(input_layer3, W_layer3) + b_layer3)"
   ]
  },
  {
   "cell_type": "code",
   "execution_count": 12,
   "metadata": {
    "collapsed": false
   },
   "outputs": [],
   "source": [
    "n_in_fc2 = n_out_fc1\n",
    "\n",
    "W_layer4 = theano.shared(value=np.asarray(\n",
    "                                    rng.uniform( low=-np.sqrt(6. / (n_in_fc2 + n_out_fc2)),\n",
    "                                                 high=np.sqrt(6. / (n_in_fc2 + n_out_fc2)),\n",
    "                                                size=(n_in_fc2, n_out_fc2)),\n",
    "                                    dtype=theano.config.floatX),\n",
    "                    name='W_layer4', borrow=True)\n",
    "\n",
    "        \n",
    "b_layer4 = theano.shared(value=np.zeros((n_out_fc2,), dtype=theano.config.floatX), name='b_layer4', borrow=True)\n",
    "\n",
    "output_layer4 = T.nnet.relu(T.dot(output_layer3, W_layer4) + b_layer4)"
   ]
  },
  {
   "cell_type": "code",
   "execution_count": 13,
   "metadata": {
    "collapsed": true
   },
   "outputs": [],
   "source": [
    "W_logReg = theano.shared(\n",
    "            value=np.zeros(\n",
    "                (n_out_fc2, n_out_softmax),\n",
    "                dtype=theano.config.floatX\n",
    "            ),\n",
    "            name='W_logReg',\n",
    "            borrow=True\n",
    "        )\n",
    "b_logReg = theano.shared(\n",
    "            value=np.zeros(\n",
    "                (n_out_softmax,),\n",
    "                dtype=theano.config.floatX\n",
    "            ),\n",
    "            name='b_logReg',\n",
    "            borrow=True\n",
    "        )"
   ]
  },
  {
   "cell_type": "code",
   "execution_count": 14,
   "metadata": {
    "collapsed": true
   },
   "outputs": [],
   "source": [
    "L1 = abs(W_layer1).sum() + abs(W_layer2).sum() + abs(W_layer3).sum() + abs(W_layer3).sum() + abs(W_logReg).sum() \n",
    "L2 = (W_layer1**2).sum() + (W_layer2**2).sum() + (W_layer3**2).sum() + (W_layer3**2).sum() +(W_logReg**2).sum() "
   ]
  },
  {
   "cell_type": "code",
   "execution_count": 15,
   "metadata": {
    "collapsed": true
   },
   "outputs": [],
   "source": [
    "p_y_given_x = T.nnet.softmax(T.dot(output_layer4, W_logReg) + b_logReg)\n",
    "\n",
    "cost = -T.mean(T.log(p_y_given_x)[T.arange(y.shape[0]), y]) + L1_reg*L1 + L2_reg*L2\n",
    "\n",
    "y_pred = T.argmax(p_y_given_x, axis=1)\n",
    "\n",
    "errors = T.mean(T.neq(y_pred, y))"
   ]
  },
  {
   "cell_type": "code",
   "execution_count": 16,
   "metadata": {
    "collapsed": false
   },
   "outputs": [],
   "source": [
    "validate_model = theano.function(\n",
    "        inputs=[index],\n",
    "        outputs=errors,\n",
    "        givens={\n",
    "            x: X_valid_shared[index * batch_size: (index + 1) * batch_size],\n",
    "            y: y_valid_shared[index * batch_size: (index + 1) * batch_size]\n",
    "        }\n",
    "    )"
   ]
  },
  {
   "cell_type": "code",
   "execution_count": 17,
   "metadata": {
    "collapsed": true
   },
   "outputs": [],
   "source": [
    "params = [W_layer1, b_layer1, W_layer2, b_layer2, W_layer3, b_layer3, W_layer4, b_layer4,W_logReg, b_logReg]\n",
    "\n",
    "gparams = [T.grad(cost, param) for param in params]\n",
    "\n",
    "updates = [\n",
    "        (param, param - learning_rate * gparam)\n",
    "        for param, gparam in zip(params, gparams)\n",
    "    ]\n",
    "\n",
    "train_model = theano.function(\n",
    "        inputs=[index],\n",
    "        outputs=cost,\n",
    "        updates=updates,\n",
    "        givens={\n",
    "            x: X_train_shared[index * batch_size: (index + 1) * batch_size],\n",
    "            y: y_train_shared[index * batch_size: (index + 1) * batch_size]\n",
    "        }\n",
    "    )"
   ]
  },
  {
   "cell_type": "code",
   "execution_count": 18,
   "metadata": {
    "collapsed": false
   },
   "outputs": [
    {
     "data": {
      "image/png": "[encoded data removed]",
      "text/plain": [
       "<matplotlib.figure.Figure at 0x7f2ea0155b90>"
      ]
     },
     "metadata": {},
     "output_type": "display_data"
    },
    {
     "ename": "KeyboardInterrupt",
     "evalue": "",
     "output_type": "error",
     "traceback": [
      "\u001b[0;31m---------------------------------------------------------------------------\u001b[0m",
      "\u001b[0;31mKeyboardInterrupt\u001b[0m                         Traceback (most recent call last)",
      "\u001b[0;32m<ipython-input-18-4203d267dce0>\u001b[0m in \u001b[0;36m<module>\u001b[0;34m()\u001b[0m\n\u001b[1;32m      5\u001b[0m \u001b[0;32mfor\u001b[0m \u001b[0mepoch\u001b[0m \u001b[0;32min\u001b[0m \u001b[0mrange\u001b[0m\u001b[0;34m(\u001b[0m\u001b[0mn_epochs\u001b[0m\u001b[0;34m)\u001b[0m\u001b[0;34m:\u001b[0m\u001b[0;34m\u001b[0m\u001b[0m\n\u001b[1;32m      6\u001b[0m     \u001b[0;32mfor\u001b[0m \u001b[0mminibatch_index\u001b[0m \u001b[0;32min\u001b[0m \u001b[0mrange\u001b[0m\u001b[0;34m(\u001b[0m\u001b[0mn_train_batches\u001b[0m\u001b[0;34m)\u001b[0m\u001b[0;34m:\u001b[0m\u001b[0;34m\u001b[0m\u001b[0m\n\u001b[0;32m----> 7\u001b[0;31m         \u001b[0mminibatch_avg_cost\u001b[0m \u001b[0;34m=\u001b[0m \u001b[0mtrain_model\u001b[0m\u001b[0;34m(\u001b[0m\u001b[0mminibatch_index\u001b[0m\u001b[0;34m)\u001b[0m\u001b[0;34m\u001b[0m\u001b[0m\n\u001b[0m\u001b[1;32m      8\u001b[0m \u001b[0;34m\u001b[0m\u001b[0m\n\u001b[1;32m      9\u001b[0m         \u001b[0;31m# iteration number\u001b[0m\u001b[0;34m\u001b[0m\u001b[0;34m\u001b[0m\u001b[0m\n",
      "\u001b[0;32m/usr/local/lib/python2.7/dist-packages/theano/compile/function_module.pyc\u001b[0m in \u001b[0;36m__call__\u001b[0;34m(self, *args, **kwargs)\u001b[0m\n\u001b[1;32m    864\u001b[0m         \u001b[0;32mtry\u001b[0m\u001b[0;34m:\u001b[0m\u001b[0;34m\u001b[0m\u001b[0m\n\u001b[1;32m    865\u001b[0m             \u001b[0moutputs\u001b[0m \u001b[0;34m=\u001b[0m\u001b[0;31m\\\u001b[0m\u001b[0;34m\u001b[0m\u001b[0m\n\u001b[0;32m--> 866\u001b[0;31m                 \u001b[0mself\u001b[0m\u001b[0;34m.\u001b[0m\u001b[0mfn\u001b[0m\u001b[0;34m(\u001b[0m\u001b[0;34m)\u001b[0m \u001b[0;32mif\u001b[0m \u001b[0moutput_subset\u001b[0m \u001b[0;32mis\u001b[0m \u001b[0mNone\u001b[0m \u001b[0;32melse\u001b[0m\u001b[0;31m\\\u001b[0m\u001b[0;34m\u001b[0m\u001b[0m\n\u001b[0m\u001b[1;32m    867\u001b[0m                 \u001b[0mself\u001b[0m\u001b[0;34m.\u001b[0m\u001b[0mfn\u001b[0m\u001b[0;34m(\u001b[0m\u001b[0moutput_subset\u001b[0m\u001b[0;34m=\u001b[0m\u001b[0moutput_subset\u001b[0m\u001b[0;34m)\u001b[0m\u001b[0;34m\u001b[0m\u001b[0m\n\u001b[1;32m    868\u001b[0m         \u001b[0;32mexcept\u001b[0m \u001b[0mException\u001b[0m\u001b[0;34m:\u001b[0m\u001b[0;34m\u001b[0m\u001b[0m\n",
      "\u001b[0;31mKeyboardInterrupt\u001b[0m: "
     ]
    },
    {
     "data": {
      "image/png": "[encoded data removed]",
      "text/plain": [
       "<matplotlib.figure.Figure at 0x7f2ea0155b90>"
      ]
     },
     "metadata": {},
     "output_type": "display_data"
    }
   ],
   "source": [
    "best_validation_loss = np.inf\n",
    "validation_frequency = 50\n",
    "\n",
    "start_time = timeit.default_timer()\n",
    "for epoch in range(n_epochs):\n",
    "    for minibatch_index in range(n_train_batches):\n",
    "        minibatch_avg_cost = train_model(minibatch_index)\n",
    "            \n",
    "        # iteration number\n",
    "        iter = (epoch) * n_train_batches + minibatch_index\n",
    "\n",
    "        if (iter + 1) % validation_frequency == 0:\n",
    "                # compute zero-one loss on validation set\n",
    "            #validation_losses = [validate_model(i) for i in range(n_valid_batches)]\n",
    "            this_validation_loss = np.mean([validate_model(i) for i in range(n_valid_batches)])\n",
    "\n",
    "            #print('epoch %i, minibatch %i/%i, validation error %f %%' %(epoch, minibatch_index + 1, n_train_batches,\n",
    "                    #this_validation_loss * 100.))\n",
    "\n",
    "            pylab.plot([iter], [this_validation_loss], 'bo', label='validation_loss')\n",
    "            IPython.display.clear_output(wait=True)\n",
    "            IPython.display.display(pylab.gcf())\n",
    "            \n",
    "            \n",
    "            # if we got the best validation score until now\n",
    "            if this_validation_loss < best_validation_loss:\n",
    "\n",
    "                best_validation_loss = this_validation_loss\n",
    "                    # test it on \n",
    "end_time = timeit.default_timer()\n",
    "\n",
    "print(( 'Optimization complete with best validation score of %f %%')\n",
    "        % (best_validation_loss * 100.))\n",
    "    \n",
    "print('The code run for %d epochs, with %f epochs/sec' % (epoch, 1. * epoch / (end_time - start_time)))"
   ]
  },
  {
   "cell_type": "code",
   "execution_count": null,
   "metadata": {
    "collapsed": true
   },
   "outputs": [],
   "source": []
  },
  {
   "cell_type": "code",
   "execution_count": 49,
   "metadata": {
    "collapsed": false
   },
   "outputs": [],
   "source": [
    "test_model = theano.function(\n",
    "        inputs=[index],\n",
    "        outputs=p_y_given_x, \n",
    "        givens={\n",
    "            x: X_test_shared[index * batch_size : (index + 1) * batch_size]\n",
    "        }\n",
    "    \n",
    "    )"
   ]
  },
  {
   "cell_type": "code",
   "execution_count": 50,
   "metadata": {
    "collapsed": false
   },
   "outputs": [],
   "source": [
    "test_model_last_batch = theano.function(\n",
    "        inputs=[index],\n",
    "        outputs=p_y_given_x, \n",
    "        givens={\n",
    "            x: X_test_shared[index * batch_size:]\n",
    "        }\n",
    "    \n",
    "    )"
   ]
  },
  {
   "cell_type": "code",
   "execution_count": 51,
   "metadata": {
    "collapsed": true
   },
   "outputs": [],
   "source": [
    "this_test =test_model_last_batch(-1)"
   ]
  },
  {
   "cell_type": "code",
   "execution_count": 52,
   "metadata": {
    "collapsed": false
   },
   "outputs": [
    {
     "name": "stdout",
     "output_type": "stream",
     "text": [
      "500\n",
      "10\n",
      "(10,)\n",
      "1.93259e-23\n"
     ]
    }
   ],
   "source": [
    "print(len(this_test))\n",
    "print(len(this_test[1]))\n",
    "    \n",
    "print(this_test[1].shape)\n",
    "\n",
    "print(this_test[1][1])"
   ]
  },
  {
   "cell_type": "code",
   "execution_count": 53,
   "metadata": {
    "collapsed": false
   },
   "outputs": [
    {
     "name": "stdout",
     "output_type": "stream",
     "text": [
      "159\n"
     ]
    }
   ],
   "source": [
    "print(n_test_batches)"
   ]
  },
  {
   "cell_type": "code",
   "execution_count": 54,
   "metadata": {
    "collapsed": false
   },
   "outputs": [],
   "source": [
    "out_file = open(\"predictions_STATE-FARM.csv\", \"w\")\n",
    "out_file.write(\"img,c0,c1,c2,c3,c4,c5,c6,c7,c8,c9\\n\")\n",
    "k = 0\n",
    "for i in range(n_test_batches):\n",
    "    batch_test =test_model(i)\n",
    "    for j in range(len(batch_test)):\n",
    "        k = i*batch_size + j\n",
    "        test = batch_test[j]\n",
    "        if(k<79226):\n",
    "            out_file.write(X_test_id[k]+ \",\" + str(test[0])+ \",\" + str(test[1])+ \",\" \n",
    "                       + str(test[2])+ \",\" + str(test[3])+ \",\" + str(test[4])+ \",\" +  \n",
    "                       str(test[5])+ \",\" + str(test[6])+ \",\" + str(test[7])+ \",\" + \n",
    "                       str(test[8]) + \",\" + str(test[9]) + \"\\n\") \n",
    "        \n",
    "#last batch\n",
    "k = 79225\n",
    "batch_test = test_model_last_batch(-1)\n",
    "\n",
    "for j in range(len(batch_test)):\n",
    "    k = k + 1\n",
    "    test = batch_test[j]\n",
    "    out_file.write(X_test_id[k]+ \",\" + str(test[0])+ \",\" + str(test[1])+ \",\" \n",
    "                       + str(test[2])+ \",\" + str(test[3])+ \",\" + str(test[4])+ \",\" +  \n",
    "                       str(test[5])+ \",\" + str(test[6])+ \",\" + str(test[7])+ \",\" + \n",
    "                       str(test[8]) + \",\" + str(test[9]) + \"\\n\") \n",
    "\n",
    "out_file.close()\n",
    "    "
   ]
  },
  {
   "cell_type": "code",
   "execution_count": null,
   "metadata": {
    "collapsed": false
   },
   "outputs": [],
   "source": []
  },
  {
   "cell_type": "code",
   "execution_count": null,
   "metadata": {
    "collapsed": true
   },
   "outputs": [],
   "source": []
  }
 ],
 "metadata": {
  "kernelspec": {
   "display_name": "Python 2",
   "language": "python",
   "name": "python2"
  },
  "language_info": {
   "codemirror_mode": {
    "name": "ipython",
    "version": 2
   },
   "file_extension": ".py",
   "mimetype": "text/x-python",
   "name": "python",
   "nbconvert_exporter": "python",
   "pygments_lexer": "ipython2",
   "version": "2.7.6"
  }
 },
 "nbformat": 4,
 "nbformat_minor": 1
}
