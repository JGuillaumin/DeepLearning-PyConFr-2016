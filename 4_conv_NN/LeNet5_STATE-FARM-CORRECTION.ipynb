{
 "cells": [
  {
   "cell_type": "code",
   "execution_count": 2,
   "metadata": {
    "collapsed": false
   },
   "outputs": [
    {
     "name": "stderr",
     "output_type": "stream",
     "text": [
      "Using gpu device 0: GeForce GTX 670MX (CNMeM is enabled with initial size: 10.0% of memory, cuDNN 5105)\n"
     ]
    },
    {
     "name": "stdout",
     "output_type": "stream",
     "text": [
      "Populating the interactive namespace from numpy and matplotlib\n"
     ]
    }
   ],
   "source": [
    "import numpy as np\n",
    "\n",
    "import theano \n",
    "import theano.tensor as T\n",
    "from theano.tensor.signal import pool\n",
    "from theano.tensor.nnet import conv2d\n",
    "\n",
    "\n",
    "import IPython\n",
    "import matplotlib.pyplot as plt\n",
    "import timeit\n",
    "\n",
    "%pylab inline\n",
    "pylab.rcParams['figure.figsize'] = (6, 4)\n",
    "\n",
    "%matplotlib inline\n",
    "plt.rcParams['figure.figsize'] = (6.0, 5.0) # set default size of plots\n",
    "plt.rcParams['image.interpolation'] = 'nearest'\n",
    "plt.rcParams['image.cmap'] = 'gray'"
   ]
  },
  {
   "cell_type": "markdown",
   "metadata": {},
   "source": [
    "# State Farm Distracted Drivers\n",
    "\n",
    "<img src=\"../resources/drivers_statefarm.png\" width=\"900\">\n",
    "\n",
    "\n",
    "- c0: safe driving\n",
    "- c1: texting - right\n",
    "- c2: talking on the phone - right\n",
    "- c3: texting - left\n",
    "- c4: talking on the phone - left\n",
    "- c5: operating the radio\n",
    "- c6: drinking\n",
    "- c7: reaching behind\n",
    "- c9: talking to passenger\n",
    "\n",
    "\n",
    "## Les données \n",
    "\n",
    "79,726 photos à classer (ici on n'en charge que 200) \n",
    "22,424 photos d'entrainement (pour l'apprentissage et la validation)\n"
   ]
  },
  {
   "cell_type": "code",
   "execution_count": 14,
   "metadata": {
    "collapsed": false
   },
   "outputs": [
    {
     "name": "stdout",
     "output_type": "stream",
     "text": [
      "((200, 1600), (200,))\n"
     ]
    }
   ],
   "source": [
    "X_test = np.load('../data/state-farm/X_test_40.npy')\n",
    "\n",
    "# Pour récupérer les id des photos, pour faire une soumission sur Kaggle\n",
    "X_test_id = np.load('../data/state-farm/X_test_id_40.npy')\n",
    "print(X_test.shape,X_test_id.shape)"
   ]
  },
  {
   "cell_type": "code",
   "execution_count": 15,
   "metadata": {
    "collapsed": false
   },
   "outputs": [
    {
     "name": "stdout",
     "output_type": "stream",
     "text": [
      "((20424, 1600), (20424,))\n"
     ]
    }
   ],
   "source": [
    "X_train = np.load('../data/state-farm/X_train_40.npy')\n",
    "Y_train = np.load('../data/state-farm/y_train_40.npy')\n",
    "print(X_train.shape, Y_train.shape)"
   ]
  },
  {
   "cell_type": "code",
   "execution_count": 16,
   "metadata": {
    "collapsed": false
   },
   "outputs": [
    {
     "name": "stdout",
     "output_type": "stream",
     "text": [
      "((2000, 1600), (2000,))\n"
     ]
    }
   ],
   "source": [
    "X_valid= np.load('../data/state-farm/X_valid_40.npy')\n",
    "Y_valid = np.load('../data/state-farm/y_valid_40.npy')\n",
    "print(X_valid.shape, Y_valid.shape)"
   ]
  },
  {
   "cell_type": "code",
   "execution_count": 17,
   "metadata": {
    "collapsed": false
   },
   "outputs": [
    {
     "data": {
      "text/plain": [
       "<matplotlib.image.AxesImage at 0x7f95a0cec890>"
      ]
     },
     "execution_count": 17,
     "metadata": {},
     "output_type": "execute_result"
    },
    {
     "data": {
      "image/png": "[encoded data removed]",
      "text/plain": [
       "<matplotlib.figure.Figure at 0x7f95f02b46d0>"
      ]
     },
     "metadata": {},
     "output_type": "display_data"
    }
   ],
   "source": [
    "plt.imshow(X_valid[1234].reshape(40,40))\n"
   ]
  },
  {
   "cell_type": "code",
   "execution_count": 18,
   "metadata": {
    "collapsed": false
   },
   "outputs": [
    {
     "name": "stdout",
     "output_type": "stream",
     "text": [
      "0\n"
     ]
    }
   ],
   "source": [
    "print(Y_valid[1234])"
   ]
  },
  {
   "cell_type": "code",
   "execution_count": 19,
   "metadata": {
    "collapsed": false
   },
   "outputs": [],
   "source": [
    "# On charge les données comme des variables partagées, pour le mini-batch SGD\n",
    "X_train_shared =  T.cast(theano.shared(X_train),'float32')\n",
    "y_train_shared = T.cast(theano.shared(Y_train),'int32')\n",
    "\n",
    "X_valid_shared =  T.cast(theano.shared(X_valid),'float32')\n",
    "y_valid_shared = T.cast(theano.shared(Y_valid),'int32')\n",
    "\n",
    "X_test_shared =  T.cast(theano.shared(X_test),'float32')\n"
   ]
  },
  {
   "cell_type": "markdown",
   "metadata": {},
   "source": [
    "## Construire le modèle "
   ]
  },
  {
   "cell_type": "code",
   "execution_count": 20,
   "metadata": {
    "collapsed": false
   },
   "outputs": [],
   "source": [
    "learning_rate=0.01\n",
    "n_epochs=50\n",
    "batch_size=200\n",
    "mu_1=0.00\n",
    "mu_2=0.0001\n",
    "\n",
    "n_kern1 = 5\n",
    "n_kern2 = 5\n",
    "\n",
    "n_features_map_1 = 6\n",
    "n_features_map_2 = 12\n",
    "\n",
    "n_out_fc1 = 100\n",
    "n_out_fc2 = 100\n",
    "n_out_softmax = 10\n",
    "\n",
    "n_train_batches = X_train.shape[0] // batch_size\n",
    "n_valid_batches = X_valid.shape[0] // batch_size"
   ]
  },
  {
   "cell_type": "code",
   "execution_count": 6,
   "metadata": {
    "collapsed": false
   },
   "outputs": [],
   "source": [
    "rng = np.random.RandomState(1234)"
   ]
  },
  {
   "cell_type": "code",
   "execution_count": 3,
   "metadata": {
    "collapsed": true
   },
   "outputs": [],
   "source": [
    "index = T.lscalar('index')\n",
    "\n",
    "X = T.matrix('X')\n",
    "Y = T.ivector('Y')"
   ]
  },
  {
   "cell_type": "code",
   "execution_count": 4,
   "metadata": {
    "collapsed": true
   },
   "outputs": [],
   "source": [
    "# On commence par une première couche qui va changer les dimensions de la \n",
    "layer0_input = X.reshape((batch_size, 1, 40, 40))"
   ]
  },
  {
   "cell_type": "code",
   "execution_count": 7,
   "metadata": {
    "collapsed": false
   },
   "outputs": [],
   "source": [
    "# Dimensions des données (#batch_size, 1 channel, 64x64)\n",
    "image_shape_layer1=(batch_size, 1, 40, 40)\n",
    "\n",
    "# dimension des paramètres: (#feature map en sortie, #feature map en entrée, #size_kernel, #size_kernel)\n",
    "filter_shape_layer1=(n_features_map_1 ,1, n_kern1,n_kern1)\n",
    "\n",
    "poolsize_layer1=(2, 2)\n",
    "\n",
    "\n",
    "\n",
    "# Poids des filtres de la première couche de convolution\n",
    "W_value = np.asarray( rng.uniform( size = filter_shape_layer1 ),\n",
    "                        dtype=theano.config.floatX)\n",
    "\n",
    "W_layer1 = theano.shared( value = W_value )\n",
    "\n",
    "\n",
    "\n",
    "b_value = np.zeros( (filter_shape_layer1[0],), \n",
    "                   dtype=theano.config.floatX)\n",
    "\n",
    "b_layer1 = theano.shared(value= b_value)\n",
    "\n",
    "\n",
    "\n",
    "conv_out_layer1 = conv2d(\n",
    "            input=layer0_input,\n",
    "            filters=W_layer1,\n",
    "            filter_shape=filter_shape_layer1,\n",
    "            input_shape= image_shape_layer1\n",
    "        )\n",
    "\n",
    "pooled_out_layer1 = pool.pool_2d(\n",
    "            input=conv_out_layer1,\n",
    "            ds=poolsize_layer1,\n",
    "            ignore_border=True\n",
    "        )\n",
    "\n",
    "\n",
    "#On passe la sortie + le biais dans la fonction d'activation \n",
    "output_layer1 = T.nnet.relu( pooled_out_layer1 + b_layer1.dimshuffle('x', 0, 'x', 'x'))"
   ]
  },
  {
   "cell_type": "code",
   "execution_count": 8,
   "metadata": {
    "collapsed": true
   },
   "outputs": [],
   "source": [
    "image_shape_layer2=(batch_size, n_features_map_1, 18, 18)\n",
    "filter_shape_layer2=(n_features_map_2, n_features_map_1, n_kern2, n_kern2)\n",
    "poolsize_layer2=(2, 2)\n",
    "\n",
    "\n",
    "W_value = np.asarray( rng.uniform( size = filter_shape_layer2 ),\n",
    "                        dtype=theano.config.floatX)\n",
    "\n",
    "W_layer2 = theano.shared( value = W_value )\n",
    "\n",
    "b_value = np.zeros( (filter_shape_layer2[0],), \n",
    "                   dtype=theano.config.floatX)\n",
    "\n",
    "b_layer2 = theano.shared(value= b_value)\n",
    "\n",
    "\n",
    "\n",
    "conv_out_layer2 = conv2d(\n",
    "            input=output_layer1,\n",
    "            filters=W_layer2,\n",
    "            filter_shape=filter_shape_layer2,\n",
    "            input_shape=image_shape_layer2\n",
    "        )\n",
    "\n",
    "\n",
    "\n",
    "pooled_out_layer2 = pool.pool_2d(\n",
    "            input=conv_out_layer2,\n",
    "            ds=poolsize_layer2,\n",
    "            ignore_border=True\n",
    "        )\n",
    "\n",
    "\n",
    "output_layer2 = T.nnet.relu(pooled_out_layer2 + b_layer2.dimshuffle('x', 0, 'x', 'x'))"
   ]
  },
  {
   "cell_type": "code",
   "execution_count": 39,
   "metadata": {
    "collapsed": false
   },
   "outputs": [],
   "source": [
    "input_layer3 = output_layer2.flatten(2)\n",
    "\n",
    "n_in_fc1 = n_features_map_2 * 7 * 7\n",
    "\n",
    "W_layer3 = theano.shared(value=np.asarray(\n",
    "                                    rng.uniform( low=-np.sqrt(6. / (n_in_fc1 + n_out_fc1)),\n",
    "                                                 high=np.sqrt(6. / (n_in_fc1 + n_out_fc1)),\n",
    "                                                size=(n_in_fc1, n_out_fc1)),\n",
    "                                    dtype=theano.config.floatX),\n",
    "                    name='W_layer3', borrow=True)\n",
    "\n",
    "        \n",
    "b_layer3 = theano.shared(value=np.zeros((n_out_fc1,), dtype=theano.config.floatX), name='b_layer3', borrow=True)\n",
    "\n",
    "output_layer3 = T.nnet.relu(T.dot(input_layer3, W_layer3) + b_layer3)"
   ]
  },
  {
   "cell_type": "code",
   "execution_count": 40,
   "metadata": {
    "collapsed": false
   },
   "outputs": [],
   "source": [
    "n_in_fc2 = n_out_fc1\n",
    "\n",
    "W_layer4 = theano.shared(value=np.asarray(\n",
    "                                    rng.uniform( low=-np.sqrt(6. / (n_in_fc2 + n_out_fc2)),\n",
    "                                                 high=np.sqrt(6. / (n_in_fc2 + n_out_fc2)),\n",
    "                                                size=(n_in_fc2, n_out_fc2)),\n",
    "                                    dtype=theano.config.floatX),\n",
    "                    name='W_layer4', borrow=True)\n",
    "\n",
    "        \n",
    "b_layer4 = theano.shared(value=np.zeros((n_out_fc2,), dtype=theano.config.floatX), name='b_layer4', borrow=True)\n",
    "\n",
    "output_layer4 = T.nnet.relu(T.dot(output_layer3, W_layer4) + b_layer4)"
   ]
  },
  {
   "cell_type": "code",
   "execution_count": 41,
   "metadata": {
    "collapsed": true
   },
   "outputs": [],
   "source": [
    "W_logReg = theano.shared(\n",
    "            value=np.zeros(\n",
    "                (n_out_fc2, n_out_softmax),\n",
    "                dtype=theano.config.floatX\n",
    "            ),\n",
    "            name='W_logReg',\n",
    "            borrow=True\n",
    "        )\n",
    "b_logReg = theano.shared(\n",
    "            value=np.zeros(\n",
    "                (n_out_softmax,),\n",
    "                dtype=theano.config.floatX\n",
    "            ),\n",
    "            name='b_logReg',\n",
    "            borrow=True\n",
    "        )"
   ]
  },
  {
   "cell_type": "code",
   "execution_count": 42,
   "metadata": {
    "collapsed": true
   },
   "outputs": [],
   "source": [
    "params = [W_layer1, b_layer1, W_layer2, b_layer2, W_layer3, b_layer3, W_layer4, b_layer4,W_logReg, b_logReg]\n",
    "\n",
    "L1 = sum([abs(param).sum() for param in params])\n",
    "L2 = sum([(param**2).sum() for param in params])\n",
    "\n"
   ]
  },
  {
   "cell_type": "code",
   "execution_count": 43,
   "metadata": {
    "collapsed": false
   },
   "outputs": [],
   "source": [
    "p_y_given_x = T.nnet.softmax(T.dot(output_layer4, W_logReg) + b_logReg)\n",
    "\n",
    "cost = -T.mean(T.log(p_y_given_x)[T.arange(Y.shape[0]), Y]) + mu_1*L1 + mu_2*L2\n",
    "\n",
    "y_pred = T.argmax(p_y_given_x, axis=1)\n",
    "\n",
    "errors = T.mean(T.neq(y_pred, Y))"
   ]
  },
  {
   "cell_type": "code",
   "execution_count": 44,
   "metadata": {
    "collapsed": false
   },
   "outputs": [],
   "source": [
    "validate_model = theano.function( \n",
    "        inputs=[index],\n",
    "        outputs=[cost,errors],\n",
    "        givens={\n",
    "            X: X_valid_shared[index * batch_size: (index + 1) * batch_size],\n",
    "            Y: y_valid_shared[index * batch_size: (index + 1) * batch_size]\n",
    "        }\n",
    "    )"
   ]
  },
  {
   "cell_type": "code",
   "execution_count": 45,
   "metadata": {
    "collapsed": true
   },
   "outputs": [],
   "source": [
    "gparams = [T.grad(cost, param) for param in params]\n",
    "\n",
    "updates = [\n",
    "        (param, param - learning_rate * gparam)\n",
    "        for param, gparam in zip(params, gparams)\n",
    "    ]\n",
    "\n",
    "train_model = theano.function(\n",
    "        inputs=[index],\n",
    "        outputs=cost,\n",
    "        updates=updates,\n",
    "        givens={\n",
    "            X: X_train_shared[index * batch_size: (index + 1) * batch_size],\n",
    "            Y: y_train_shared[index * batch_size: (index + 1) * batch_size]\n",
    "        }\n",
    "    )"
   ]
  },
  {
   "cell_type": "code",
   "execution_count": 46,
   "metadata": {
    "collapsed": false
   },
   "outputs": [],
   "source": [
    "test_model = theano.function(\n",
    "        inputs=[],\n",
    "        outputs=p_y_given_x, \n",
    "        givens={\n",
    "            X: X_test_shared[:]\n",
    "        }\n",
    "    )"
   ]
  },
  {
   "cell_type": "code",
   "execution_count": 49,
   "metadata": {
    "collapsed": false
   },
   "outputs": [
    {
     "data": {
      "image/png": "[encoded data removed]",
      "text/plain": [
       "<matplotlib.figure.Figure at 0x7f958fc20610>"
      ]
     },
     "metadata": {},
     "output_type": "display_data"
    },
    {
     "name": "stdout",
     "output_type": "stream",
     "text": [
      "Entrainement fini : 2285.152054 %\n",
      "en 74 secondes, avec 0.660956 epochs/sec\n"
     ]
    },
    {
     "data": {
      "image/png": "[encoded data removed]",
      "text/plain": [
       "<matplotlib.figure.Figure at 0x7f958fc20610>"
      ]
     },
     "metadata": {},
     "output_type": "display_data"
    }
   ],
   "source": [
    "best_validation_loss = np.inf\n",
    "validation_frequency = 500\n",
    "\n",
    "start_time = timeit.default_timer()\n",
    "for epoch in range(n_epochs):\n",
    "    for minibatch_index in range(n_train_batches):\n",
    "        \n",
    "        minibatch_avg_cost = train_model(minibatch_index)\n",
    "            \n",
    "        # iteration number\n",
    "        iter = (epoch) * n_train_batches + minibatch_index\n",
    "\n",
    "        if (iter + 1) % validation_frequency == 0:\n",
    "            this_validation_loss = np.mean([validate_model(i)[0]for i in range(n_valid_batches)])\n",
    "\n",
    "            pylab.plot([iter], [this_validation_loss], 'bo', label='validation_loss')\n",
    "            IPython.display.clear_output(wait=True)\n",
    "            IPython.display.display(pylab.gcf())\n",
    "        \n",
    "            \n",
    "            if this_validation_loss < best_validation_loss:\n",
    "                best_validation_loss = this_validation_loss\n",
    "\n",
    "end_time = timeit.default_timer()\n",
    "\n",
    "print(( 'Entrainement fini : %f %%') % (best_validation_loss * 100.))\n",
    "    \n",
    "print('en %d secondes, avec %f epochs/sec' % ((end_time - start_time), 1. * epoch / (end_time - start_time)))"
   ]
  },
  {
   "cell_type": "code",
   "execution_count": null,
   "metadata": {
    "collapsed": true
   },
   "outputs": [],
   "source": [
    "predictions = test_model()"
   ]
  },
  {
   "cell_type": "code",
   "execution_count": 49,
   "metadata": {
    "collapsed": false
   },
   "outputs": [],
   "source": []
  },
  {
   "cell_type": "code",
   "execution_count": null,
   "metadata": {
    "collapsed": false
   },
   "outputs": [],
   "source": []
  },
  {
   "cell_type": "code",
   "execution_count": null,
   "metadata": {
    "collapsed": true
   },
   "outputs": [],
   "source": []
  },
  {
   "cell_type": "code",
   "execution_count": null,
   "metadata": {
    "collapsed": false
   },
   "outputs": [],
   "source": []
  },
  {
   "cell_type": "code",
   "execution_count": null,
   "metadata": {
    "collapsed": false
   },
   "outputs": [],
   "source": []
  },
  {
   "cell_type": "code",
   "execution_count": null,
   "metadata": {
    "collapsed": false
   },
   "outputs": [],
   "source": []
  },
  {
   "cell_type": "code",
   "execution_count": null,
   "metadata": {
    "collapsed": false
   },
   "outputs": [],
   "source": []
  },
  {
   "cell_type": "code",
   "execution_count": null,
   "metadata": {
    "collapsed": true
   },
   "outputs": [],
   "source": []
  }
 ],
 "metadata": {
  "kernelspec": {
   "display_name": "Python 2",
   "language": "python",
   "name": "python2"
  },
  "language_info": {
   "codemirror_mode": {
    "name": "ipython",
    "version": 2
   },
   "file_extension": ".py",
   "mimetype": "text/x-python",
   "name": "python",
   "nbconvert_exporter": "python",
   "pygments_lexer": "ipython2",
   "version": "2.7.6"
  }
 },
 "nbformat": 4,
 "nbformat_minor": 1
}
